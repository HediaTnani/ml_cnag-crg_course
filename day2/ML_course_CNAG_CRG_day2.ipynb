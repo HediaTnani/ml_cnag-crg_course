{
  "nbformat": 4,
  "nbformat_minor": 0,
  "metadata": {
    "colab": {
      "name": "ML_course_CNAG-CRG_day2.ipynb",
      "provenance": [],
      "collapsed_sections": [],
      "toc_visible": true
    },
    "kernelspec": {
      "name": "python3",
      "display_name": "Python 3"
    }
  },
  "cells": [
    {
      "cell_type": "markdown",
      "metadata": {
        "id": "Or5AEb1GWJGT"
      },
      "source": [
        "# Supervised learning\n",
        "\n",
        "Supervised learning aims to predict labels of data using annotated examples. Supervised algorithms learn patterns on \"tagged\" data for later predicting the outcome of data which the model has not seen before. \n",
        "\n",
        "There are two branches in supervised learning:\n",
        "\n",
        "\n",
        "*   **Classification:** learns and predicts discrete labels on the data (e.g. Diabetic/Healthy, Dead cell/Live cell...)  \n",
        "*   **Regression:** predicts a continuous value based on the a set of explanatory variables (e.g. weight based on the height or age based on methylation pattern).\n",
        "\n",
        "Two important concepts in supervised learning are **response variable** and the **predictive variables**. Supervised models aim to predict the response varaible using the values from the predictor variables.\n",
        "\n"
      ]
    },
    {
      "cell_type": "markdown",
      "metadata": {
        "id": "pwmpdrgjstIA"
      },
      "source": [
        "Let's look at examples:\n",
        "\n",
        "The iris dataset contains information about 3 species of plants."
      ]
    },
    {
      "cell_type": "code",
      "metadata": {
        "colab": {
          "base_uri": "https://localhost:8080/",
          "height": 204
        },
        "id": "E5aNSYKitRaP",
        "outputId": "1834d301-8bec-4bdd-abb0-a568026094a4"
      },
      "source": [
        "import numpy as np\n",
        "import pandas as pd\n",
        "from sklearn import datasets\n",
        "\n",
        "# load dataset\n",
        "iris_dataset = datasets.load_iris()\n",
        "\n",
        "# create data frame with predictive variables\n",
        "iris_table = pd.DataFrame(data = iris_dataset['data'], \n",
        "                          columns = iris_dataset['feature_names'])\n",
        "\n",
        "# add response varibale to the table\n",
        "iris_table['species'] = pd.Categorical.from_codes(iris_dataset.target, iris_dataset.target_names)\n",
        "\n",
        "# show first five rows of the dataframe\n",
        "iris_table.head()"
      ],
      "execution_count": 94,
      "outputs": [
        {
          "output_type": "execute_result",
          "data": {
            "text/html": [
              "<div>\n",
              "<style scoped>\n",
              "    .dataframe tbody tr th:only-of-type {\n",
              "        vertical-align: middle;\n",
              "    }\n",
              "\n",
              "    .dataframe tbody tr th {\n",
              "        vertical-align: top;\n",
              "    }\n",
              "\n",
              "    .dataframe thead th {\n",
              "        text-align: right;\n",
              "    }\n",
              "</style>\n",
              "<table border=\"1\" class=\"dataframe\">\n",
              "  <thead>\n",
              "    <tr style=\"text-align: right;\">\n",
              "      <th></th>\n",
              "      <th>sepal length (cm)</th>\n",
              "      <th>sepal width (cm)</th>\n",
              "      <th>petal length (cm)</th>\n",
              "      <th>petal width (cm)</th>\n",
              "      <th>species</th>\n",
              "    </tr>\n",
              "  </thead>\n",
              "  <tbody>\n",
              "    <tr>\n",
              "      <th>0</th>\n",
              "      <td>5.1</td>\n",
              "      <td>3.5</td>\n",
              "      <td>1.4</td>\n",
              "      <td>0.2</td>\n",
              "      <td>setosa</td>\n",
              "    </tr>\n",
              "    <tr>\n",
              "      <th>1</th>\n",
              "      <td>4.9</td>\n",
              "      <td>3.0</td>\n",
              "      <td>1.4</td>\n",
              "      <td>0.2</td>\n",
              "      <td>setosa</td>\n",
              "    </tr>\n",
              "    <tr>\n",
              "      <th>2</th>\n",
              "      <td>4.7</td>\n",
              "      <td>3.2</td>\n",
              "      <td>1.3</td>\n",
              "      <td>0.2</td>\n",
              "      <td>setosa</td>\n",
              "    </tr>\n",
              "    <tr>\n",
              "      <th>3</th>\n",
              "      <td>4.6</td>\n",
              "      <td>3.1</td>\n",
              "      <td>1.5</td>\n",
              "      <td>0.2</td>\n",
              "      <td>setosa</td>\n",
              "    </tr>\n",
              "    <tr>\n",
              "      <th>4</th>\n",
              "      <td>5.0</td>\n",
              "      <td>3.6</td>\n",
              "      <td>1.4</td>\n",
              "      <td>0.2</td>\n",
              "      <td>setosa</td>\n",
              "    </tr>\n",
              "  </tbody>\n",
              "</table>\n",
              "</div>"
            ],
            "text/plain": [
              "   sepal length (cm)  sepal width (cm)  ...  petal width (cm)  species\n",
              "0                5.1               3.5  ...               0.2   setosa\n",
              "1                4.9               3.0  ...               0.2   setosa\n",
              "2                4.7               3.2  ...               0.2   setosa\n",
              "3                4.6               3.1  ...               0.2   setosa\n",
              "4                5.0               3.6  ...               0.2   setosa\n",
              "\n",
              "[5 rows x 5 columns]"
            ]
          },
          "metadata": {
            "tags": []
          },
          "execution_count": 94
        }
      ]
    },
    {
      "cell_type": "markdown",
      "metadata": {
        "id": "yXLECBPmGqoj"
      },
      "source": [
        "Another example is the diabetes dataset."
      ]
    },
    {
      "cell_type": "code",
      "metadata": {
        "colab": {
          "base_uri": "https://localhost:8080/",
          "height": 204
        },
        "id": "HJ0CggcFsX-q",
        "outputId": "f5a296ea-2833-4cb8-e289-6bc3f38ce963"
      },
      "source": [
        "# load dataset\n",
        "diabetes_dataset = datasets.load_diabetes()\n",
        "\n",
        "# create data frame with predictive variables\n",
        "diabetes_table = pd.DataFrame(data = diabetes_dataset['data'],\n",
        "                              columns = diabetes_dataset['feature_names'])\n",
        "\n",
        "# add response varibale to the table\n",
        "diabetes_table['disease_progression'] = pd.Series(data = diabetes_dataset['target'])\n",
        "\n",
        "# show first five rows of the dataframe\n",
        "diabetes_table.head()"
      ],
      "execution_count": 4,
      "outputs": [
        {
          "output_type": "execute_result",
          "data": {
            "text/html": [
              "<div>\n",
              "<style scoped>\n",
              "    .dataframe tbody tr th:only-of-type {\n",
              "        vertical-align: middle;\n",
              "    }\n",
              "\n",
              "    .dataframe tbody tr th {\n",
              "        vertical-align: top;\n",
              "    }\n",
              "\n",
              "    .dataframe thead th {\n",
              "        text-align: right;\n",
              "    }\n",
              "</style>\n",
              "<table border=\"1\" class=\"dataframe\">\n",
              "  <thead>\n",
              "    <tr style=\"text-align: right;\">\n",
              "      <th></th>\n",
              "      <th>age</th>\n",
              "      <th>sex</th>\n",
              "      <th>bmi</th>\n",
              "      <th>bp</th>\n",
              "      <th>s1</th>\n",
              "      <th>s2</th>\n",
              "      <th>s3</th>\n",
              "      <th>s4</th>\n",
              "      <th>s5</th>\n",
              "      <th>s6</th>\n",
              "      <th>disease_progression</th>\n",
              "    </tr>\n",
              "  </thead>\n",
              "  <tbody>\n",
              "    <tr>\n",
              "      <th>0</th>\n",
              "      <td>0.038076</td>\n",
              "      <td>0.050680</td>\n",
              "      <td>0.061696</td>\n",
              "      <td>0.021872</td>\n",
              "      <td>-0.044223</td>\n",
              "      <td>-0.034821</td>\n",
              "      <td>-0.043401</td>\n",
              "      <td>-0.002592</td>\n",
              "      <td>0.019908</td>\n",
              "      <td>-0.017646</td>\n",
              "      <td>151.0</td>\n",
              "    </tr>\n",
              "    <tr>\n",
              "      <th>1</th>\n",
              "      <td>-0.001882</td>\n",
              "      <td>-0.044642</td>\n",
              "      <td>-0.051474</td>\n",
              "      <td>-0.026328</td>\n",
              "      <td>-0.008449</td>\n",
              "      <td>-0.019163</td>\n",
              "      <td>0.074412</td>\n",
              "      <td>-0.039493</td>\n",
              "      <td>-0.068330</td>\n",
              "      <td>-0.092204</td>\n",
              "      <td>75.0</td>\n",
              "    </tr>\n",
              "    <tr>\n",
              "      <th>2</th>\n",
              "      <td>0.085299</td>\n",
              "      <td>0.050680</td>\n",
              "      <td>0.044451</td>\n",
              "      <td>-0.005671</td>\n",
              "      <td>-0.045599</td>\n",
              "      <td>-0.034194</td>\n",
              "      <td>-0.032356</td>\n",
              "      <td>-0.002592</td>\n",
              "      <td>0.002864</td>\n",
              "      <td>-0.025930</td>\n",
              "      <td>141.0</td>\n",
              "    </tr>\n",
              "    <tr>\n",
              "      <th>3</th>\n",
              "      <td>-0.089063</td>\n",
              "      <td>-0.044642</td>\n",
              "      <td>-0.011595</td>\n",
              "      <td>-0.036656</td>\n",
              "      <td>0.012191</td>\n",
              "      <td>0.024991</td>\n",
              "      <td>-0.036038</td>\n",
              "      <td>0.034309</td>\n",
              "      <td>0.022692</td>\n",
              "      <td>-0.009362</td>\n",
              "      <td>206.0</td>\n",
              "    </tr>\n",
              "    <tr>\n",
              "      <th>4</th>\n",
              "      <td>0.005383</td>\n",
              "      <td>-0.044642</td>\n",
              "      <td>-0.036385</td>\n",
              "      <td>0.021872</td>\n",
              "      <td>0.003935</td>\n",
              "      <td>0.015596</td>\n",
              "      <td>0.008142</td>\n",
              "      <td>-0.002592</td>\n",
              "      <td>-0.031991</td>\n",
              "      <td>-0.046641</td>\n",
              "      <td>135.0</td>\n",
              "    </tr>\n",
              "  </tbody>\n",
              "</table>\n",
              "</div>"
            ],
            "text/plain": [
              "        age       sex       bmi  ...        s5        s6  disease_progression\n",
              "0  0.038076  0.050680  0.061696  ...  0.019908 -0.017646                151.0\n",
              "1 -0.001882 -0.044642 -0.051474  ... -0.068330 -0.092204                 75.0\n",
              "2  0.085299  0.050680  0.044451  ...  0.002864 -0.025930                141.0\n",
              "3 -0.089063 -0.044642 -0.011595  ...  0.022692 -0.009362                206.0\n",
              "4  0.005383 -0.044642 -0.036385  ... -0.031991 -0.046641                135.0\n",
              "\n",
              "[5 rows x 11 columns]"
            ]
          },
          "metadata": {
            "tags": []
          },
          "execution_count": 4
        }
      ]
    },
    {
      "cell_type": "markdown",
      "metadata": {
        "id": "b4Dl5ldFo9uY"
      },
      "source": [
        "# Regression\n",
        "\n",
        "Regression algorithms learn the relationship between the predictor and the response variable. The output is a numeric value. "
      ]
    },
    {
      "cell_type": "markdown",
      "metadata": {
        "id": "kp4TLMuDoCMi"
      },
      "source": [
        "\n",
        "\n",
        "## Simple linear regression\n",
        "\n",
        "Simple linear regression tries to find the linear relationship between one predictor variable and the response variable. In other words it tries to find the line which best fits the training data. It follows the formula:\n",
        "\n",
        "<br>\n",
        "\n",
        " $$ \n",
        "  \\hat y = \\beta_0 + \\beta_1  x \n",
        " $$\n",
        "\n",
        "<br>\n",
        "\n",
        "* $\\hat y = $ predicted value\n",
        "* $x$ = predictor variable\n",
        "* $\\beta_1$ = model coefficient (slope of the line in simple linear regression)\n",
        "* $\\beta_0$ = bias term (intercept in simple linear regression)\n",
        "\n",
        "Let's see a simple example with the iris dataset:\n",
        "\n"
      ]
    },
    {
      "cell_type": "code",
      "metadata": {
        "colab": {
          "base_uri": "https://localhost:8080/",
          "height": 400
        },
        "id": "IY9BNRZE4n3S",
        "outputId": "f1f28d62-3837-431c-e07b-dc7efb005f6d"
      },
      "source": [
        "import seaborn as sns\n",
        "%matplotlib inline\n",
        "\n",
        "sns.relplot(data = iris_table,\n",
        "            x = iris_table.columns[2], y = iris_table.columns[3])"
      ],
      "execution_count": 21,
      "outputs": [
        {
          "output_type": "execute_result",
          "data": {
            "text/plain": [
              "<seaborn.axisgrid.FacetGrid at 0x7fa8f8d39b50>"
            ]
          },
          "metadata": {
            "tags": []
          },
          "execution_count": 21
        },
        {
          "output_type": "display_data",
          "data": {
            "image/png": "[encoded data removed]",
            "text/plain": [
              "<Figure size 360x360 with 1 Axes>"
            ]
          },
          "metadata": {
            "tags": [],
            "needs_background": "light"
          }
        }
      ]
    },
    {
      "cell_type": "markdown",
      "metadata": {
        "id": "cW3lm-aK48ti"
      },
      "source": [
        "Fit a linear regression model to the data."
      ]
    },
    {
      "cell_type": "code",
      "metadata": {
        "colab": {
          "base_uri": "https://localhost:8080/"
        },
        "id": "VF5tqlMfpGMp",
        "outputId": "63fd255e-6049-4601-dbe6-315ca5124c54"
      },
      "source": [
        "from sklearn import linear_model\n",
        "\n",
        "# create a linear regression object\n",
        "regres_iris = linear_model.LinearRegression()\n",
        "\n",
        "# create new arrays for the predictive and response variables\n",
        "y_petal_width = iris_dataset['data'][:, np.newaxis, 3]\n",
        "x_petal_length = iris_dataset['data'][:, np.newaxis, 2]\n",
        "\n",
        "# fit linear regression model to the data\n",
        "regres_iris.fit(x_petal_length, y_petal_width)\n",
        "\n",
        "# extract slope \n",
        "m = float(regres_iris.coef_)\n",
        "\n",
        "# extract intercept\n",
        "n = float(regres_iris.intercept_)\n",
        "\n",
        "print('slope = {} and intercept = {}'.format(m, n))"
      ],
      "execution_count": 6,
      "outputs": [
        {
          "output_type": "stream",
          "text": [
            "slope = 0.41575541635241153 and intercept = -0.3630755213190291\n"
          ],
          "name": "stdout"
        }
      ]
    },
    {
      "cell_type": "markdown",
      "metadata": {
        "id": "yUz9Hl3g_h2J"
      },
      "source": [
        "Plot fitted line"
      ]
    },
    {
      "cell_type": "code",
      "metadata": {
        "colab": {
          "base_uri": "https://localhost:8080/",
          "height": 282
        },
        "id": "L51G_pSb_QxK",
        "outputId": "a233e9f1-6645-40c5-a593-05c42c52c1fb"
      },
      "source": [
        "import matplotlib.pyplot as plt\n",
        "plt.plot(iris_dataset['data'][:,2],iris_dataset['data'][:,3], 'o')\n",
        "plt.plot(iris_dataset['data'][:,2], m*iris_dataset['data'][:,2] + n)"
      ],
      "execution_count": 22,
      "outputs": [
        {
          "output_type": "execute_result",
          "data": {
            "text/plain": [
              "[<matplotlib.lines.Line2D at 0x7fa8f8c1c810>]"
            ]
          },
          "metadata": {
            "tags": []
          },
          "execution_count": 22
        },
        {
          "output_type": "display_data",
          "data": {
            "image/png": "[encoded data removed]",
            "text/plain": [
              "<Figure size 432x288 with 1 Axes>"
            ]
          },
          "metadata": {
            "tags": [],
            "needs_background": "light"
          }
        }
      ]
    },
    {
      "cell_type": "markdown",
      "metadata": {
        "id": "w6zb8QTbHGKc"
      },
      "source": [
        "The linear model follows the equation shown above:\n",
        "\n",
        "<br>\n",
        "\n",
        " $$ \n",
        "  \\hat y = \\beta_0 + \\beta_1  x \n",
        " $$\n",
        "\n",
        "<br>\n",
        "\n",
        "* $ \\beta_1 $ = 0.42\n",
        "* $ \\beta_0 $ = -0.36\n",
        "\n",
        "<br>\n",
        "\n",
        "How are $ \\beta_1 $ and $ \\beta_2 $ estimated? In other words how is the line which fits the data best found?\n",
        "\n",
        "### Root Mean Square Error (RMSE)\n",
        "\n",
        "In regression algorithms the aim is to find the model which minimises the loss function. Choosing the apropriate loss function is key in machine learning. In the case of linear regression the **Root mean square error**  is generally chosen. It follows the formula:\n",
        "\n",
        "$$ RMSE(\\beta) =  \\sqrt {\\frac{1}{N}\\sum_{i=1}^{N} (\\hat y - y)^2}$$\n",
        "\n",
        "\n",
        "\n",
        "\n",
        "* $\\beta$ = {$\\beta_0, \\beta_1$... $\\beta_n$}\n",
        "* $N$ = number of data points\n",
        "* $\\hat y$ = predicted value\n",
        "* $y$ = true value\n",
        "\n",
        "<br>\n",
        "\n",
        "Let's see look at an example in this figure:\n",
        "\n",
        "![image.png](https://littleml.files.wordpress.com/2019/03/residuals-1.png)\n",
        "\n",
        "\n",
        "<br>\n",
        "\n",
        "The differences between the predicted values and the true values are called residuals. When our model is unbiased we expect the residuals to be distributed randomly on both sides of \n",
        "\n",
        "\n",
        "\n",
        "\n",
        "\n",
        "\n",
        "\n"
      ]
    },
    {
      "cell_type": "code",
      "metadata": {
        "colab": {
          "base_uri": "https://localhost:8080/",
          "height": 336
        },
        "id": "OuLFpzIWEwD4",
        "outputId": "d4080c80-b20f-4e3a-f881-0c843489e3e2"
      },
      "source": [
        "# create a residuals plot\n",
        "sns.residplot(iris_dataset['data'][:,2],iris_dataset['data'][:,3])"
      ],
      "execution_count": 8,
      "outputs": [
        {
          "output_type": "stream",
          "text": [
            "/usr/local/lib/python3.7/dist-packages/seaborn/_decorators.py:43: FutureWarning: Pass the following variables as keyword args: x, y. From version 0.12, the only valid positional argument will be `data`, and passing other arguments without an explicit keyword will result in an error or misinterpretation.\n",
            "  FutureWarning\n"
          ],
          "name": "stderr"
        },
        {
          "output_type": "execute_result",
          "data": {
            "text/plain": [
              "<matplotlib.axes._subplots.AxesSubplot at 0x7fa8fe266c50>"
            ]
          },
          "metadata": {
            "tags": []
          },
          "execution_count": 8
        },
        {
          "output_type": "display_data",
          "data": {
            "image/png": "[encoded data removed]",
            "text/plain": [
              "<Figure size 432x288 with 1 Axes>"
            ]
          },
          "metadata": {
            "tags": [],
            "needs_background": "light"
          }
        }
      ]
    },
    {
      "cell_type": "markdown",
      "metadata": {
        "id": "1YbEWXWhVwA5"
      },
      "source": [
        "For linear regression models, the is a closed-formed solution to compute the best coefficient values using the [Normal equation](https://towardsdatascience.com/performing-linear-regression-using-the-normal-equation-6372ed3c57)."
      ]
    },
    {
      "cell_type": "markdown",
      "metadata": {
        "id": "wqvHUZIbpGMc"
      },
      "source": [
        "### Build linear model\n",
        "\n",
        "Let's now fit a simple linear model to the iris dataset and make predictions. We will set the Petal width as response variable and the petal length as predictor variable.\n",
        "\n",
        "\n",
        "The process has the following steps:\n",
        "\n",
        "1. Split dataset into training and test set\n",
        "2. Fit linear model to the training data\n",
        "3. Apply the model to test set.\n",
        "4. Evaluate the model performance (RMSE and $R^2$)"
      ]
    },
    {
      "cell_type": "code",
      "metadata": {
        "colab": {
          "base_uri": "https://localhost:8080/",
          "height": 669
        },
        "id": "8x35qsQOb4kp",
        "outputId": "057a9a41-9e47-4c5c-8e29-30b1bef4edd7"
      },
      "source": [
        "import random\n",
        "random.seed(10)\n",
        "\n",
        "# sample 20 random numbers from 1 to number of rows in dataset\n",
        "rows_test = random.sample(range(0,x_petal_length.shape[0]),20)\n",
        "rows_train = np.setxor1d(rows_test, list(range(0, x_petal_length.shape[0])))\n",
        "\n",
        "# split predictor variable into test and training set\n",
        "x_length_train = np.delete(x_petal_length, rows_test)[:,np.newaxis]\n",
        "x_length_test = np.delete(x_petal_length, rows_train)[:,np.newaxis]\n",
        "\n",
        "# split response varibale into test and training set\n",
        "y_width_train = np.delete(y_petal_width, rows_test)[:, np.newaxis]\n",
        "y_width_test = np.delete(y_petal_width, rows_train)[:,np.newaxis]\n",
        "\n",
        "# fit a linear model to the training data\n",
        "regres_iris.fit(x_length_train, y_width_train)\n",
        "\n",
        "# make predictions on the test set\n",
        "y_width_pred = regres_iris.predict(x_length_test)\n",
        "\n",
        "# create data frame with predicted and true values\n",
        "pred_table_width = pd.DataFrame.from_dict({'Predicted_width': y_width_pred.flatten(), 'True_width': y_width_test.flatten()})\n",
        "\n",
        "# print data frame \n",
        "pred_table_width\n",
        "\n"
      ],
      "execution_count": 9,
      "outputs": [
        {
          "output_type": "execute_result",
          "data": {
            "text/html": [
              "<div>\n",
              "<style scoped>\n",
              "    .dataframe tbody tr th:only-of-type {\n",
              "        vertical-align: middle;\n",
              "    }\n",
              "\n",
              "    .dataframe tbody tr th {\n",
              "        vertical-align: top;\n",
              "    }\n",
              "\n",
              "    .dataframe thead th {\n",
              "        text-align: right;\n",
              "    }\n",
              "</style>\n",
              "<table border=\"1\" class=\"dataframe\">\n",
              "  <thead>\n",
              "    <tr style=\"text-align: right;\">\n",
              "      <th></th>\n",
              "      <th>Predicted_width</th>\n",
              "      <th>True_width</th>\n",
              "    </tr>\n",
              "  </thead>\n",
              "  <tbody>\n",
              "    <tr>\n",
              "      <th>0</th>\n",
              "      <td>0.337636</td>\n",
              "      <td>0.4</td>\n",
              "    </tr>\n",
              "    <tr>\n",
              "      <th>1</th>\n",
              "      <td>0.212618</td>\n",
              "      <td>0.3</td>\n",
              "    </tr>\n",
              "    <tr>\n",
              "      <th>2</th>\n",
              "      <td>0.087600</td>\n",
              "      <td>0.1</td>\n",
              "    </tr>\n",
              "    <tr>\n",
              "      <th>3</th>\n",
              "      <td>0.212618</td>\n",
              "      <td>0.3</td>\n",
              "    </tr>\n",
              "    <tr>\n",
              "      <th>4</th>\n",
              "      <td>0.045928</td>\n",
              "      <td>0.2</td>\n",
              "    </tr>\n",
              "    <tr>\n",
              "      <th>5</th>\n",
              "      <td>0.212618</td>\n",
              "      <td>0.2</td>\n",
              "    </tr>\n",
              "    <tr>\n",
              "      <th>6</th>\n",
              "      <td>1.671159</td>\n",
              "      <td>1.5</td>\n",
              "    </tr>\n",
              "    <tr>\n",
              "      <th>7</th>\n",
              "      <td>1.296106</td>\n",
              "      <td>1.3</td>\n",
              "    </tr>\n",
              "    <tr>\n",
              "      <th>8</th>\n",
              "      <td>1.504469</td>\n",
              "      <td>1.3</td>\n",
              "    </tr>\n",
              "    <tr>\n",
              "      <th>9</th>\n",
              "      <td>1.629487</td>\n",
              "      <td>1.8</td>\n",
              "    </tr>\n",
              "    <tr>\n",
              "      <th>10</th>\n",
              "      <td>1.296106</td>\n",
              "      <td>1.3</td>\n",
              "    </tr>\n",
              "    <tr>\n",
              "      <th>11</th>\n",
              "      <td>1.754505</td>\n",
              "      <td>1.6</td>\n",
              "    </tr>\n",
              "    <tr>\n",
              "      <th>12</th>\n",
              "      <td>1.921195</td>\n",
              "      <td>2.1</td>\n",
              "    </tr>\n",
              "    <tr>\n",
              "      <th>13</th>\n",
              "      <td>2.004540</td>\n",
              "      <td>2.3</td>\n",
              "    </tr>\n",
              "    <tr>\n",
              "      <th>14</th>\n",
              "      <td>2.046213</td>\n",
              "      <td>1.6</td>\n",
              "    </tr>\n",
              "    <tr>\n",
              "      <th>15</th>\n",
              "      <td>1.962868</td>\n",
              "      <td>2.2</td>\n",
              "    </tr>\n",
              "    <tr>\n",
              "      <th>16</th>\n",
              "      <td>1.921195</td>\n",
              "      <td>1.8</td>\n",
              "    </tr>\n",
              "    <tr>\n",
              "      <th>17</th>\n",
              "      <td>1.629487</td>\n",
              "      <td>1.8</td>\n",
              "    </tr>\n",
              "    <tr>\n",
              "      <th>18</th>\n",
              "      <td>2.087885</td>\n",
              "      <td>2.3</td>\n",
              "    </tr>\n",
              "    <tr>\n",
              "      <th>19</th>\n",
              "      <td>1.754505</td>\n",
              "      <td>1.8</td>\n",
              "    </tr>\n",
              "  </tbody>\n",
              "</table>\n",
              "</div>"
            ],
            "text/plain": [
              "    Predicted_width  True_width\n",
              "0          0.337636         0.4\n",
              "1          0.212618         0.3\n",
              "2          0.087600         0.1\n",
              "3          0.212618         0.3\n",
              "4          0.045928         0.2\n",
              "5          0.212618         0.2\n",
              "6          1.671159         1.5\n",
              "7          1.296106         1.3\n",
              "8          1.504469         1.3\n",
              "9          1.629487         1.8\n",
              "10         1.296106         1.3\n",
              "11         1.754505         1.6\n",
              "12         1.921195         2.1\n",
              "13         2.004540         2.3\n",
              "14         2.046213         1.6\n",
              "15         1.962868         2.2\n",
              "16         1.921195         1.8\n",
              "17         1.629487         1.8\n",
              "18         2.087885         2.3\n",
              "19         1.754505         1.8"
            ]
          },
          "metadata": {
            "tags": []
          },
          "execution_count": 9
        }
      ]
    },
    {
      "cell_type": "code",
      "metadata": {
        "colab": {
          "base_uri": "https://localhost:8080/",
          "height": 401
        },
        "id": "tVnzuJXjCQAy",
        "outputId": "753a7d32-6780-4de4-cb81-6365cd0c7896"
      },
      "source": [
        "# Make scatter plot of predicted vs true sepal width\n",
        "sns.relplot(data = pred_table_width,\n",
        "            x = pred_table_width.columns[1], y = pred_table_width.columns[0])"
      ],
      "execution_count": 10,
      "outputs": [
        {
          "output_type": "execute_result",
          "data": {
            "text/plain": [
              "<seaborn.axisgrid.FacetGrid at 0x7fa8fe304150>"
            ]
          },
          "metadata": {
            "tags": []
          },
          "execution_count": 10
        },
        {
          "output_type": "display_data",
          "data": {
            "image/png": "[encoded data removed]",
            "text/plain": [
              "<Figure size 360x360 with 1 Axes>"
            ]
          },
          "metadata": {
            "tags": [],
            "needs_background": "light"
          }
        }
      ]
    },
    {
      "cell_type": "code",
      "metadata": {
        "colab": {
          "base_uri": "https://localhost:8080/"
        },
        "id": "fAEDu-YBALpV",
        "outputId": "3d17178d-d549-44dc-9990-142bc8eb74a2"
      },
      "source": [
        "from sklearn import metrics\n",
        "\n",
        "# get RMSE\n",
        "metrics.mean_squared_error(y_width_pred, y_width_test,\n",
        "                           squared = False)\n"
      ],
      "execution_count": 45,
      "outputs": [
        {
          "output_type": "execute_result",
          "data": {
            "text/plain": [
              "0.17786543012780015"
            ]
          },
          "metadata": {
            "tags": []
          },
          "execution_count": 45
        }
      ]
    },
    {
      "cell_type": "markdown",
      "metadata": {
        "id": "OQb-GcXsDFlt"
      },
      "source": [
        "### Coeficient of determination ($ R^2$)\n",
        "\n",
        "There are other metrics to evaluate the performance of the linear model. The coefficient of determination or R-squared ($R^2$) measures the proportion of total variance of the response variable explained by the model. The higher the R-squared the model fits to the data. It follows the equation:\n",
        "\n",
        "<br>\n",
        "\n",
        "$$ R^2 = 1 - \\frac {SS_{res}}{SS_{tot}} = 1 - \\frac {\\sum_{i=1}^{N} (\\hat y - y)^2}{\\sum_{i=1}^{N}(y - \\bar y)^2} $$\n",
        "\n",
        "* $ \\hat y = $ predicted value\n",
        "* $ y = $ true value\n",
        "* $ \\bar y =  $ mean of response variable\n",
        "* $ N = $ number of data points\n",
        "\n",
        "We can now compute the $R^2$ of our model\n"
      ]
    },
    {
      "cell_type": "code",
      "metadata": {
        "colab": {
          "base_uri": "https://localhost:8080/"
        },
        "id": "W2ttWUbSS1uK",
        "outputId": "b9d31bba-981c-413c-e502-e96dc8ea002c"
      },
      "source": [
        "# get squared R \n",
        "metrics.r2_score(y_width_test, y_width_pred)"
      ],
      "execution_count": 12,
      "outputs": [
        {
          "output_type": "execute_result",
          "data": {
            "text/plain": [
              "0.9441945471255118"
            ]
          },
          "metadata": {
            "tags": []
          },
          "execution_count": 12
        }
      ]
    },
    {
      "cell_type": "markdown",
      "metadata": {
        "id": "Z-HOopXXU5cn"
      },
      "source": [
        "## Multiple linear regression\n",
        "\n",
        "In many cases we have more than one predictor variable describing the response variable. The same linear regression model can be applied in such cases. In that case there is one additional parameter per additional predictor variable. With these multidimensional data instead of finding the line which best fits the data, the plane (2 predictor variables) or hyperplane (more than 2 predictor variables) is sought.\n",
        "\n",
        "<br>\n",
        "\n",
        "$$ \\hat y = \\beta_0 + \\beta_1x_{1} + \\beta_2x_{2} ... \\beta_nx_{n} $$ \n",
        "\n",
        "<br>\n",
        "\n",
        "* $\\hat y $ = predicted value \n",
        "* $ \\beta_i $ = parameters or coefficients of the model\n",
        "* $ x_{i} $ = predictor variable  \n",
        "\n",
        "<br> \n",
        "\n",
        "Let's fit a multiple linear regression model to the diabetes dataset. \n"
      ]
    },
    {
      "cell_type": "code",
      "metadata": {
        "colab": {
          "base_uri": "https://localhost:8080/",
          "height": 297
        },
        "id": "5fhxGFv6aBLL",
        "outputId": "70aa6214-71d1-4105-decf-4c75fc31a2cd"
      },
      "source": [
        "# make histogram of disease progression values\n",
        "sns.histplot(data = diabetes_table, x = 'disease_progression')"
      ],
      "execution_count": 16,
      "outputs": [
        {
          "output_type": "execute_result",
          "data": {
            "text/plain": [
              "<matplotlib.axes._subplots.AxesSubplot at 0x7fa8fd855f90>"
            ]
          },
          "metadata": {
            "tags": []
          },
          "execution_count": 16
        },
        {
          "output_type": "display_data",
          "data": {
            "image/png": "[encoded data removed]",
            "text/plain": [
              "<Figure size 432x288 with 1 Axes>"
            ]
          },
          "metadata": {
            "tags": [],
            "needs_background": "light"
          }
        }
      ]
    },
    {
      "cell_type": "code",
      "metadata": {
        "colab": {
          "base_uri": "https://localhost:8080/",
          "height": 419
        },
        "id": "XPAFs1F_bfoC",
        "outputId": "9c6c6f12-aee6-42c6-b124-5af04a3bc749"
      },
      "source": [
        "from sklearn.model_selection import train_test_split\n",
        "\n",
        "# split dataset into test and training set\n",
        "x_pred_train, x_pred_test, y_progr_train, y_progr_test = train_test_split(diabetes_dataset['data'], diabetes_dataset['target'],\n",
        "                                                                          test_size = 0.2, random_state = 42)\n",
        "\n",
        "# create a linear regression object\n",
        "diab_lin_model = linear_model.LinearRegression()\n",
        "\n",
        "# fit the linear model to the training data\n",
        "diab_lin_model = diab_lin_model.fit(x_pred_train, y_progr_train)\n",
        "\n",
        "# predict values of test set\n",
        "diab_pred = diab_lin_model.predict(x_pred_test)\n",
        "\n",
        "# make data frame with predicted and true values\n",
        "pred_table_diab = pd.DataFrame.from_dict({'Predicted_progression': diab_pred.flatten(), 'True_progression': y_progr_test.flatten()})\n",
        "\n",
        "# print data frame \n",
        "pred_table_diab\n",
        "\n"
      ],
      "execution_count": 40,
      "outputs": [
        {
          "output_type": "execute_result",
          "data": {
            "text/html": [
              "<div>\n",
              "<style scoped>\n",
              "    .dataframe tbody tr th:only-of-type {\n",
              "        vertical-align: middle;\n",
              "    }\n",
              "\n",
              "    .dataframe tbody tr th {\n",
              "        vertical-align: top;\n",
              "    }\n",
              "\n",
              "    .dataframe thead th {\n",
              "        text-align: right;\n",
              "    }\n",
              "</style>\n",
              "<table border=\"1\" class=\"dataframe\">\n",
              "  <thead>\n",
              "    <tr style=\"text-align: right;\">\n",
              "      <th></th>\n",
              "      <th>Predicted_progression</th>\n",
              "      <th>True_progression</th>\n",
              "    </tr>\n",
              "  </thead>\n",
              "  <tbody>\n",
              "    <tr>\n",
              "      <th>0</th>\n",
              "      <td>139.548313</td>\n",
              "      <td>219.0</td>\n",
              "    </tr>\n",
              "    <tr>\n",
              "      <th>1</th>\n",
              "      <td>179.520306</td>\n",
              "      <td>70.0</td>\n",
              "    </tr>\n",
              "    <tr>\n",
              "      <th>2</th>\n",
              "      <td>134.041333</td>\n",
              "      <td>202.0</td>\n",
              "    </tr>\n",
              "    <tr>\n",
              "      <th>3</th>\n",
              "      <td>291.411936</td>\n",
              "      <td>230.0</td>\n",
              "    </tr>\n",
              "    <tr>\n",
              "      <th>4</th>\n",
              "      <td>123.787237</td>\n",
              "      <td>111.0</td>\n",
              "    </tr>\n",
              "    <tr>\n",
              "      <th>...</th>\n",
              "      <td>...</td>\n",
              "      <td>...</td>\n",
              "    </tr>\n",
              "    <tr>\n",
              "      <th>84</th>\n",
              "      <td>115.009746</td>\n",
              "      <td>153.0</td>\n",
              "    </tr>\n",
              "    <tr>\n",
              "      <th>85</th>\n",
              "      <td>78.958867</td>\n",
              "      <td>98.0</td>\n",
              "    </tr>\n",
              "    <tr>\n",
              "      <th>86</th>\n",
              "      <td>81.557314</td>\n",
              "      <td>37.0</td>\n",
              "    </tr>\n",
              "    <tr>\n",
              "      <th>87</th>\n",
              "      <td>54.377478</td>\n",
              "      <td>63.0</td>\n",
              "    </tr>\n",
              "    <tr>\n",
              "      <th>88</th>\n",
              "      <td>166.254778</td>\n",
              "      <td>184.0</td>\n",
              "    </tr>\n",
              "  </tbody>\n",
              "</table>\n",
              "<p>89 rows × 2 columns</p>\n",
              "</div>"
            ],
            "text/plain": [
              "    Predicted_progression  True_progression\n",
              "0              139.548313             219.0\n",
              "1              179.520306              70.0\n",
              "2              134.041333             202.0\n",
              "3              291.411936             230.0\n",
              "4              123.787237             111.0\n",
              "..                    ...               ...\n",
              "84             115.009746             153.0\n",
              "85              78.958867              98.0\n",
              "86              81.557314              37.0\n",
              "87              54.377478              63.0\n",
              "88             166.254778             184.0\n",
              "\n",
              "[89 rows x 2 columns]"
            ]
          },
          "metadata": {
            "tags": []
          },
          "execution_count": 40
        }
      ]
    },
    {
      "cell_type": "code",
      "metadata": {
        "colab": {
          "base_uri": "https://localhost:8080/",
          "height": 401
        },
        "id": "_qWM5oHPfmpv",
        "outputId": "d8c814b0-7ad4-4d82-807c-f2d6fe2375b6"
      },
      "source": [
        "# plot predicted values vs real values\n",
        "sns.relplot(data = pred_table_diab,\n",
        "            x = pred_table_diab.columns[1], y = pred_table_diab.columns[0])"
      ],
      "execution_count": 41,
      "outputs": [
        {
          "output_type": "execute_result",
          "data": {
            "text/plain": [
              "<seaborn.axisgrid.FacetGrid at 0x7fa8f8ad9450>"
            ]
          },
          "metadata": {
            "tags": []
          },
          "execution_count": 41
        },
        {
          "output_type": "display_data",
          "data": {
            "image/png": "[encoded data removed]",
            "text/plain": [
              "<Figure size 360x360 with 1 Axes>"
            ]
          },
          "metadata": {
            "tags": [],
            "needs_background": "light"
          }
        }
      ]
    },
    {
      "cell_type": "code",
      "metadata": {
        "colab": {
          "base_uri": "https://localhost:8080/"
        },
        "id": "ZSfbI-sfgc1w",
        "outputId": "b40c13be-184a-4576-e9e4-458082c62af8"
      },
      "source": [
        "# get RMSE\n",
        "rmse_diab = metrics.mean_squared_error(y_progr_test, diab_pred,\n",
        "                                       squared = False)\n",
        "\n",
        "print('The RMSE of the model is {}'.format(rmse_diab))"
      ],
      "execution_count": 48,
      "outputs": [
        {
          "output_type": "stream",
          "text": [
            "The RMSE of the model is 53.8532569849144\n"
          ],
          "name": "stdout"
        }
      ]
    },
    {
      "cell_type": "code",
      "metadata": {
        "colab": {
          "base_uri": "https://localhost:8080/"
        },
        "id": "aIl8RIyPf0dW",
        "outputId": "88a53a3e-b532-46a4-c68c-559e5043ef92"
      },
      "source": [
        "# get squared R \n",
        "rsqr_diab = metrics.r2_score(y_progr_test, diab_pred)\n",
        "\n",
        "print('The R^2 of the model is {}'.format(rsqr_diab))"
      ],
      "execution_count": 49,
      "outputs": [
        {
          "output_type": "stream",
          "text": [
            "The R^2 of the model is 0.452606602161738\n"
          ],
          "name": "stdout"
        }
      ]
    },
    {
      "cell_type": "markdown",
      "metadata": {
        "id": "esm4lmrznkeo"
      },
      "source": [
        "## Polynomial regression\n",
        "\n",
        "There are occasions in which the relationship between the dependent and independent variables is not linear. In such cases a linear regression model would not fit the data well. \n",
        "\n",
        "Let's see an example:"
      ]
    },
    {
      "cell_type": "code",
      "metadata": {
        "colab": {
          "base_uri": "https://localhost:8080/",
          "height": 401
        },
        "id": "oN6XZRwlhg7i",
        "outputId": "0030cd7f-0d44-452b-b363-b82bb7ebe873"
      },
      "source": [
        "# load boston dataset\n",
        "boston_dataset = datasets.load_boston()\n",
        "\n",
        "# get dependent and independent variables as arrays\n",
        "y_nox = boston_dataset['data'][:, np.newaxis ,4]\n",
        "x_dis = boston_dataset['data'][:, np.newaxis ,7]\n",
        "\n",
        "# make dataframe with dependent and independent variable\n",
        "boston_table = pd.DataFrame.from_dict({'y_nox': y_nox.flatten(),\n",
        "                                       'x_dis': x_dis.flatten()})\n",
        "\n",
        "# make scatter plot\n",
        "sns.relplot(data = boston_table, x = boston_table.columns[1], y = boston_table.columns[0])"
      ],
      "execution_count": 159,
      "outputs": [
        {
          "output_type": "execute_result",
          "data": {
            "text/plain": [
              "<seaborn.axisgrid.FacetGrid at 0x7fa8ee31df50>"
            ]
          },
          "metadata": {
            "tags": []
          },
          "execution_count": 159
        },
        {
          "output_type": "display_data",
          "data": {
            "image/png": "[encoded data removed]",
            "text/plain": [
              "<Figure size 360x360 with 1 Axes>"
            ]
          },
          "metadata": {
            "tags": [],
            "needs_background": "light"
          }
        }
      ]
    },
    {
      "cell_type": "code",
      "metadata": {
        "colab": {
          "base_uri": "https://localhost:8080/"
        },
        "id": "sMD4zVfVw6GH",
        "outputId": "4b65fe47-f299-494f-ee63-15c87ca4c958"
      },
      "source": [
        "# fit a simple linear regression model\n",
        "bost_lin_model = linear_model.LinearRegression().fit(x_dis, y_nox)\n",
        "\n",
        "# compute squared R\n",
        "rsqr_bos_lin = metrics.r2_score(y_nox, bost_lin_model.predict(x_dis))\n",
        "\n",
        "print('The R^2 of the model is {}'.format(rsqr_bos_lin"
      ],
      "execution_count": 127,
      "outputs": [
        {
          "output_type": "stream",
          "text": [
            "The R^2 of the model is 0.5917149670934201\n"
          ],
          "name": "stdout"
        }
      ]
    },
    {
      "cell_type": "code",
      "metadata": {
        "colab": {
          "base_uri": "https://localhost:8080/"
        },
        "id": "iYZXNSeVBujv",
        "outputId": "bd228de3-096b-4200-a5b4-0b5abca98b36"
      },
      "source": [
        "# get RMSE\n",
        "rmse_bos_lin = metrics.mean_squared_error(y_nox, bost_lin_model.predict(x_dis),\n",
        "                                         squared = False)\n",
        "\n",
        "print('The RMSE of the model is {}'.format(rmse_bos_lin))"
      ],
      "execution_count": 183,
      "outputs": [
        {
          "output_type": "stream",
          "text": [
            "The RMSE of the model is 0.07396937272094305\n"
          ],
          "name": "stdout"
        }
      ]
    },
    {
      "cell_type": "code",
      "metadata": {
        "colab": {
          "base_uri": "https://localhost:8080/",
          "height": 285
        },
        "id": "jU3dIrnw15u2",
        "outputId": "a529777b-84e4-4619-ac52-0a80e758dbdf"
      },
      "source": [
        "# make scatter plot with fitted line\n",
        "plt.plot(x_dis, y_nox, 'o')\n",
        "plt.plot(x_dis, bost_lin_model.predict(x_dis), 'r')\n",
        "\n"
      ],
      "execution_count": 197,
      "outputs": [
        {
          "output_type": "execute_result",
          "data": {
            "text/plain": [
              "[<matplotlib.lines.Line2D at 0x7fa8eecffb50>]"
            ]
          },
          "metadata": {
            "tags": []
          },
          "execution_count": 197
        },
        {
          "output_type": "display_data",
          "data": {
            "image/png": "[encoded data removed]",
            "text/plain": [
              "<Figure size 432x288 with 1 Axes>"
            ]
          },
          "metadata": {
            "tags": [],
            "needs_background": "light"
          }
        }
      ]
    },
    {
      "cell_type": "code",
      "metadata": {
        "colab": {
          "base_uri": "https://localhost:8080/",
          "height": 282
        },
        "id": "yi3CerHb42FT",
        "outputId": "47a993ee-2309-48d5-80fd-f0a60539977a"
      },
      "source": [
        "# make residuals plot\n",
        "sns.residplot(x = x_dis.flatten(), y = y_nox.flatten())"
      ],
      "execution_count": 148,
      "outputs": [
        {
          "output_type": "execute_result",
          "data": {
            "text/plain": [
              "<matplotlib.axes._subplots.AxesSubplot at 0x7fa8ed7ba510>"
            ]
          },
          "metadata": {
            "tags": []
          },
          "execution_count": 148
        },
        {
          "output_type": "display_data",
          "data": {
            "image/png": "[encoded data removed]",
            "text/plain": [
              "<Figure size 432x288 with 1 Axes>"
            ]
          },
          "metadata": {
            "tags": [],
            "needs_background": "light"
          }
        }
      ]
    },
    {
      "cell_type": "markdown",
      "metadata": {
        "id": "A0f7hi7n9FtG"
      },
      "source": [
        "The following steps are done when carrying out polynomial regression:\n",
        "\n",
        "1. Generate polynomial features from original features.\n",
        "2. Fit a linear regression model to the extended feature set.\n",
        "3. Evalute the fit of the model\n",
        "\n",
        "<br>"
      ]
    },
    {
      "cell_type": "code",
      "metadata": {
        "colab": {
          "base_uri": "https://localhost:8080/"
        },
        "id": "qsP2xin47al2",
        "outputId": "48c49c1b-b65a-44b7-f3fb-248856d3dc94"
      },
      "source": [
        "from sklearn.preprocessing import PolynomialFeatures\n",
        "\n",
        "# generate new features (second degree polynomial)\n",
        "poly_features = PolynomialFeatures(degree = 2, include_bias = False)\n",
        "x_dis_poly = poly_features.fit_transform(x_dis)\n",
        "\n",
        "x_dis_poly[0]\n"
      ],
      "execution_count": 191,
      "outputs": [
        {
          "output_type": "execute_result",
          "data": {
            "text/plain": [
              "array([ 4.09  , 16.7281])"
            ]
          },
          "metadata": {
            "tags": []
          },
          "execution_count": 191
        }
      ]
    },
    {
      "cell_type": "code",
      "metadata": {
        "colab": {
          "base_uri": "https://localhost:8080/"
        },
        "id": "5DB7pzhO_P0x",
        "outputId": "700c9f0f-3bf0-4ef7-fb10-89c27bf01dbb"
      },
      "source": [
        "# fit linear model to extended data\n",
        "bost_poly_model = linear_model.LinearRegression().fit(x_dis_poly, y_nox)\n",
        "\n",
        "# compute squared R\n",
        "rsqr_bos_poly = metrics.r2_score(y_nox, bost_poly_model.predict(x_dis_poly))\n",
        "\n",
        "print('The R^2 of the model is {}'.format(rsqr_bos_poly))"
      ],
      "execution_count": 192,
      "outputs": [
        {
          "output_type": "stream",
          "text": [
            "The R^2 of the model is 0.6998562064647851\n"
          ],
          "name": "stdout"
        }
      ]
    },
    {
      "cell_type": "code",
      "metadata": {
        "colab": {
          "base_uri": "https://localhost:8080/"
        },
        "id": "UA7MND77CAfv",
        "outputId": "79fa1faf-1e09-4aeb-ca38-8d0e194532f9"
      },
      "source": [
        "# get RMSE\n",
        "rmse_bos_poly = metrics.mean_squared_error(y_nox, bost_poly_model.predict(x_dis_poly),\n",
        "                                         squared = False)\n",
        "\n",
        "print('The RMSE of the model is {}'.format(rmse_bos_poly))"
      ],
      "execution_count": 193,
      "outputs": [
        {
          "output_type": "stream",
          "text": [
            "The RMSE of the model is 0.06342126345299987\n"
          ],
          "name": "stdout"
        }
      ]
    },
    {
      "cell_type": "code",
      "metadata": {
        "colab": {
          "base_uri": "https://localhost:8080/",
          "height": 282
        },
        "id": "hPXo4_F5AQjY",
        "outputId": "00a333d5-7032-4341-a1c7-34be1af3b018"
      },
      "source": [
        "# make scatter plot with predicted and real values\n",
        "plt.plot(x_dis, y_nox, 'o')\n",
        "plt.plot(x_dis, bost_poly_model.predict(x_dis_poly), 'o')"
      ],
      "execution_count": 194,
      "outputs": [
        {
          "output_type": "execute_result",
          "data": {
            "text/plain": [
              "[<matplotlib.lines.Line2D at 0x7fa8ecd43dd0>]"
            ]
          },
          "metadata": {
            "tags": []
          },
          "execution_count": 194
        },
        {
          "output_type": "display_data",
          "data": {
            "image/png": "[encoded data removed]",
            "text/plain": [
              "<Figure size 432x288 with 1 Axes>"
            ]
          },
          "metadata": {
            "tags": [],
            "needs_background": "light"
          }
        }
      ]
    },
    {
      "cell_type": "code",
      "metadata": {
        "colab": {
          "base_uri": "https://localhost:8080/"
        },
        "id": "wh5UfcUjChCi",
        "outputId": "a607c143-6099-4efa-81f4-d9f2a99e7aef"
      },
      "source": [
        "# get coefficients from the model \n",
        "bost_poly_model.coef_"
      ],
      "execution_count": 200,
      "outputs": [
        {
          "output_type": "execute_result",
          "data": {
            "text/plain": [
              "array([[-0.1116276 ,  0.00713503]])"
            ]
          },
          "metadata": {
            "tags": []
          },
          "execution_count": 200
        }
      ]
    },
    {
      "cell_type": "markdown",
      "metadata": {
        "id": "ZecIDa9iFNxI"
      },
      "source": [
        "Since we used a polynomial of degree 2, out model follows the equation:\n",
        "\n",
        "<br>\n",
        "\n",
        "$$ \\hat y = \\beta_0 + \\beta_1x_1 + \\beta_2x_1^2  $$\n"
      ]
    },
    {
      "cell_type": "markdown",
      "metadata": {
        "id": "8E6JmjERHItK"
      },
      "source": [
        ""
      ]
    },
    {
      "cell_type": "markdown",
      "metadata": {
        "id": "X5zamwiMeQ7J"
      },
      "source": [
        "Make 1 or 2 exercises in which they get assigned to breakout rooms and try to fit linear models to toy datasets"
      ]
    },
    {
      "cell_type": "markdown",
      "metadata": {
        "id": "zP25EkrS0YrB"
      },
      "source": [
        "\n",
        "# Classification\n",
        "\n",
        "A decision tree is a supervised learning algorithm that is perfect for classification problems, as it’s able to order classes on a precise level. It works like a flow chart, separating data points into two similar categories at a time from the “tree trunk” to “branches,” to “leaves,” where the categories become more finitely similar. This creates categories within categories, allowing for organic classification with limited human supervision.\n",
        "\n",
        "\n",
        "\n",
        "![image.png](https://d33wubrfki0l68.cloudfront.net/cb281b80c41c9e76eb327e26ed5e0e6e5f05fc7f/31de9/static/b42ef5448b11ec2f2ec20ca7f97cbb3c/9cda9/decision-tree-sports.png)\n",
        "https://monkeylearn.com/blog/classification-algorithms/"
      ]
    },
    {
      "cell_type": "markdown",
      "metadata": {
        "id": "gnCz46mz00km"
      },
      "source": [
        "Random Forest\n",
        "\n",
        "The random forest algorithm is an expansion of decision tree, in that, you first construct some-axis real-world decision trees with training data, then fit your new data within one of the trees as a “random forest.” \n",
        "\n",
        "It, essentially, averages your data to connect it to the nearest tree on the data scale. Random forest models are helpful as they remedy for the decision tree’s problem of “forcing” data points within a category unnecessarily. "
      ]
    },
    {
      "cell_type": "code",
      "metadata": {
        "id": "BXO69Ata1IW_",
        "colab": {
          "base_uri": "https://localhost:8080/",
          "height": 206
        },
        "outputId": "f83b8c86-7de0-4d19-ac61-bb4a26cbefb3"
      },
      "source": [
        "# Example\n",
        "#https://chrisalbon.com/machine_learning/trees_and_forests/random_forest_classifier_example/\n",
        "\n",
        "# Load libs\n",
        "import pandas as pd\n",
        "import numpy as np\n",
        "from sklearn.datasets import load_iris\n",
        "from sklearn.ensemble import RandomForestClassifier\n",
        "\n",
        "# Set random seed\n",
        "np.random.seed(0)\n",
        "\n",
        "\n",
        "# Create an object called iris with the iris data\n",
        "iris = load_iris()\n",
        "\n",
        "# Create a dataframe with the four feature variables\n",
        "df = pd.DataFrame(iris.data, columns=iris.feature_names)\n",
        "\n",
        "# View the top 5 rows\n",
        "df.head()"
      ],
      "execution_count": null,
      "outputs": [
        {
          "output_type": "execute_result",
          "data": {
            "text/html": [
              "<div>\n",
              "<style scoped>\n",
              "    .dataframe tbody tr th:only-of-type {\n",
              "        vertical-align: middle;\n",
              "    }\n",
              "\n",
              "    .dataframe tbody tr th {\n",
              "        vertical-align: top;\n",
              "    }\n",
              "\n",
              "    .dataframe thead th {\n",
              "        text-align: right;\n",
              "    }\n",
              "</style>\n",
              "<table border=\"1\" class=\"dataframe\">\n",
              "  <thead>\n",
              "    <tr style=\"text-align: right;\">\n",
              "      <th></th>\n",
              "      <th>sepal length (cm)</th>\n",
              "      <th>sepal width (cm)</th>\n",
              "      <th>petal length (cm)</th>\n",
              "      <th>petal width (cm)</th>\n",
              "    </tr>\n",
              "  </thead>\n",
              "  <tbody>\n",
              "    <tr>\n",
              "      <th>0</th>\n",
              "      <td>5.1</td>\n",
              "      <td>3.5</td>\n",
              "      <td>1.4</td>\n",
              "      <td>0.2</td>\n",
              "    </tr>\n",
              "    <tr>\n",
              "      <th>1</th>\n",
              "      <td>4.9</td>\n",
              "      <td>3.0</td>\n",
              "      <td>1.4</td>\n",
              "      <td>0.2</td>\n",
              "    </tr>\n",
              "    <tr>\n",
              "      <th>2</th>\n",
              "      <td>4.7</td>\n",
              "      <td>3.2</td>\n",
              "      <td>1.3</td>\n",
              "      <td>0.2</td>\n",
              "    </tr>\n",
              "    <tr>\n",
              "      <th>3</th>\n",
              "      <td>4.6</td>\n",
              "      <td>3.1</td>\n",
              "      <td>1.5</td>\n",
              "      <td>0.2</td>\n",
              "    </tr>\n",
              "    <tr>\n",
              "      <th>4</th>\n",
              "      <td>5.0</td>\n",
              "      <td>3.6</td>\n",
              "      <td>1.4</td>\n",
              "      <td>0.2</td>\n",
              "    </tr>\n",
              "  </tbody>\n",
              "</table>\n",
              "</div>"
            ],
            "text/plain": [
              "   sepal length (cm)  sepal width (cm)  petal length (cm)  petal width (cm)\n",
              "0                5.1               3.5                1.4               0.2\n",
              "1                4.9               3.0                1.4               0.2\n",
              "2                4.7               3.2                1.3               0.2\n",
              "3                4.6               3.1                1.5               0.2\n",
              "4                5.0               3.6                1.4               0.2"
            ]
          },
          "metadata": {
            "tags": []
          },
          "execution_count": 2
        }
      ]
    },
    {
      "cell_type": "code",
      "metadata": {
        "colab": {
          "base_uri": "https://localhost:8080/",
          "height": 206
        },
        "id": "RGDIeETk9A_A",
        "outputId": "e3d4e8d3-7d9b-40d4-8ea9-b68cfec3be5f"
      },
      "source": [
        "# Add a new column with the species names, this is what we are going to try to predict\n",
        "df['species'] = pd.Categorical.from_codes(iris.target, iris.target_names)\n",
        "\n",
        "# View the top 5 rows\n",
        "df.head()"
      ],
      "execution_count": null,
      "outputs": [
        {
          "output_type": "execute_result",
          "data": {
            "text/html": [
              "<div>\n",
              "<style scoped>\n",
              "    .dataframe tbody tr th:only-of-type {\n",
              "        vertical-align: middle;\n",
              "    }\n",
              "\n",
              "    .dataframe tbody tr th {\n",
              "        vertical-align: top;\n",
              "    }\n",
              "\n",
              "    .dataframe thead th {\n",
              "        text-align: right;\n",
              "    }\n",
              "</style>\n",
              "<table border=\"1\" class=\"dataframe\">\n",
              "  <thead>\n",
              "    <tr style=\"text-align: right;\">\n",
              "      <th></th>\n",
              "      <th>sepal length (cm)</th>\n",
              "      <th>sepal width (cm)</th>\n",
              "      <th>petal length (cm)</th>\n",
              "      <th>petal width (cm)</th>\n",
              "      <th>species</th>\n",
              "    </tr>\n",
              "  </thead>\n",
              "  <tbody>\n",
              "    <tr>\n",
              "      <th>0</th>\n",
              "      <td>5.1</td>\n",
              "      <td>3.5</td>\n",
              "      <td>1.4</td>\n",
              "      <td>0.2</td>\n",
              "      <td>setosa</td>\n",
              "    </tr>\n",
              "    <tr>\n",
              "      <th>1</th>\n",
              "      <td>4.9</td>\n",
              "      <td>3.0</td>\n",
              "      <td>1.4</td>\n",
              "      <td>0.2</td>\n",
              "      <td>setosa</td>\n",
              "    </tr>\n",
              "    <tr>\n",
              "      <th>2</th>\n",
              "      <td>4.7</td>\n",
              "      <td>3.2</td>\n",
              "      <td>1.3</td>\n",
              "      <td>0.2</td>\n",
              "      <td>setosa</td>\n",
              "    </tr>\n",
              "    <tr>\n",
              "      <th>3</th>\n",
              "      <td>4.6</td>\n",
              "      <td>3.1</td>\n",
              "      <td>1.5</td>\n",
              "      <td>0.2</td>\n",
              "      <td>setosa</td>\n",
              "    </tr>\n",
              "    <tr>\n",
              "      <th>4</th>\n",
              "      <td>5.0</td>\n",
              "      <td>3.6</td>\n",
              "      <td>1.4</td>\n",
              "      <td>0.2</td>\n",
              "      <td>setosa</td>\n",
              "    </tr>\n",
              "  </tbody>\n",
              "</table>\n",
              "</div>"
            ],
            "text/plain": [
              "   sepal length (cm)  sepal width (cm)  ...  petal width (cm)  species\n",
              "0                5.1               3.5  ...               0.2   setosa\n",
              "1                4.9               3.0  ...               0.2   setosa\n",
              "2                4.7               3.2  ...               0.2   setosa\n",
              "3                4.6               3.1  ...               0.2   setosa\n",
              "4                5.0               3.6  ...               0.2   setosa\n",
              "\n",
              "[5 rows x 5 columns]"
            ]
          },
          "metadata": {
            "tags": []
          },
          "execution_count": 3
        }
      ]
    },
    {
      "cell_type": "code",
      "metadata": {
        "colab": {
          "base_uri": "https://localhost:8080/",
          "height": 206
        },
        "id": "36ei7Dz19FrZ",
        "outputId": "be37edb2-6930-41fe-f791-b35a3513e07c"
      },
      "source": [
        "# Create a new column that for each row, generates a random number between 0 and 1, and\n",
        "# if that value is less than or equal to .75, then sets the value of that cell as True\n",
        "# and false otherwise. This is a quick and dirty way of randomly assigning some rows to\n",
        "# be used as the training data and some as the test data.\n",
        "df['is_train'] = np.random.uniform(0, 1, len(df)) <= .75\n",
        "\n",
        "# View the top 5 rows\n",
        "df.head()"
      ],
      "execution_count": null,
      "outputs": [
        {
          "output_type": "execute_result",
          "data": {
            "text/html": [
              "<div>\n",
              "<style scoped>\n",
              "    .dataframe tbody tr th:only-of-type {\n",
              "        vertical-align: middle;\n",
              "    }\n",
              "\n",
              "    .dataframe tbody tr th {\n",
              "        vertical-align: top;\n",
              "    }\n",
              "\n",
              "    .dataframe thead th {\n",
              "        text-align: right;\n",
              "    }\n",
              "</style>\n",
              "<table border=\"1\" class=\"dataframe\">\n",
              "  <thead>\n",
              "    <tr style=\"text-align: right;\">\n",
              "      <th></th>\n",
              "      <th>sepal length (cm)</th>\n",
              "      <th>sepal width (cm)</th>\n",
              "      <th>petal length (cm)</th>\n",
              "      <th>petal width (cm)</th>\n",
              "      <th>species</th>\n",
              "      <th>is_train</th>\n",
              "    </tr>\n",
              "  </thead>\n",
              "  <tbody>\n",
              "    <tr>\n",
              "      <th>0</th>\n",
              "      <td>5.1</td>\n",
              "      <td>3.5</td>\n",
              "      <td>1.4</td>\n",
              "      <td>0.2</td>\n",
              "      <td>setosa</td>\n",
              "      <td>True</td>\n",
              "    </tr>\n",
              "    <tr>\n",
              "      <th>1</th>\n",
              "      <td>4.9</td>\n",
              "      <td>3.0</td>\n",
              "      <td>1.4</td>\n",
              "      <td>0.2</td>\n",
              "      <td>setosa</td>\n",
              "      <td>True</td>\n",
              "    </tr>\n",
              "    <tr>\n",
              "      <th>2</th>\n",
              "      <td>4.7</td>\n",
              "      <td>3.2</td>\n",
              "      <td>1.3</td>\n",
              "      <td>0.2</td>\n",
              "      <td>setosa</td>\n",
              "      <td>True</td>\n",
              "    </tr>\n",
              "    <tr>\n",
              "      <th>3</th>\n",
              "      <td>4.6</td>\n",
              "      <td>3.1</td>\n",
              "      <td>1.5</td>\n",
              "      <td>0.2</td>\n",
              "      <td>setosa</td>\n",
              "      <td>True</td>\n",
              "    </tr>\n",
              "    <tr>\n",
              "      <th>4</th>\n",
              "      <td>5.0</td>\n",
              "      <td>3.6</td>\n",
              "      <td>1.4</td>\n",
              "      <td>0.2</td>\n",
              "      <td>setosa</td>\n",
              "      <td>True</td>\n",
              "    </tr>\n",
              "  </tbody>\n",
              "</table>\n",
              "</div>"
            ],
            "text/plain": [
              "   sepal length (cm)  sepal width (cm)  ...  species  is_train\n",
              "0                5.1               3.5  ...   setosa      True\n",
              "1                4.9               3.0  ...   setosa      True\n",
              "2                4.7               3.2  ...   setosa      True\n",
              "3                4.6               3.1  ...   setosa      True\n",
              "4                5.0               3.6  ...   setosa      True\n",
              "\n",
              "[5 rows x 6 columns]"
            ]
          },
          "metadata": {
            "tags": []
          },
          "execution_count": 4
        }
      ]
    },
    {
      "cell_type": "code",
      "metadata": {
        "id": "4IOvW7Hl9IeZ"
      },
      "source": [
        "# Create two new dataframes, one with the training rows, one with the test rows\n",
        "train, test = df[df['is_train']==True], df[df['is_train']==False]\n",
        "\n",
        "# Show the number of observations for the test and training dataframes\n",
        "print('Number of observations in the training data:', len(train))\n",
        "print('Number of observations in the test data:',len(test))"
      ],
      "execution_count": null,
      "outputs": []
    },
    {
      "cell_type": "markdown",
      "metadata": {
        "id": "7E7xcXqr9Yx5"
      },
      "source": [
        "**Preprocess Data**\n"
      ]
    },
    {
      "cell_type": "code",
      "metadata": {
        "colab": {
          "base_uri": "https://localhost:8080/"
        },
        "id": "AFWwzTWj9POQ",
        "outputId": "901a75ec-c42e-4e46-b39d-9df76a702a89"
      },
      "source": [
        "# Create a list of the feature column's names\n",
        "features = df.columns[:4]\n",
        "\n",
        "# View features\n",
        "features"
      ],
      "execution_count": null,
      "outputs": [
        {
          "output_type": "execute_result",
          "data": {
            "text/plain": [
              "Index(['sepal length (cm)', 'sepal width (cm)', 'petal length (cm)',\n",
              "       'petal width (cm)'],\n",
              "      dtype='object')"
            ]
          },
          "metadata": {
            "tags": []
          },
          "execution_count": 8
        }
      ]
    },
    {
      "cell_type": "code",
      "metadata": {
        "colab": {
          "base_uri": "https://localhost:8080/"
        },
        "id": "xUzR8jrK9LPz",
        "outputId": "145e70da-78c5-4115-8636-abaed6deb947"
      },
      "source": [
        "# train['species'] contains the actual species names. Before we can use it,\n",
        "# we need to convert each species name into a digit. So, in this case there\n",
        "# are three species, which have been coded as 0, 1, or 2.\n",
        "y = pd.factorize(train['species'])[0]\n",
        "\n",
        "# View target\n",
        "y"
      ],
      "execution_count": null,
      "outputs": [
        {
          "output_type": "execute_result",
          "data": {
            "text/plain": [
              "array([0, 0, 0, 0, 0, 0, 0, 0, 0, 0, 0, 0, 0, 0, 0, 0, 0, 0, 0, 0, 0, 0,\n",
              "       0, 0, 0, 0, 0, 0, 0, 0, 0, 0, 0, 0, 0, 0, 0, 1, 1, 1, 1, 1, 1, 1,\n",
              "       1, 1, 1, 1, 1, 1, 1, 1, 1, 1, 1, 1, 1, 1, 1, 1, 1, 1, 1, 1, 1, 1,\n",
              "       1, 1, 1, 1, 1, 1, 1, 1, 1, 1, 1, 1, 1, 1, 2, 2, 2, 2, 2, 2, 2, 2,\n",
              "       2, 2, 2, 2, 2, 2, 2, 2, 2, 2, 2, 2, 2, 2, 2, 2, 2, 2, 2, 2, 2, 2,\n",
              "       2, 2, 2, 2, 2, 2, 2, 2])"
            ]
          },
          "metadata": {
            "tags": []
          },
          "execution_count": 9
        }
      ]
    },
    {
      "cell_type": "code",
      "metadata": {
        "colab": {
          "base_uri": "https://localhost:8080/"
        },
        "id": "IahAlnjG9mbG",
        "outputId": "ecc0b321-a17c-4aa6-d24c-cc893cce604f"
      },
      "source": [
        "# Create a random forest Classifier. By convention, clf means 'Classifier'\n",
        "clf = RandomForestClassifier(n_jobs=2, random_state=0)\n",
        "\n",
        "# Train the Classifier to take the training features and learn how they relate\n",
        "# to the training y (the species)\n",
        "clf.fit(train[features], y)"
      ],
      "execution_count": null,
      "outputs": [
        {
          "output_type": "execute_result",
          "data": {
            "text/plain": [
              "RandomForestClassifier(bootstrap=True, ccp_alpha=0.0, class_weight=None,\n",
              "                       criterion='gini', max_depth=None, max_features='auto',\n",
              "                       max_leaf_nodes=None, max_samples=None,\n",
              "                       min_impurity_decrease=0.0, min_impurity_split=None,\n",
              "                       min_samples_leaf=1, min_samples_split=2,\n",
              "                       min_weight_fraction_leaf=0.0, n_estimators=100, n_jobs=2,\n",
              "                       oob_score=False, random_state=0, verbose=0,\n",
              "                       warm_start=False)"
            ]
          },
          "metadata": {
            "tags": []
          },
          "execution_count": 10
        }
      ]
    },
    {
      "cell_type": "markdown",
      "metadata": {
        "id": "-CgGdvjs9qLk"
      },
      "source": [
        "Huzzah! We have done it! We have officially trained our random forest Classifier! Now let’s play with it. The Classifier model itself is stored in the clf variable."
      ]
    },
    {
      "cell_type": "markdown",
      "metadata": {
        "id": "2vywk0XD9tH4"
      },
      "source": [
        "**Apply Classifier To Test Data**\n"
      ]
    },
    {
      "cell_type": "code",
      "metadata": {
        "colab": {
          "base_uri": "https://localhost:8080/"
        },
        "id": "mKyHNYg-9xWt",
        "outputId": "ec2426c1-ee91-4938-b4d4-b13830b289ba"
      },
      "source": [
        "# Apply the Classifier we trained to the test data (which, remember, it has never seen before)\n",
        "clf.predict(test[features])"
      ],
      "execution_count": null,
      "outputs": [
        {
          "output_type": "execute_result",
          "data": {
            "text/plain": [
              "array([0, 0, 0, 0, 0, 0, 0, 0, 0, 0, 0, 0, 0, 1, 1, 1, 2, 2, 1, 1, 2, 2,\n",
              "       2, 2, 2, 2, 2, 2, 2, 2, 2, 2])"
            ]
          },
          "metadata": {
            "tags": []
          },
          "execution_count": 11
        }
      ]
    },
    {
      "cell_type": "markdown",
      "metadata": {
        "id": "8YuugIx894y8"
      },
      "source": [
        "What are you looking at above? Remember that we coded each of the three species of plant as 0, 1, or 2. What the list of numbers above is showing you is what species our model predicts each plant is based on the the sepal length, sepal width, petal length, and petal width. How confident is the classifier about each plant? We can see that too.\n",
        "\n"
      ]
    },
    {
      "cell_type": "code",
      "metadata": {
        "colab": {
          "base_uri": "https://localhost:8080/"
        },
        "id": "evgnn8N291sf",
        "outputId": "dcaa4d03-058f-405d-df40-623b02adfd8b"
      },
      "source": [
        "# View the predicted probabilities of the first 10 observations\n",
        "clf.predict_proba(test[features])[0:10]"
      ],
      "execution_count": null,
      "outputs": [
        {
          "output_type": "execute_result",
          "data": {
            "text/plain": [
              "array([[1.  , 0.  , 0.  ],\n",
              "       [1.  , 0.  , 0.  ],\n",
              "       [1.  , 0.  , 0.  ],\n",
              "       [1.  , 0.  , 0.  ],\n",
              "       [1.  , 0.  , 0.  ],\n",
              "       [0.95, 0.05, 0.  ],\n",
              "       [1.  , 0.  , 0.  ],\n",
              "       [0.99, 0.01, 0.  ],\n",
              "       [1.  , 0.  , 0.  ],\n",
              "       [1.  , 0.  , 0.  ]])"
            ]
          },
          "metadata": {
            "tags": []
          },
          "execution_count": 12
        }
      ]
    },
    {
      "cell_type": "markdown",
      "metadata": {
        "id": "5MdboXky98fk"
      },
      "source": [
        "There are three species of plant, thus [ 1. , 0. , 0. ] tells us that the classifier is certain that the plant is the first class. Taking another example, [ 0.9, 0.1, 0. ] tells us that the classifier gives a 90% probability the plant belongs to the first class and a 10% probability the plant belongs to the second class. Because 90 is greater than 10, the classifier predicts the plant is the first class.\n",
        "\n"
      ]
    },
    {
      "cell_type": "markdown",
      "metadata": {
        "id": "WrhPXtDZ05s9"
      },
      "source": [
        "Support Vector Machines\n",
        "\n",
        "A support vector machine (SVM) uses algorithms to train and classify data within degrees of polarity, taking it to a degree beyond X/Y prediction. \n",
        "\n",
        "For a simple visual explanation, we’ll use two tags: red and blue, with two data features: X and Y, then train our classifier to output an X/Y coordinate as either red or blue."
      ]
    },
    {
      "cell_type": "markdown",
      "metadata": {
        "id": "vClrUTdm994J"
      },
      "source": [
        "**Evaluate Classifier**"
      ]
    },
    {
      "cell_type": "markdown",
      "metadata": {
        "id": "W3rqQc0J-JFF"
      },
      "source": [
        "Now that we have predicted the species of all plants in the test data, we can compare our predicted species with the that plant’s actual species."
      ]
    },
    {
      "cell_type": "code",
      "metadata": {
        "id": "9IbqjAMy1Kum",
        "colab": {
          "base_uri": "https://localhost:8080/"
        },
        "outputId": "c834e8e8-ecd1-4071-cc8f-88367e3e27e2"
      },
      "source": [
        "# Create actual english names for the plants for each predicted plant class\n",
        "preds = iris.target_names[clf.predict(test[features])]\n",
        "\n",
        "# View the PREDICTED species for the first five observations\n",
        "preds[0:5]"
      ],
      "execution_count": null,
      "outputs": [
        {
          "output_type": "execute_result",
          "data": {
            "text/plain": [
              "array(['setosa', 'setosa', 'setosa', 'setosa', 'setosa'], dtype='<U10')"
            ]
          },
          "metadata": {
            "tags": []
          },
          "execution_count": 14
        }
      ]
    },
    {
      "cell_type": "code",
      "metadata": {
        "colab": {
          "base_uri": "https://localhost:8080/"
        },
        "id": "bsnpOl29-T4I",
        "outputId": "15034e71-9aea-469e-9521-f1b7118b337b"
      },
      "source": [
        "# View the ACTUAL species for the first five observations\n",
        "test['species'].head()"
      ],
      "execution_count": null,
      "outputs": [
        {
          "output_type": "execute_result",
          "data": {
            "text/plain": [
              "7     setosa\n",
              "8     setosa\n",
              "10    setosa\n",
              "13    setosa\n",
              "17    setosa\n",
              "Name: species, dtype: category\n",
              "Categories (3, object): ['setosa', 'versicolor', 'virginica']"
            ]
          },
          "metadata": {
            "tags": []
          },
          "execution_count": 15
        }
      ]
    },
    {
      "cell_type": "markdown",
      "metadata": {
        "id": "-d-qq5f4-ZFZ"
      },
      "source": [
        "That looks pretty good! At least for the first five observations. Now let’s use look at all the data."
      ]
    },
    {
      "cell_type": "markdown",
      "metadata": {
        "id": "gvoygwxn-Ez8"
      },
      "source": [
        "**Create a confusion matrix**\n",
        "\n",
        "A confusion matrix can be, no pun intended, a little confusing to interpret at first, but it is actually very straightforward. The columns are the species we predicted for the test data and the rows are the actual species for the test data. So, if we take the top row, we can wee that we predicted all 13 setosa plants in the test data perfectly. However, in the next row, we predicted 5 of the versicolor plants correctly, but mis-predicted two of the versicolor plants as virginica.\n",
        "\n",
        "The short explanation of how to interpret a confusion matrix is: anything on the diagonal was classified correctly and anything off the diagonal was classified incorrectly."
      ]
    },
    {
      "cell_type": "code",
      "metadata": {
        "colab": {
          "base_uri": "https://localhost:8080/",
          "height": 175
        },
        "id": "-uL0zYyv-m2o",
        "outputId": "cbff3cd5-bd6c-4b58-a314-8456ddfc1fd5"
      },
      "source": [
        "# Create confusion matrix\n",
        "pd.crosstab(test['species'], preds, rownames=['Actual Species'], colnames=['Predicted Species'])"
      ],
      "execution_count": null,
      "outputs": [
        {
          "output_type": "execute_result",
          "data": {
            "text/html": [
              "<div>\n",
              "<style scoped>\n",
              "    .dataframe tbody tr th:only-of-type {\n",
              "        vertical-align: middle;\n",
              "    }\n",
              "\n",
              "    .dataframe tbody tr th {\n",
              "        vertical-align: top;\n",
              "    }\n",
              "\n",
              "    .dataframe thead th {\n",
              "        text-align: right;\n",
              "    }\n",
              "</style>\n",
              "<table border=\"1\" class=\"dataframe\">\n",
              "  <thead>\n",
              "    <tr style=\"text-align: right;\">\n",
              "      <th>Predicted Species</th>\n",
              "      <th>setosa</th>\n",
              "      <th>versicolor</th>\n",
              "      <th>virginica</th>\n",
              "    </tr>\n",
              "    <tr>\n",
              "      <th>Actual Species</th>\n",
              "      <th></th>\n",
              "      <th></th>\n",
              "      <th></th>\n",
              "    </tr>\n",
              "  </thead>\n",
              "  <tbody>\n",
              "    <tr>\n",
              "      <th>setosa</th>\n",
              "      <td>13</td>\n",
              "      <td>0</td>\n",
              "      <td>0</td>\n",
              "    </tr>\n",
              "    <tr>\n",
              "      <th>versicolor</th>\n",
              "      <td>0</td>\n",
              "      <td>5</td>\n",
              "      <td>2</td>\n",
              "    </tr>\n",
              "    <tr>\n",
              "      <th>virginica</th>\n",
              "      <td>0</td>\n",
              "      <td>0</td>\n",
              "      <td>12</td>\n",
              "    </tr>\n",
              "  </tbody>\n",
              "</table>\n",
              "</div>"
            ],
            "text/plain": [
              "Predicted Species  setosa  versicolor  virginica\n",
              "Actual Species                                  \n",
              "setosa                 13           0          0\n",
              "versicolor              0           5          2\n",
              "virginica               0           0         12"
            ]
          },
          "metadata": {
            "tags": []
          },
          "execution_count": 16
        }
      ]
    },
    {
      "cell_type": "markdown",
      "metadata": {
        "id": "SBCkGuBR-r0o"
      },
      "source": [
        "**View Feature Importance**\n",
        "\n",
        "While we don’t get regression coefficients like with OLS, we do get a score telling us how important each feature was in classifying. This is one of the most powerful parts of random forests, because we can clearly see that petal width was more important in classification than sepal width."
      ]
    },
    {
      "cell_type": "code",
      "metadata": {
        "colab": {
          "base_uri": "https://localhost:8080/"
        },
        "id": "Q7oZkz0H-unM",
        "outputId": "32cd7ef3-d1a1-4221-f290-034f41465a17"
      },
      "source": [
        "# View a list of the features and their importance scores\n",
        "list(zip(train[features], clf.feature_importances_))"
      ],
      "execution_count": null,
      "outputs": [
        {
          "output_type": "execute_result",
          "data": {
            "text/plain": [
              "[('sepal length (cm)', 0.08474010289429795),\n",
              " ('sepal width (cm)', 0.022461263894393204),\n",
              " ('petal length (cm)', 0.4464851467243143),\n",
              " ('petal width (cm)', 0.4463134864869946)]"
            ]
          },
          "metadata": {
            "tags": []
          },
          "execution_count": 18
        }
      ]
    },
    {
      "cell_type": "markdown",
      "metadata": {
        "id": "480NIBPD0-V5"
      },
      "source": [
        ""
      ]
    },
    {
      "cell_type": "code",
      "metadata": {
        "id": "YCGd7zwkHMzv"
      },
      "source": [
        ""
      ],
      "execution_count": null,
      "outputs": []
    },
    {
      "cell_type": "markdown",
      "metadata": {
        "id": "mAVIWX0ygSsh"
      },
      "source": [
        "Download and Prepare Data\n",
        "\n",
        "Download the UCI Bike Sharing\\texttt{UCI Bike Sharing}UCI Bike Sharing dataset from https://archive.ics.uci.edu/ml/datasets/bike+sharing+dataset. \n",
        "Import the day.csv\\texttt{day.csv}day.csv dataset using pandas\\texttt{pandas}pandas. \n",
        "Print and investiage summary statistics using df.describe()\\texttt{df.describe()}df.describe(). \n",
        "Remove NaN\\texttt{NaN}NaN rows as well as columns representing components of the overall count. For your convienience, you can drop the datetime as well.\n"
      ]
    },
    {
      "cell_type": "markdown",
      "metadata": {
        "id": "BrTVDy16kTOk"
      },
      "source": [
        "BICING DATA Analysis\n",
        "\n",
        "\n",
        "1.   https://github.com/jaumevr15/Bicing-Stations-Analysis\n",
        "2.   https://github.com/lechatquidanse/bicing-prediction-api\n",
        "3.   https://webthesis.biblio.polito.it/7999/1/tesi.pdf"
      ]
    },
    {
      "cell_type": "code",
      "metadata": {
        "id": "zAmULLb_gDMD"
      },
      "source": [
        "import pandas as pd\n",
        "import numpy as np\n",
        "from pprint import pprint\n",
        "\n",
        "lp = 'day.csv'\n",
        "\n",
        "df = pd.read_csv(lp)"
      ],
      "execution_count": null,
      "outputs": []
    },
    {
      "cell_type": "code",
      "metadata": {
        "id": "Bwy0SD09gfrr",
        "colab": {
          "base_uri": "https://localhost:8080/",
          "height": 204
        },
        "outputId": "cb184786-e10a-481c-b194-0a633915e808"
      },
      "source": [
        "df.head()"
      ],
      "execution_count": null,
      "outputs": [
        {
          "output_type": "execute_result",
          "data": {
            "text/html": [
              "<div>\n",
              "<style scoped>\n",
              "    .dataframe tbody tr th:only-of-type {\n",
              "        vertical-align: middle;\n",
              "    }\n",
              "\n",
              "    .dataframe tbody tr th {\n",
              "        vertical-align: top;\n",
              "    }\n",
              "\n",
              "    .dataframe thead th {\n",
              "        text-align: right;\n",
              "    }\n",
              "</style>\n",
              "<table border=\"1\" class=\"dataframe\">\n",
              "  <thead>\n",
              "    <tr style=\"text-align: right;\">\n",
              "      <th></th>\n",
              "      <th>instant</th>\n",
              "      <th>dteday</th>\n",
              "      <th>season</th>\n",
              "      <th>yr</th>\n",
              "      <th>mnth</th>\n",
              "      <th>holiday</th>\n",
              "      <th>weekday</th>\n",
              "      <th>workingday</th>\n",
              "      <th>weathersit</th>\n",
              "      <th>temp</th>\n",
              "      <th>atemp</th>\n",
              "      <th>hum</th>\n",
              "      <th>windspeed</th>\n",
              "      <th>casual</th>\n",
              "      <th>registered</th>\n",
              "      <th>cnt</th>\n",
              "    </tr>\n",
              "  </thead>\n",
              "  <tbody>\n",
              "    <tr>\n",
              "      <th>0</th>\n",
              "      <td>1</td>\n",
              "      <td>2011-01-01</td>\n",
              "      <td>1</td>\n",
              "      <td>0</td>\n",
              "      <td>1</td>\n",
              "      <td>0</td>\n",
              "      <td>6</td>\n",
              "      <td>0</td>\n",
              "      <td>2</td>\n",
              "      <td>0.344167</td>\n",
              "      <td>0.363625</td>\n",
              "      <td>0.805833</td>\n",
              "      <td>0.160446</td>\n",
              "      <td>331</td>\n",
              "      <td>654</td>\n",
              "      <td>985</td>\n",
              "    </tr>\n",
              "    <tr>\n",
              "      <th>1</th>\n",
              "      <td>2</td>\n",
              "      <td>2011-01-02</td>\n",
              "      <td>1</td>\n",
              "      <td>0</td>\n",
              "      <td>1</td>\n",
              "      <td>0</td>\n",
              "      <td>0</td>\n",
              "      <td>0</td>\n",
              "      <td>2</td>\n",
              "      <td>0.363478</td>\n",
              "      <td>0.353739</td>\n",
              "      <td>0.696087</td>\n",
              "      <td>0.248539</td>\n",
              "      <td>131</td>\n",
              "      <td>670</td>\n",
              "      <td>801</td>\n",
              "    </tr>\n",
              "    <tr>\n",
              "      <th>2</th>\n",
              "      <td>3</td>\n",
              "      <td>2011-01-03</td>\n",
              "      <td>1</td>\n",
              "      <td>0</td>\n",
              "      <td>1</td>\n",
              "      <td>0</td>\n",
              "      <td>1</td>\n",
              "      <td>1</td>\n",
              "      <td>1</td>\n",
              "      <td>0.196364</td>\n",
              "      <td>0.189405</td>\n",
              "      <td>0.437273</td>\n",
              "      <td>0.248309</td>\n",
              "      <td>120</td>\n",
              "      <td>1229</td>\n",
              "      <td>1349</td>\n",
              "    </tr>\n",
              "    <tr>\n",
              "      <th>3</th>\n",
              "      <td>4</td>\n",
              "      <td>2011-01-04</td>\n",
              "      <td>1</td>\n",
              "      <td>0</td>\n",
              "      <td>1</td>\n",
              "      <td>0</td>\n",
              "      <td>2</td>\n",
              "      <td>1</td>\n",
              "      <td>1</td>\n",
              "      <td>0.200000</td>\n",
              "      <td>0.212122</td>\n",
              "      <td>0.590435</td>\n",
              "      <td>0.160296</td>\n",
              "      <td>108</td>\n",
              "      <td>1454</td>\n",
              "      <td>1562</td>\n",
              "    </tr>\n",
              "    <tr>\n",
              "      <th>4</th>\n",
              "      <td>5</td>\n",
              "      <td>2011-01-05</td>\n",
              "      <td>1</td>\n",
              "      <td>0</td>\n",
              "      <td>1</td>\n",
              "      <td>0</td>\n",
              "      <td>3</td>\n",
              "      <td>1</td>\n",
              "      <td>1</td>\n",
              "      <td>0.226957</td>\n",
              "      <td>0.229270</td>\n",
              "      <td>0.436957</td>\n",
              "      <td>0.186900</td>\n",
              "      <td>82</td>\n",
              "      <td>1518</td>\n",
              "      <td>1600</td>\n",
              "    </tr>\n",
              "  </tbody>\n",
              "</table>\n",
              "</div>"
            ],
            "text/plain": [
              "   instant      dteday  season  yr  ...  windspeed  casual  registered   cnt\n",
              "0        1  2011-01-01       1   0  ...   0.160446     331         654   985\n",
              "1        2  2011-01-02       1   0  ...   0.248539     131         670   801\n",
              "2        3  2011-01-03       1   0  ...   0.248309     120        1229  1349\n",
              "3        4  2011-01-04       1   0  ...   0.160296     108        1454  1562\n",
              "4        5  2011-01-05       1   0  ...   0.186900      82        1518  1600\n",
              "\n",
              "[5 rows x 16 columns]"
            ]
          },
          "metadata": {
            "tags": []
          },
          "execution_count": 5
        }
      ]
    },
    {
      "cell_type": "code",
      "metadata": {
        "id": "qZ_fBduJgmHc",
        "colab": {
          "base_uri": "https://localhost:8080/",
          "height": 297
        },
        "outputId": "6c3f6214-6ad9-4574-cf14-120d1a85531c"
      },
      "source": [
        "df.describe()"
      ],
      "execution_count": null,
      "outputs": [
        {
          "output_type": "execute_result",
          "data": {
            "text/html": [
              "<div>\n",
              "<style scoped>\n",
              "    .dataframe tbody tr th:only-of-type {\n",
              "        vertical-align: middle;\n",
              "    }\n",
              "\n",
              "    .dataframe tbody tr th {\n",
              "        vertical-align: top;\n",
              "    }\n",
              "\n",
              "    .dataframe thead th {\n",
              "        text-align: right;\n",
              "    }\n",
              "</style>\n",
              "<table border=\"1\" class=\"dataframe\">\n",
              "  <thead>\n",
              "    <tr style=\"text-align: right;\">\n",
              "      <th></th>\n",
              "      <th>instant</th>\n",
              "      <th>season</th>\n",
              "      <th>yr</th>\n",
              "      <th>mnth</th>\n",
              "      <th>holiday</th>\n",
              "      <th>weekday</th>\n",
              "      <th>workingday</th>\n",
              "      <th>weathersit</th>\n",
              "      <th>temp</th>\n",
              "      <th>atemp</th>\n",
              "      <th>hum</th>\n",
              "      <th>windspeed</th>\n",
              "      <th>casual</th>\n",
              "      <th>registered</th>\n",
              "      <th>cnt</th>\n",
              "    </tr>\n",
              "  </thead>\n",
              "  <tbody>\n",
              "    <tr>\n",
              "      <th>count</th>\n",
              "      <td>731.000000</td>\n",
              "      <td>731.000000</td>\n",
              "      <td>731.000000</td>\n",
              "      <td>731.000000</td>\n",
              "      <td>731.000000</td>\n",
              "      <td>731.000000</td>\n",
              "      <td>731.000000</td>\n",
              "      <td>731.000000</td>\n",
              "      <td>731.000000</td>\n",
              "      <td>731.000000</td>\n",
              "      <td>731.000000</td>\n",
              "      <td>731.000000</td>\n",
              "      <td>731.000000</td>\n",
              "      <td>731.000000</td>\n",
              "      <td>731.000000</td>\n",
              "    </tr>\n",
              "    <tr>\n",
              "      <th>mean</th>\n",
              "      <td>366.000000</td>\n",
              "      <td>2.496580</td>\n",
              "      <td>0.500684</td>\n",
              "      <td>6.519836</td>\n",
              "      <td>0.028728</td>\n",
              "      <td>2.997264</td>\n",
              "      <td>0.683995</td>\n",
              "      <td>1.395349</td>\n",
              "      <td>0.495385</td>\n",
              "      <td>0.474354</td>\n",
              "      <td>0.627894</td>\n",
              "      <td>0.190486</td>\n",
              "      <td>848.176471</td>\n",
              "      <td>3656.172367</td>\n",
              "      <td>4504.348837</td>\n",
              "    </tr>\n",
              "    <tr>\n",
              "      <th>std</th>\n",
              "      <td>211.165812</td>\n",
              "      <td>1.110807</td>\n",
              "      <td>0.500342</td>\n",
              "      <td>3.451913</td>\n",
              "      <td>0.167155</td>\n",
              "      <td>2.004787</td>\n",
              "      <td>0.465233</td>\n",
              "      <td>0.544894</td>\n",
              "      <td>0.183051</td>\n",
              "      <td>0.162961</td>\n",
              "      <td>0.142429</td>\n",
              "      <td>0.077498</td>\n",
              "      <td>686.622488</td>\n",
              "      <td>1560.256377</td>\n",
              "      <td>1937.211452</td>\n",
              "    </tr>\n",
              "    <tr>\n",
              "      <th>min</th>\n",
              "      <td>1.000000</td>\n",
              "      <td>1.000000</td>\n",
              "      <td>0.000000</td>\n",
              "      <td>1.000000</td>\n",
              "      <td>0.000000</td>\n",
              "      <td>0.000000</td>\n",
              "      <td>0.000000</td>\n",
              "      <td>1.000000</td>\n",
              "      <td>0.059130</td>\n",
              "      <td>0.079070</td>\n",
              "      <td>0.000000</td>\n",
              "      <td>0.022392</td>\n",
              "      <td>2.000000</td>\n",
              "      <td>20.000000</td>\n",
              "      <td>22.000000</td>\n",
              "    </tr>\n",
              "    <tr>\n",
              "      <th>25%</th>\n",
              "      <td>183.500000</td>\n",
              "      <td>2.000000</td>\n",
              "      <td>0.000000</td>\n",
              "      <td>4.000000</td>\n",
              "      <td>0.000000</td>\n",
              "      <td>1.000000</td>\n",
              "      <td>0.000000</td>\n",
              "      <td>1.000000</td>\n",
              "      <td>0.337083</td>\n",
              "      <td>0.337842</td>\n",
              "      <td>0.520000</td>\n",
              "      <td>0.134950</td>\n",
              "      <td>315.500000</td>\n",
              "      <td>2497.000000</td>\n",
              "      <td>3152.000000</td>\n",
              "    </tr>\n",
              "    <tr>\n",
              "      <th>50%</th>\n",
              "      <td>366.000000</td>\n",
              "      <td>3.000000</td>\n",
              "      <td>1.000000</td>\n",
              "      <td>7.000000</td>\n",
              "      <td>0.000000</td>\n",
              "      <td>3.000000</td>\n",
              "      <td>1.000000</td>\n",
              "      <td>1.000000</td>\n",
              "      <td>0.498333</td>\n",
              "      <td>0.486733</td>\n",
              "      <td>0.626667</td>\n",
              "      <td>0.180975</td>\n",
              "      <td>713.000000</td>\n",
              "      <td>3662.000000</td>\n",
              "      <td>4548.000000</td>\n",
              "    </tr>\n",
              "    <tr>\n",
              "      <th>75%</th>\n",
              "      <td>548.500000</td>\n",
              "      <td>3.000000</td>\n",
              "      <td>1.000000</td>\n",
              "      <td>10.000000</td>\n",
              "      <td>0.000000</td>\n",
              "      <td>5.000000</td>\n",
              "      <td>1.000000</td>\n",
              "      <td>2.000000</td>\n",
              "      <td>0.655417</td>\n",
              "      <td>0.608602</td>\n",
              "      <td>0.730209</td>\n",
              "      <td>0.233214</td>\n",
              "      <td>1096.000000</td>\n",
              "      <td>4776.500000</td>\n",
              "      <td>5956.000000</td>\n",
              "    </tr>\n",
              "    <tr>\n",
              "      <th>max</th>\n",
              "      <td>731.000000</td>\n",
              "      <td>4.000000</td>\n",
              "      <td>1.000000</td>\n",
              "      <td>12.000000</td>\n",
              "      <td>1.000000</td>\n",
              "      <td>6.000000</td>\n",
              "      <td>1.000000</td>\n",
              "      <td>3.000000</td>\n",
              "      <td>0.861667</td>\n",
              "      <td>0.840896</td>\n",
              "      <td>0.972500</td>\n",
              "      <td>0.507463</td>\n",
              "      <td>3410.000000</td>\n",
              "      <td>6946.000000</td>\n",
              "      <td>8714.000000</td>\n",
              "    </tr>\n",
              "  </tbody>\n",
              "</table>\n",
              "</div>"
            ],
            "text/plain": [
              "          instant      season  ...   registered          cnt\n",
              "count  731.000000  731.000000  ...   731.000000   731.000000\n",
              "mean   366.000000    2.496580  ...  3656.172367  4504.348837\n",
              "std    211.165812    1.110807  ...  1560.256377  1937.211452\n",
              "min      1.000000    1.000000  ...    20.000000    22.000000\n",
              "25%    183.500000    2.000000  ...  2497.000000  3152.000000\n",
              "50%    366.000000    3.000000  ...  3662.000000  4548.000000\n",
              "75%    548.500000    3.000000  ...  4776.500000  5956.000000\n",
              "max    731.000000    4.000000  ...  6946.000000  8714.000000\n",
              "\n",
              "[8 rows x 15 columns]"
            ]
          },
          "metadata": {
            "tags": []
          },
          "execution_count": 6
        }
      ]
    },
    {
      "cell_type": "code",
      "metadata": {
        "id": "kWeWzB_Lgqe0",
        "colab": {
          "base_uri": "https://localhost:8080/"
        },
        "outputId": "45fd2444-6251-4a6d-a997-2ae138e48742"
      },
      "source": [
        "df.dtypes"
      ],
      "execution_count": null,
      "outputs": [
        {
          "output_type": "execute_result",
          "data": {
            "text/plain": [
              "instant         int64\n",
              "dteday         object\n",
              "season          int64\n",
              "yr              int64\n",
              "mnth            int64\n",
              "holiday         int64\n",
              "weekday         int64\n",
              "workingday      int64\n",
              "weathersit      int64\n",
              "temp          float64\n",
              "atemp         float64\n",
              "hum           float64\n",
              "windspeed     float64\n",
              "casual          int64\n",
              "registered      int64\n",
              "cnt             int64\n",
              "dtype: object"
            ]
          },
          "metadata": {
            "tags": []
          },
          "execution_count": 7
        }
      ]
    },
    {
      "cell_type": "code",
      "metadata": {
        "id": "8X-jOfqggu8x"
      },
      "source": [
        "df.dropna(inplace=True)\n",
        "X = df.drop(columns=['instant','cnt', 'dteday', 'casual', 'registered'])\n",
        "y = df['cnt']"
      ],
      "execution_count": null,
      "outputs": []
    },
    {
      "cell_type": "markdown",
      "metadata": {
        "id": "CS3I3lW-g_6h"
      },
      "source": [
        "Model Fitting\n",
        "\n",
        "Split your data into training and test set. Fit a simple, inherently interpretable model (e.g. standard linear regression) as well as a complex black-box regressor (e.g. random forest). You can use \\texttt{sklearn}. Hint: The performance of random forests can be improved by relying on tuning strategies. We have prepared a tuning grid that is appropriate for randomized search. Interested participants are invited to give it a try.\n"
      ]
    },
    {
      "cell_type": "code",
      "metadata": {
        "id": "y7ze-BIehC9q"
      },
      "source": [
        "from sklearn.model_selection import train_test_split\n",
        "\n",
        "X_train, X_test, y_train, y_test = train_test_split(X, y, test_size=0.33, random_state=123)"
      ],
      "execution_count": null,
      "outputs": []
    },
    {
      "cell_type": "markdown",
      "metadata": {
        "id": "o7memdRbhHdi"
      },
      "source": [
        "Generate the model objects: A linear regression model called reg_linand a random forest regressor called reg_ref. For the random forest, you can either use the default hyperparemeters, provide our hand-crafted hyperparameters as given in rf_params (unpack them in the function call using **rf_params or use tuning given our predefined grid (advanced)."
      ]
    },
    {
      "cell_type": "code",
      "metadata": {
        "id": "Xn15q2a9hJJM"
      },
      "source": [
        "from sklearn import linear_model\n",
        "from sklearn.ensemble import RandomForestRegressor\n",
        "from sklearn.model_selection import cross_val_score\n",
        "\n",
        "rf_params = {'n_estimators': 400,\n",
        "             'min_samples_split': 2,\n",
        "             'min_samples_leaf': 1,\n",
        "             'max_features': 'sqrt',\n",
        "             'max_depth': None,\n",
        "             'bootstrap': False}\n",
        "\n",
        "# TODO: create linear regression object reg_lin\n",
        "# TODO: create random forest object reg_rf\n",
        "reg_lin =  linear_model.LinearRegression().fit(X_train, y_train)\n",
        "reg_rf = RandomForestRegressor(**rf_params).fit(X_train, y_train)\n"
      ],
      "execution_count": null,
      "outputs": []
    },
    {
      "cell_type": "markdown",
      "metadata": {
        "id": "TE6Z5M6fhL_H"
      },
      "source": [
        "Here comes the tuning part:"
      ]
    },
    {
      "cell_type": "code",
      "metadata": {
        "colab": {
          "base_uri": "https://localhost:8080/"
        },
        "id": "sg5BAdnNhN3t",
        "outputId": "a22cbe78-9bb2-43c7-dbcb-af30a2fdcf54"
      },
      "source": [
        "from sklearn.model_selection import RandomizedSearchCV\n",
        "\n",
        "random_grid = {}\n",
        "random_grid['n_estimators'] =  [int(x) for x in np.linspace(200, 2000, 10)]\n",
        "random_grid['max_features'] = ['auto', 'sqrt']\n",
        "random_grid['max_depth'] = [int(x) for x in np.linspace(10, 110, 11)]\n",
        "random_grid['max_depth'].append(None)\n",
        "random_grid['min_samples_split'] = [2, 5, 10]\n",
        "random_grid['min_samples_leaf'] = [1, 2, 4]\n",
        "random_grid['bootstrap'] = [True, False]\n",
        "# random_grid['n_iter'] = [100]\n",
        "\n",
        "pprint(random_grid)\n",
        "\n",
        "'''\n",
        "TODO (advanced): \n",
        "Created Randomized Search CV forest based on \n",
        "reg_rf and the random grid provided above. \n",
        "Tune with 100 iterations and 3-fold crossvalidation.\n",
        "For better performance, use all your CPU cores\n",
        "by specifying n_jobs=-1.\n",
        "'''\n",
        "reg_rf_random = RandomizedSearchCV(estimator=reg_rf, param_distributions = random_grid,\n",
        "                                   n_iter = 100, cv = 3, verbose=2, random_state=42,\n",
        "                                   n_jobs=-1).fit(X_train, y_train)\n",
        "\n",
        "# reg_rf_random = RandomForestRegressor(**random_grid).fit(X_train, y_train)"
      ],
      "execution_count": null,
      "outputs": [
        {
          "output_type": "stream",
          "text": [
            "{'bootstrap': [True, False],\n",
            " 'max_depth': [10, 20, 30, 40, 50, 60, 70, 80, 90, 100, 110, None],\n",
            " 'max_features': ['auto', 'sqrt'],\n",
            " 'min_samples_leaf': [1, 2, 4],\n",
            " 'min_samples_split': [2, 5, 10],\n",
            " 'n_estimators': [200, 400, 600, 800, 1000, 1200, 1400, 1600, 1800, 2000]}\n",
            "Fitting 3 folds for each of 100 candidates, totalling 300 fits\n"
          ],
          "name": "stdout"
        },
        {
          "output_type": "stream",
          "text": [
            "[Parallel(n_jobs=-1)]: Using backend LokyBackend with 2 concurrent workers.\n",
            "[Parallel(n_jobs=-1)]: Done  37 tasks      | elapsed:  1.0min\n",
            "[Parallel(n_jobs=-1)]: Done 158 tasks      | elapsed:  4.1min\n",
            "[Parallel(n_jobs=-1)]: Done 300 out of 300 | elapsed:  7.8min finished\n"
          ],
          "name": "stderr"
        }
      ]
    },
    {
      "cell_type": "markdown",
      "metadata": {
        "id": "fMBw3YR-hQlC"
      },
      "source": [
        "Now you can fit the models you defined before."
      ]
    },
    {
      "cell_type": "code",
      "metadata": {
        "id": "Pi0Kfl7PhX9p"
      },
      "source": [
        "# fitting and evaluating the models\n",
        "\n",
        "# TODO"
      ],
      "execution_count": null,
      "outputs": []
    },
    {
      "cell_type": "markdown",
      "metadata": {
        "id": "zg0jf95ShdBh"
      },
      "source": [
        "Model evaluation\n",
        "\n",
        "Evaluate the performance of both models on the test set. Which model do you prefer to use?. I.e., look into MSE, explained variance, r2 and mean absolute error for the models we have fitted above."
      ]
    },
    {
      "cell_type": "code",
      "metadata": {
        "colab": {
          "base_uri": "https://localhost:8080/",
          "height": 231
        },
        "id": "xqqterg_hemF",
        "outputId": "74f6d432-7749-47c3-e79a-9dcd72b7dd3d"
      },
      "source": [
        "from sklearn.metrics import mean_squared_error, explained_variance_score, r2_score, mean_absolute_error\n",
        "\n",
        "# TODO\n",
        "\n",
        "# X_test, y_train, y_test \n",
        "error = mean_squared_error(predict,y_test)\n",
        "error\n",
        "# reg_rf \n",
        "# reg_rf_random "
      ],
      "execution_count": null,
      "outputs": [
        {
          "output_type": "error",
          "ename": "NameError",
          "evalue": "ignored",
          "traceback": [
            "\u001b[0;31m---------------------------------------------------------------------------\u001b[0m",
            "\u001b[0;31mNameError\u001b[0m                                 Traceback (most recent call last)",
            "\u001b[0;32m<ipython-input-12-e0a3ccd125eb>\u001b[0m in \u001b[0;36m<module>\u001b[0;34m()\u001b[0m\n\u001b[1;32m      4\u001b[0m \u001b[0;34m\u001b[0m\u001b[0m\n\u001b[1;32m      5\u001b[0m \u001b[0;31m# X_test, y_train, y_test\u001b[0m\u001b[0;34m\u001b[0m\u001b[0;34m\u001b[0m\u001b[0;34m\u001b[0m\u001b[0m\n\u001b[0;32m----> 6\u001b[0;31m \u001b[0merror\u001b[0m \u001b[0;34m=\u001b[0m \u001b[0mmean_squared_error\u001b[0m\u001b[0;34m(\u001b[0m\u001b[0mpredict\u001b[0m\u001b[0;34m,\u001b[0m\u001b[0my_test\u001b[0m\u001b[0;34m)\u001b[0m\u001b[0;34m\u001b[0m\u001b[0;34m\u001b[0m\u001b[0m\n\u001b[0m\u001b[1;32m      7\u001b[0m \u001b[0merror\u001b[0m\u001b[0;34m\u001b[0m\u001b[0;34m\u001b[0m\u001b[0m\n\u001b[1;32m      8\u001b[0m \u001b[0;31m# reg_rf\u001b[0m\u001b[0;34m\u001b[0m\u001b[0;34m\u001b[0m\u001b[0;34m\u001b[0m\u001b[0m\n",
            "\u001b[0;31mNameError\u001b[0m: name 'predict' is not defined"
          ]
        }
      ]
    },
    {
      "cell_type": "code",
      "metadata": {
        "id": "Dhm9T0wQhg39"
      },
      "source": [
        "from sklearn.metrics import mean_squared_error, explained_variance_score, r2_score, mean_absolute_error\n",
        "\n",
        "predict = reg_lin.predict(X_test)\n",
        "# reg_rf \n",
        "# reg_rf_random "
      ],
      "execution_count": null,
      "outputs": []
    },
    {
      "cell_type": "code",
      "metadata": {
        "id": "pJmVaMGLhlFS"
      },
      "source": [
        "from sklearn.metrics import mean_squared_error, explained_variance_score, r2_score, mean_absolute_error\n",
        "#  X_test, y_train, y_test \n",
        "models = [reg_lin, reg_rf, reg_rf_random]\n",
        "for model in models:\n",
        "    print(mean_squared_error(model.predict(X_test), y_test))\n",
        "    print(explained_variance_score(model.predict(X_test), y_test))\n",
        "    print(r2_score(model.predict(X_test), y_test))\n",
        "    print(mean_absolute_error(model.predict(X_test), y_test))\n",
        "    print('')\n",
        "# print(mean_squared_error(reg_lin.predict(X_test), y_test))\n",
        "# print(mean_squared_error(reg_rf.predict(X_test), y_test))\n",
        "# print(mean_squared_error(reg_rf_random.predict(X_test), y_test))\n",
        "# reg_rf \n",
        "# reg_rf_random "
      ],
      "execution_count": null,
      "outputs": []
    },
    {
      "cell_type": "markdown",
      "metadata": {
        "id": "KbtrsJlxhnU5"
      },
      "source": [
        "The Tuned Random Forest performs better. Therefore we would like to use the random forest."
      ]
    },
    {
      "cell_type": "markdown",
      "metadata": {
        "id": "rcjNMIdthpFM"
      },
      "source": [
        "Implement PFI\n",
        "\n",
        "Implement a function pfi(X,y, predict, loss, nr_perm) that estimates PFI given a prediction function, loss function and data sample. It returns a numpy array with shape (nr_perm, nr_features) where entry i,ji, ji,j is the PFI for feature XjX_jXj​ given the iii-th permutation πi\\pi_iπi​."
      ]
    },
    {
      "cell_type": "code",
      "metadata": {
        "id": "v6KHqkKOhrWv"
      },
      "source": [
        "# TODO\n",
        "def pfi(X,y, predict, loss, nr_perm):\n",
        "    X = np.zeros(X.shape[1])\n",
        "    X_train, X_test, y_train, y_test = train_test_split(X,y)\n",
        "    model = LinearRegression()\n",
        "    x_perturbed = np.random.permutation(X_train)\n",
        "    model.fit(x_perturbed,y_train)\n",
        "    y_perturbed = model.predict(x_test)\n",
        "    for i in range(nr_perm):\n",
        "        for j in range(X.shape[1]):\n",
        "            X[j] = 1/X.shape[1] * np.sum(mean_squared_error(y_perturbed ,y_test) - mean_squared_error(predict,y_test))\n",
        "    return X"
      ],
      "execution_count": null,
      "outputs": []
    },
    {
      "cell_type": "code",
      "metadata": {
        "id": "Cg_5zvXLhuhT"
      },
      "source": [
        "ax = pfi(X,y,predict,loss,20)"
      ],
      "execution_count": null,
      "outputs": []
    },
    {
      "cell_type": "code",
      "metadata": {
        "id": "6isDkPuAhyfG"
      },
      "source": [
        "len(X)\n",
        "X.shape"
      ],
      "execution_count": null,
      "outputs": []
    },
    {
      "cell_type": "code",
      "metadata": {
        "id": "eFAsiXudh0SM"
      },
      "source": [
        "import copy\n",
        "from matplotlib import pyplot as plt\n",
        "# # PFI head (xj) = 1/n sum [L(y,y_perturb)] - [L(y,y_head)]\n",
        "def pfi_joe(X_in,y_in, predict, loss, nr_perm):\n",
        "    X_in=np.array(X_in)\n",
        "    y_in=np.array(y_in)\n",
        "    nr_features = X_in.shape[1]\n",
        "    output = np.zeros((nr_perm,nr_features))\n",
        "    for j in range(nr_features):\n",
        "        for i in range(nr_perm):\n",
        "            X_permuted = copy.deepcopy(X_in)\n",
        "            X_permuted[:,j] = np.random.permutation(X_in[:,j])\n",
        "            # print(sum(X_in-X_permuted))\n",
        "            # print(np.random.permutation(X_in[:,j]))\n",
        "            # print(np.array_equal(X_permuted, X_in))\n",
        "            output[i,j] = loss(predict(X_permuted),y_in) - loss(predict(X_in),y_in)\n",
        "            # print(output[i,j])\n",
        "    return output\n",
        "outputt = pfi_joe(X_test,y_test, reg_lin.predict, explained_variance_score, 30)\n",
        "outputt.shape\n",
        "plt.plot(np.mean(outputt,0))\n",
        "print(X.columns)"
      ],
      "execution_count": null,
      "outputs": []
    },
    {
      "cell_type": "code",
      "metadata": {
        "id": "1msLRtvGh3Iw"
      },
      "source": [
        "# X_train, X_test, y_train, y_test\n",
        "models = [reg_lin, reg_rf, reg_rf_random]\n",
        "losses = [mean_squared_error, explained_variance_score, r2_score, mean_absolute_error]\n",
        "nr_perm = 20\n",
        "print(X.columns)\n",
        "for model in models:\n",
        "    for loss in losses:\n",
        "        print(model)\n",
        "        print(loss)\n",
        "        outputt = pfi_joe(X_test,y_test, model.predict, loss, nr_perm)\n",
        "        outputt.shape\n",
        "        plt.plot(np.mean(outputt,0))\n",
        "        plt.show()\n",
        "        "
      ],
      "execution_count": null,
      "outputs": []
    },
    {
      "cell_type": "markdown",
      "metadata": {
        "id": "DtPhckmwh8Ls"
      },
      "source": [
        "Using numpy, compute mean and standard deviation for the PFI estimates of each feature. Built this functionality into your PFI function, such that mean and std are returned. Using matplotlib, create a barplot with each bar representing the imp ortance of one features. Order the features by the magnitude of their PFI. Use the yerr keyword argument to include the standard devitions to the plot."
      ]
    },
    {
      "cell_type": "code",
      "metadata": {
        "id": "0cMGWZysiBFo"
      },
      "source": [
        "import matplotlib.pyplot as plt\n",
        "%matplotlib inline\n",
        "\n",
        "nr_perm = 10\n",
        "figsize = (16, 10)\n",
        "\n",
        "# TODO"
      ],
      "execution_count": null,
      "outputs": []
    },
    {
      "cell_type": "markdown",
      "metadata": {
        "id": "DFhz-qRbgKdB"
      },
      "source": [
        "In this tutorial, we will ﬁt and interpret a model ﬁtted on the bike sharing dataset. The dataset contains whether and seasonal information that can be used to predict the number of bikes that have been rented either on a daily or hourly basis.\n",
        "\n",
        "Over the course of this exercise you will ﬁt ML model on the dataset and interpret them by inspection of the parameters as well as using a self-implemented version of PFI."
      ]
    }
  ]
}