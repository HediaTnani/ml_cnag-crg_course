{
  "nbformat": 4,
  "nbformat_minor": 0,
  "metadata": {
    "colab": {
      "name": "ML_course_CNAG-CRG_day2.ipynb",
      "provenance": [],
      "collapsed_sections": [],
      "toc_visible": true
    },
    "kernelspec": {
      "name": "python3",
      "display_name": "Python 3"
    }
  },
  "cells": [
    {
      "cell_type": "markdown",
      "metadata": {
        "id": "Or5AEb1GWJGT"
      },
      "source": [
        "# Supervised learning\n",
        "\n",
        "Supervised learning aims to predict labels of data using annotated examples. Supervised algorithms learn patterns on \"tagged\" data for later predicting the outcome of data which the model has not seen before. \n",
        "\n",
        "There are two branches in supervised learning:\n",
        "\n",
        "\n",
        "*   **Classification:** learns and predicts discrete labels on the data (e.g. Diabetic/Healthy, Dead cell/Live cell...)  \n",
        "*   **Regression:** predicts a continuous value based on the a set of explanatory variables (e.g. weight based on the height or age based on methylation pattern).\n",
        "\n",
        "Two important concepts in supervised learning are **response variable** and the **predictive variables**. Supervised models aim to predict the response variable using the values from the predictor variables.\n",
        "\n"
      ]
    },
    {
      "cell_type": "markdown",
      "metadata": {
        "id": "pwmpdrgjstIA"
      },
      "source": [
        "Let's look at examples:\n",
        "\n",
        "The iris dataset contains information about 3 species of plants."
      ]
    },
    {
      "cell_type": "code",
      "metadata": {
        "colab": {
          "base_uri": "https://localhost:8080/",
          "height": 204
        },
        "id": "E5aNSYKitRaP",
        "outputId": "4a167d89-280e-474b-a94f-8397c17eb161"
      },
      "source": [
        "# import packages\n",
        "import numpy as np\n",
        "import pandas as pd\n",
        "from sklearn import datasets\n",
        "\n",
        "# load dataset\n",
        "iris_dataset = datasets.load_iris()\n",
        "\n",
        "# create data frame with predictive and variables\n",
        "iris_table = pd.DataFrame(data = iris_dataset['data'], \n",
        "                          columns = iris_dataset['feature_names'])\n",
        "\n",
        "# add response variable to the table\n",
        "iris_table['species'] = pd.Categorical.from_codes(iris_dataset.target, iris_dataset.target_names)\n",
        "\n",
        "# show first five rows of the dataframe\n",
        "iris_table.head()"
      ],
      "execution_count": 2,
      "outputs": [
        {
          "output_type": "execute_result",
          "data": {
            "text/html": [
              "<div>\n",
              "<style scoped>\n",
              "    .dataframe tbody tr th:only-of-type {\n",
              "        vertical-align: middle;\n",
              "    }\n",
              "\n",
              "    .dataframe tbody tr th {\n",
              "        vertical-align: top;\n",
              "    }\n",
              "\n",
              "    .dataframe thead th {\n",
              "        text-align: right;\n",
              "    }\n",
              "</style>\n",
              "<table border=\"1\" class=\"dataframe\">\n",
              "  <thead>\n",
              "    <tr style=\"text-align: right;\">\n",
              "      <th></th>\n",
              "      <th>sepal length (cm)</th>\n",
              "      <th>sepal width (cm)</th>\n",
              "      <th>petal length (cm)</th>\n",
              "      <th>petal width (cm)</th>\n",
              "      <th>species</th>\n",
              "    </tr>\n",
              "  </thead>\n",
              "  <tbody>\n",
              "    <tr>\n",
              "      <th>0</th>\n",
              "      <td>5.1</td>\n",
              "      <td>3.5</td>\n",
              "      <td>1.4</td>\n",
              "      <td>0.2</td>\n",
              "      <td>setosa</td>\n",
              "    </tr>\n",
              "    <tr>\n",
              "      <th>1</th>\n",
              "      <td>4.9</td>\n",
              "      <td>3.0</td>\n",
              "      <td>1.4</td>\n",
              "      <td>0.2</td>\n",
              "      <td>setosa</td>\n",
              "    </tr>\n",
              "    <tr>\n",
              "      <th>2</th>\n",
              "      <td>4.7</td>\n",
              "      <td>3.2</td>\n",
              "      <td>1.3</td>\n",
              "      <td>0.2</td>\n",
              "      <td>setosa</td>\n",
              "    </tr>\n",
              "    <tr>\n",
              "      <th>3</th>\n",
              "      <td>4.6</td>\n",
              "      <td>3.1</td>\n",
              "      <td>1.5</td>\n",
              "      <td>0.2</td>\n",
              "      <td>setosa</td>\n",
              "    </tr>\n",
              "    <tr>\n",
              "      <th>4</th>\n",
              "      <td>5.0</td>\n",
              "      <td>3.6</td>\n",
              "      <td>1.4</td>\n",
              "      <td>0.2</td>\n",
              "      <td>setosa</td>\n",
              "    </tr>\n",
              "  </tbody>\n",
              "</table>\n",
              "</div>"
            ],
            "text/plain": [
              "   sepal length (cm)  sepal width (cm)  ...  petal width (cm)  species\n",
              "0                5.1               3.5  ...               0.2   setosa\n",
              "1                4.9               3.0  ...               0.2   setosa\n",
              "2                4.7               3.2  ...               0.2   setosa\n",
              "3                4.6               3.1  ...               0.2   setosa\n",
              "4                5.0               3.6  ...               0.2   setosa\n",
              "\n",
              "[5 rows x 5 columns]"
            ]
          },
          "metadata": {
            "tags": []
          },
          "execution_count": 2
        }
      ]
    },
    {
      "cell_type": "markdown",
      "metadata": {
        "id": "yXLECBPmGqoj"
      },
      "source": [
        "Another example is the diabetes dataset."
      ]
    },
    {
      "cell_type": "code",
      "metadata": {
        "colab": {
          "base_uri": "https://localhost:8080/",
          "height": 204
        },
        "id": "HJ0CggcFsX-q",
        "outputId": "e8a70b45-ca23-4633-d574-6df2fbb4e480"
      },
      "source": [
        "# load dataset\n",
        "diabetes_dataset = datasets.load_diabetes()\n",
        "\n",
        "# create data frame with predictive variables\n",
        "diabetes_table = pd.DataFrame(data = diabetes_dataset['data'],\n",
        "                              columns = diabetes_dataset['feature_names'])\n",
        "\n",
        "# add response variable to the table\n",
        "diabetes_table['disease_progression'] = pd.Series(data = diabetes_dataset['target'])\n",
        "\n",
        "# show first five rows of the dataframe\n",
        "diabetes_table.head()"
      ],
      "execution_count": 3,
      "outputs": [
        {
          "output_type": "execute_result",
          "data": {
            "text/html": [
              "<div>\n",
              "<style scoped>\n",
              "    .dataframe tbody tr th:only-of-type {\n",
              "        vertical-align: middle;\n",
              "    }\n",
              "\n",
              "    .dataframe tbody tr th {\n",
              "        vertical-align: top;\n",
              "    }\n",
              "\n",
              "    .dataframe thead th {\n",
              "        text-align: right;\n",
              "    }\n",
              "</style>\n",
              "<table border=\"1\" class=\"dataframe\">\n",
              "  <thead>\n",
              "    <tr style=\"text-align: right;\">\n",
              "      <th></th>\n",
              "      <th>age</th>\n",
              "      <th>sex</th>\n",
              "      <th>bmi</th>\n",
              "      <th>bp</th>\n",
              "      <th>s1</th>\n",
              "      <th>s2</th>\n",
              "      <th>s3</th>\n",
              "      <th>s4</th>\n",
              "      <th>s5</th>\n",
              "      <th>s6</th>\n",
              "      <th>disease_progression</th>\n",
              "    </tr>\n",
              "  </thead>\n",
              "  <tbody>\n",
              "    <tr>\n",
              "      <th>0</th>\n",
              "      <td>0.038076</td>\n",
              "      <td>0.050680</td>\n",
              "      <td>0.061696</td>\n",
              "      <td>0.021872</td>\n",
              "      <td>-0.044223</td>\n",
              "      <td>-0.034821</td>\n",
              "      <td>-0.043401</td>\n",
              "      <td>-0.002592</td>\n",
              "      <td>0.019908</td>\n",
              "      <td>-0.017646</td>\n",
              "      <td>151.0</td>\n",
              "    </tr>\n",
              "    <tr>\n",
              "      <th>1</th>\n",
              "      <td>-0.001882</td>\n",
              "      <td>-0.044642</td>\n",
              "      <td>-0.051474</td>\n",
              "      <td>-0.026328</td>\n",
              "      <td>-0.008449</td>\n",
              "      <td>-0.019163</td>\n",
              "      <td>0.074412</td>\n",
              "      <td>-0.039493</td>\n",
              "      <td>-0.068330</td>\n",
              "      <td>-0.092204</td>\n",
              "      <td>75.0</td>\n",
              "    </tr>\n",
              "    <tr>\n",
              "      <th>2</th>\n",
              "      <td>0.085299</td>\n",
              "      <td>0.050680</td>\n",
              "      <td>0.044451</td>\n",
              "      <td>-0.005671</td>\n",
              "      <td>-0.045599</td>\n",
              "      <td>-0.034194</td>\n",
              "      <td>-0.032356</td>\n",
              "      <td>-0.002592</td>\n",
              "      <td>0.002864</td>\n",
              "      <td>-0.025930</td>\n",
              "      <td>141.0</td>\n",
              "    </tr>\n",
              "    <tr>\n",
              "      <th>3</th>\n",
              "      <td>-0.089063</td>\n",
              "      <td>-0.044642</td>\n",
              "      <td>-0.011595</td>\n",
              "      <td>-0.036656</td>\n",
              "      <td>0.012191</td>\n",
              "      <td>0.024991</td>\n",
              "      <td>-0.036038</td>\n",
              "      <td>0.034309</td>\n",
              "      <td>0.022692</td>\n",
              "      <td>-0.009362</td>\n",
              "      <td>206.0</td>\n",
              "    </tr>\n",
              "    <tr>\n",
              "      <th>4</th>\n",
              "      <td>0.005383</td>\n",
              "      <td>-0.044642</td>\n",
              "      <td>-0.036385</td>\n",
              "      <td>0.021872</td>\n",
              "      <td>0.003935</td>\n",
              "      <td>0.015596</td>\n",
              "      <td>0.008142</td>\n",
              "      <td>-0.002592</td>\n",
              "      <td>-0.031991</td>\n",
              "      <td>-0.046641</td>\n",
              "      <td>135.0</td>\n",
              "    </tr>\n",
              "  </tbody>\n",
              "</table>\n",
              "</div>"
            ],
            "text/plain": [
              "        age       sex       bmi  ...        s5        s6  disease_progression\n",
              "0  0.038076  0.050680  0.061696  ...  0.019908 -0.017646                151.0\n",
              "1 -0.001882 -0.044642 -0.051474  ... -0.068330 -0.092204                 75.0\n",
              "2  0.085299  0.050680  0.044451  ...  0.002864 -0.025930                141.0\n",
              "3 -0.089063 -0.044642 -0.011595  ...  0.022692 -0.009362                206.0\n",
              "4  0.005383 -0.044642 -0.036385  ... -0.031991 -0.046641                135.0\n",
              "\n",
              "[5 rows x 11 columns]"
            ]
          },
          "metadata": {
            "tags": []
          },
          "execution_count": 3
        }
      ]
    },
    {
      "cell_type": "markdown",
      "metadata": {
        "id": "b4Dl5ldFo9uY"
      },
      "source": [
        "# Regression\n",
        "\n",
        "Regression algorithms learn the relationship between the predictor and the response variable. The output is a numeric value. "
      ]
    },
    {
      "cell_type": "markdown",
      "metadata": {
        "id": "kp4TLMuDoCMi"
      },
      "source": [
        "\n",
        "\n",
        "## Simple linear regression\n",
        "\n",
        "Simple linear regression tries to find the linear relationship between one predictor variable and the response variable. In other words it tries to find the line which best fits the training data. It follows the formula:\n",
        "\n",
        "<br>\n",
        "\n",
        " $$ \n",
        "  \\hat y = \\beta_0 + \\beta_1  x \n",
        " $$\n",
        "\n",
        "<br>\n",
        "\n",
        "* $\\hat y = $ predicted value\n",
        "* $x$ = predictor variable\n",
        "* $\\beta_1$ = model coefficient (slope of the line in simple linear regression)\n",
        "* $\\beta_0$ = bias term (intercept in simple linear regression)\n",
        "\n",
        "Let's see a simple example with the iris dataset:\n",
        "\n"
      ]
    },
    {
      "cell_type": "code",
      "metadata": {
        "colab": {
          "base_uri": "https://localhost:8080/",
          "height": 400
        },
        "id": "IY9BNRZE4n3S",
        "outputId": "d7001a18-9d96-430e-f608-b5ad4dbcd073"
      },
      "source": [
        "import seaborn as sns\n",
        "%matplotlib inline\n",
        "\n",
        "# plot the petal width v.s. the petal length\n",
        "sns.relplot(data = iris_table,\n",
        "            x = iris_table.columns[2], y = iris_table.columns[3])"
      ],
      "execution_count": 4,
      "outputs": [
        {
          "output_type": "execute_result",
          "data": {
            "text/plain": [
              "<seaborn.axisgrid.FacetGrid at 0x7fddd83e2910>"
            ]
          },
          "metadata": {
            "tags": []
          },
          "execution_count": 4
        },
        {
          "output_type": "display_data",
          "data": {
            "image/png": "[encoded data removed]",
            "text/plain": [
              "<Figure size 360x360 with 1 Axes>"
            ]
          },
          "metadata": {
            "tags": [],
            "needs_background": "light"
          }
        }
      ]
    },
    {
      "cell_type": "markdown",
      "metadata": {
        "id": "cW3lm-aK48ti"
      },
      "source": [
        "<br>\n",
        "\n",
        "Fit a linear regression model to the data."
      ]
    },
    {
      "cell_type": "code",
      "metadata": {
        "colab": {
          "base_uri": "https://localhost:8080/"
        },
        "id": "VF5tqlMfpGMp",
        "outputId": "891989ee-659e-4b97-d741-28817e01c52b"
      },
      "source": [
        "from sklearn import linear_model\n",
        "\n",
        "# create a linear regression object\n",
        "regres_iris = linear_model.LinearRegression()\n",
        "\n",
        "# create new arrays for the predictive and response variables\n",
        "pet_wid = iris_dataset['data'][:, np.newaxis, 3]\n",
        "pet_len = iris_dataset['data'][:, np.newaxis, 2]\n",
        "\n",
        "# fit linear regression model to the data\n",
        "regres_iris.fit(pet_len, pet_wid)\n",
        "\n",
        "# extract slope \n",
        "m = float(regres_iris.coef_)\n",
        "\n",
        "# extract intercept\n",
        "n = float(regres_iris.intercept_)\n",
        "\n",
        "print('slope = {} and intercept = {}'.format(m, n))"
      ],
      "execution_count": 5,
      "outputs": [
        {
          "output_type": "stream",
          "text": [
            "slope = 0.41575541635241153 and intercept = -0.3630755213190291\n"
          ],
          "name": "stdout"
        }
      ]
    },
    {
      "cell_type": "markdown",
      "metadata": {
        "id": "yUz9Hl3g_h2J"
      },
      "source": [
        "<br>\n",
        "Plot fitted line"
      ]
    },
    {
      "cell_type": "code",
      "metadata": {
        "colab": {
          "base_uri": "https://localhost:8080/",
          "height": 296
        },
        "id": "L51G_pSb_QxK",
        "outputId": "b9fd6db2-b0c7-4b7b-c4d3-dce3632415f8"
      },
      "source": [
        "import matplotlib.pyplot as plt\n",
        "plt.plot(iris_dataset['data'][:,2], iris_dataset['data'][:,3], 'o')\n",
        "plt.plot(iris_dataset['data'][:,2], m*iris_dataset['data'][:,2] + n)\n",
        "plt.xlabel(\"petal length (cm)\")\n",
        "plt.ylabel(\"petal width (cm)\")"
      ],
      "execution_count": 6,
      "outputs": [
        {
          "output_type": "execute_result",
          "data": {
            "text/plain": [
              "Text(0, 0.5, 'petal width (cm)')"
            ]
          },
          "metadata": {
            "tags": []
          },
          "execution_count": 6
        },
        {
          "output_type": "display_data",
          "data": {
            "image/png": "[encoded data removed]",
            "text/plain": [
              "<Figure size 432x288 with 1 Axes>"
            ]
          },
          "metadata": {
            "tags": [],
            "needs_background": "light"
          }
        }
      ]
    },
    {
      "cell_type": "markdown",
      "metadata": {
        "id": "w6zb8QTbHGKc"
      },
      "source": [
        "<br>\n",
        "\n",
        "The linear model follows the equation shown above:\n",
        "\n",
        "<br>\n",
        "\n",
        " $$ \n",
        "  \\hat y = \\beta_0 + \\beta_1  x \n",
        " $$\n",
        "\n",
        "<br>\n",
        "\n",
        "* $ \\beta_1 $ = 0.42\n",
        "* $ \\beta_0 $ = -0.36\n",
        "\n",
        "<br>\n",
        "\n",
        "$$ \\hat y = 0.42 -0.36 x $$\n",
        "\n",
        "<br>\n",
        "\n",
        "How are $ \\beta_0 $ and $ \\beta_1 $ estimated? In other words how is the line which fits the data best found?\n",
        "\n",
        "In regression algorithms the aim is to find the model which minimises the loss function. Choosing the apropriate loss function is key in machine learning. In the case of simple linear regression the aim is to find the line which minimises the difference between the predicted values and the true values. \n",
        "\n",
        "Let's look at it in this image: \n",
        "\n",
        "<br>\n",
        "\n",
        "![image.png](https://littleml.files.wordpress.com/2019/03/residuals-1.png))\n",
        "\n",
        "<br>\n",
        "\n",
        "The difference between the predicted value and the true value is called residual (doted lines). To account for the fact that predictions can be higher and lower than the true value (this is residuals can be positive or negative), a linear model aims to minimise the Residual Sum of Squares (RSS):\n",
        "\n",
        "<br>\n",
        "\n",
        "$$ RSS(\\beta) = \\sum_{i=1}^{N} (\\hat y - y)^2 $$\n",
        "\n",
        "<br>\n",
        "\n",
        "* $\\beta$ = {$\\beta_0, \\beta_1$... $\\beta_n$}\n",
        "* $N$ = number of data points\n",
        "* $\\hat y$ = predicted value\n",
        "* $y$ = true value\n",
        "\n",
        "<br>\n",
        "\n",
        "\n",
        "For linear regression models, there is a closed-formed solution to compute the best coefficient values using the [Normal equation](https://towardsdatascience.com/performing-linear-regression-using-the-normal-equation-6372ed3c57).\n",
        "\n",
        "<br>\n",
        "\n",
        "If our model is unbiased we would expect the residuals to distribute randomly as seen in the plot below:\n",
        "\n",
        "\n",
        "\n"
      ]
    },
    {
      "cell_type": "code",
      "metadata": {
        "colab": {
          "base_uri": "https://localhost:8080/",
          "height": 336
        },
        "id": "UABdcv54UeUX",
        "outputId": "b115b1a5-3ae0-4d54-80fc-6b2215d53c39"
      },
      "source": [
        "# create a residuals plot\n",
        "sns.residplot(iris_dataset['data'][:,2],iris_dataset['data'][:,3])"
      ],
      "execution_count": 7,
      "outputs": [
        {
          "output_type": "stream",
          "text": [
            "/usr/local/lib/python3.7/dist-packages/seaborn/_decorators.py:43: FutureWarning: Pass the following variables as keyword args: x, y. From version 0.12, the only valid positional argument will be `data`, and passing other arguments without an explicit keyword will result in an error or misinterpretation.\n",
            "  FutureWarning\n"
          ],
          "name": "stderr"
        },
        {
          "output_type": "execute_result",
          "data": {
            "text/plain": [
              "<matplotlib.axes._subplots.AxesSubplot at 0x7fddd84680d0>"
            ]
          },
          "metadata": {
            "tags": []
          },
          "execution_count": 7
        },
        {
          "output_type": "display_data",
          "data": {
            "image/png": "[encoded data removed]",
            "text/plain": [
              "<Figure size 432x288 with 1 Axes>"
            ]
          },
          "metadata": {
            "tags": [],
            "needs_background": "light"
          }
        }
      ]
    },
    {
      "cell_type": "markdown",
      "metadata": {
        "id": "UUT_HTM6UBEV"
      },
      "source": [
        "## Evaluate the model\n",
        "\n",
        "There are different metrics to evaluate the performance of linear regression models."
      ]
    },
    {
      "cell_type": "markdown",
      "metadata": {
        "id": "0ILb-dE4Sr8b"
      },
      "source": [
        "### Mean Absolute Error (MAE)\n",
        "\n",
        "The **Mean absolute error** is perhaps the simplest metric. It computes the average absolute difference between predictions and actual values. It therefore follows the formula:\n",
        "\n",
        "$$ MAE(\\beta) = {\\frac{1}{N}}\\sum_{i=1}^{N} |\\hat y - y| $$ \n",
        "\n",
        "* $\\beta$ = {$\\beta_0, \\beta_1$... $\\beta_n$}\n",
        "* $N$ = number of data points\n",
        "* $\\hat y$ = predicted value\n",
        "* $y$ = true value\n",
        "\n",
        "\n",
        "<br>\n",
        "\n",
        "\n",
        "In the case of MAE all residuals are weighted equally. For this reason it is not optimal when outliers are present.\n",
        "\n",
        "The interpretation of this metric relatively straight forward. It indicates the average error of the model (regardless of direction). For example, if a linear regression model which predicts the height (cm) based on the weight (kg) has MAE = 3, it indicates that the model predictions have an average of error ±3 cm."
      ]
    },
    {
      "cell_type": "markdown",
      "metadata": {
        "id": "dI1-2h4DGLd8"
      },
      "source": [
        "\n",
        "\n",
        "<br>\n",
        "\n",
        "### Root Mean Square Error (RMSE)\n",
        "\n",
        "The **Root mean square error**  is another common metric to evaluate the performance of machine learning algorithms. It follows the formula:\n",
        "\n",
        "<br>\n",
        "\n",
        "$$ RMSE(\\beta) =  \\sqrt {\\frac{1}{N}\\sum_{i=1}^{N}(\\hat y - y)^2} $$\n",
        "\n",
        "\n",
        "* $\\beta$ = {$\\beta_0, \\beta_1$... $\\beta_n$}\n",
        "* $N$ = number of data points\n",
        "* $\\hat y$ = predicted value\n",
        "* $y$ = true value\n",
        "\n",
        "<br>\n",
        "\n",
        "Since the differences between predicted and true values are squared, the importance of errors increases quadratically on their value. This means that predictions which are very far from the true values are penalised by RMSE. "
      ]
    },
    {
      "cell_type": "markdown",
      "metadata": {
        "id": "sGVi5TRMS2Sv"
      },
      "source": [
        "### Coeficient of determination ($ R^2$)\n",
        "\n",
        "There are other metrics which evaluate how good the model fits data. The coefficient of determination or R-squared ($R^2$) is one example. It measures the proportion of total variance of the response variable explained by model. The higher the value the better the model fits the data. It follows the equation:\n",
        "\n",
        "<br>\n",
        "\n",
        "$$ R^2 = 1 - \\frac {SS_{res}}{SS_{tot}} = 1 - \\frac {\\sum_{i=1}^{N} (\\hat y - y)^2}{\\sum_{i=1}^{N}(y - \\bar y)^2} $$\n",
        "\n",
        "* $ \\hat y = $ predicted value\n",
        "* $ y = $ true value\n",
        "* $ \\bar y =  $ mean of response variable\n",
        "* $ N = $ number of data points\n",
        "\n",
        "<br>"
      ]
    },
    {
      "cell_type": "markdown",
      "metadata": {
        "id": "wqvHUZIbpGMc"
      },
      "source": [
        "## Build linear model\n",
        "\n",
        "Let's now fit a simple linear model to the iris dataset and make predictions. In this case we are interested in predicting the petal width (response variable) using the petal length as predictor variable.\n",
        "\n",
        "\n",
        "The process has the following steps:\n",
        "\n",
        "1. Split dataset into training and test set\n",
        "2. Fit linear model to the training data\n",
        "3. Apply the model to test set.\n",
        "4. Evaluate the model performance (MAE, RMSE and $R^2$)"
      ]
    },
    {
      "cell_type": "code",
      "metadata": {
        "colab": {
          "base_uri": "https://localhost:8080/"
        },
        "id": "8x35qsQOb4kp",
        "outputId": "d07c60eb-6b0e-4d45-92c9-7966f28c2355"
      },
      "source": [
        "# split dataset into training and test set\n",
        "\n",
        "# set a random seed so that the randomly sampled rows are always the same\n",
        "import random\n",
        "random.seed(20)\n",
        "\n",
        "# sample 20 row numbers to use as test set\n",
        "rows_test = random.sample(range(0,pet_len.shape[0]),20)\n",
        "\n",
        "# get the remaining row numbers as training set\n",
        "rows_train = np.setxor1d(rows_test, list(range(0, pet_len.shape[0])))\n",
        "\n",
        "# split predictor variable into test and training set\n",
        "pet_len_train = np.delete(pet_len, rows_test)[:,np.newaxis]\n",
        "pet_len_test = np.delete(pet_len, rows_train)[:,np.newaxis]\n",
        "\n",
        "# split response variable into test and training set\n",
        "pet_wid_train = np.delete(pet_wid, rows_test)[:, np.newaxis]\n",
        "pet_wid_test = np.delete(pet_wid, rows_train)[:,np.newaxis]\n",
        "\n",
        "print(\"Training set has {} observations and test set has {}\".format(pet_len_train.shape[0], pet_len_test.shape[0]))\n",
        "\n"
      ],
      "execution_count": 25,
      "outputs": [
        {
          "output_type": "stream",
          "text": [
            "Training set has 130 observations and test set has 20\n"
          ],
          "name": "stdout"
        }
      ]
    },
    {
      "cell_type": "code",
      "metadata": {
        "colab": {
          "base_uri": "https://localhost:8080/",
          "height": 296
        },
        "id": "r-XFMLPGWAka",
        "outputId": "0b29d01b-dfac-4bb9-ed68-65b5b9176c1a"
      },
      "source": [
        "# fit a line to the training set\n",
        "\n",
        "# create a linear regression object\n",
        "regres_pet = linear_model.LinearRegression()\n",
        "\n",
        "# fit a linear model to the training data\n",
        "regres_pet.fit(pet_len_train, pet_wid_train)\n",
        "\n",
        "# plot the length v.s. width the the fitted line\n",
        "plt.plot(pet_len_train , pet_wid_train, 'o')\n",
        "plt.plot(pet_len_train, regres_pet.predict(pet_len_train))\n",
        "plt.xlabel(\"petal length (cm)\")\n",
        "plt.ylabel(\"petal width (cm)\")"
      ],
      "execution_count": 26,
      "outputs": [
        {
          "output_type": "execute_result",
          "data": {
            "text/plain": [
              "Text(0, 0.5, 'petal width (cm)')"
            ]
          },
          "metadata": {
            "tags": []
          },
          "execution_count": 26
        },
        {
          "output_type": "display_data",
          "data": {
            "image/png": "[encoded data removed]",
            "text/plain": [
              "<Figure size 432x288 with 1 Axes>"
            ]
          },
          "metadata": {
            "tags": [],
            "needs_background": "light"
          }
        }
      ]
    },
    {
      "cell_type": "code",
      "metadata": {
        "colab": {
          "base_uri": "https://localhost:8080/",
          "height": 669
        },
        "id": "V9lPtu8JYaK3",
        "outputId": "5d65df35-cad9-41da-9486-df6dad73b941"
      },
      "source": [
        "# make predictions on the test set\n",
        "pet_wid_pred = regres_pet.predict(pet_len_test)\n",
        "\n",
        "# create data frame with predicted and true values\n",
        "pred_table_wid = pd.DataFrame.from_dict({'Predicted_width': pet_wid_pred.flatten(), 'True_width': pet_wid_test.flatten()})\n",
        "\n",
        "# print data frame \n",
        "pred_table_wid"
      ],
      "execution_count": 27,
      "outputs": [
        {
          "output_type": "execute_result",
          "data": {
            "text/html": [
              "<div>\n",
              "<style scoped>\n",
              "    .dataframe tbody tr th:only-of-type {\n",
              "        vertical-align: middle;\n",
              "    }\n",
              "\n",
              "    .dataframe tbody tr th {\n",
              "        vertical-align: top;\n",
              "    }\n",
              "\n",
              "    .dataframe thead th {\n",
              "        text-align: right;\n",
              "    }\n",
              "</style>\n",
              "<table border=\"1\" class=\"dataframe\">\n",
              "  <thead>\n",
              "    <tr style=\"text-align: right;\">\n",
              "      <th></th>\n",
              "      <th>Predicted_width</th>\n",
              "      <th>True_width</th>\n",
              "    </tr>\n",
              "  </thead>\n",
              "  <tbody>\n",
              "    <tr>\n",
              "      <th>0</th>\n",
              "      <td>0.213548</td>\n",
              "      <td>0.3</td>\n",
              "    </tr>\n",
              "    <tr>\n",
              "      <th>1</th>\n",
              "      <td>0.254940</td>\n",
              "      <td>0.3</td>\n",
              "    </tr>\n",
              "    <tr>\n",
              "      <th>2</th>\n",
              "      <td>0.296332</td>\n",
              "      <td>0.2</td>\n",
              "    </tr>\n",
              "    <tr>\n",
              "      <th>3</th>\n",
              "      <td>0.296332</td>\n",
              "      <td>0.4</td>\n",
              "    </tr>\n",
              "    <tr>\n",
              "      <th>4</th>\n",
              "      <td>0.254940</td>\n",
              "      <td>0.1</td>\n",
              "    </tr>\n",
              "    <tr>\n",
              "      <th>5</th>\n",
              "      <td>0.172156</td>\n",
              "      <td>0.2</td>\n",
              "    </tr>\n",
              "    <tr>\n",
              "      <th>6</th>\n",
              "      <td>0.296332</td>\n",
              "      <td>0.6</td>\n",
              "    </tr>\n",
              "    <tr>\n",
              "      <th>7</th>\n",
              "      <td>1.496697</td>\n",
              "      <td>1.5</td>\n",
              "    </tr>\n",
              "    <tr>\n",
              "      <th>8</th>\n",
              "      <td>1.289738</td>\n",
              "      <td>1.3</td>\n",
              "    </tr>\n",
              "    <tr>\n",
              "      <th>9</th>\n",
              "      <td>1.496697</td>\n",
              "      <td>1.5</td>\n",
              "    </tr>\n",
              "    <tr>\n",
              "      <th>10</th>\n",
              "      <td>1.165562</td>\n",
              "      <td>1.0</td>\n",
              "    </tr>\n",
              "    <tr>\n",
              "      <th>11</th>\n",
              "      <td>1.745049</td>\n",
              "      <td>1.6</td>\n",
              "    </tr>\n",
              "    <tr>\n",
              "      <th>12</th>\n",
              "      <td>1.496697</td>\n",
              "      <td>1.5</td>\n",
              "    </tr>\n",
              "    <tr>\n",
              "      <th>13</th>\n",
              "      <td>1.496697</td>\n",
              "      <td>1.6</td>\n",
              "    </tr>\n",
              "    <tr>\n",
              "      <th>14</th>\n",
              "      <td>2.034792</td>\n",
              "      <td>2.2</td>\n",
              "    </tr>\n",
              "    <tr>\n",
              "      <th>15</th>\n",
              "      <td>2.365927</td>\n",
              "      <td>2.1</td>\n",
              "    </tr>\n",
              "    <tr>\n",
              "      <th>16</th>\n",
              "      <td>1.827833</td>\n",
              "      <td>2.3</td>\n",
              "    </tr>\n",
              "    <tr>\n",
              "      <th>17</th>\n",
              "      <td>1.662265</td>\n",
              "      <td>2.0</td>\n",
              "    </tr>\n",
              "    <tr>\n",
              "      <th>18</th>\n",
              "      <td>1.703657</td>\n",
              "      <td>1.9</td>\n",
              "    </tr>\n",
              "    <tr>\n",
              "      <th>19</th>\n",
              "      <td>1.869225</td>\n",
              "      <td>2.3</td>\n",
              "    </tr>\n",
              "  </tbody>\n",
              "</table>\n",
              "</div>"
            ],
            "text/plain": [
              "    Predicted_width  True_width\n",
              "0          0.213548         0.3\n",
              "1          0.254940         0.3\n",
              "2          0.296332         0.2\n",
              "3          0.296332         0.4\n",
              "4          0.254940         0.1\n",
              "5          0.172156         0.2\n",
              "6          0.296332         0.6\n",
              "7          1.496697         1.5\n",
              "8          1.289738         1.3\n",
              "9          1.496697         1.5\n",
              "10         1.165562         1.0\n",
              "11         1.745049         1.6\n",
              "12         1.496697         1.5\n",
              "13         1.496697         1.6\n",
              "14         2.034792         2.2\n",
              "15         2.365927         2.1\n",
              "16         1.827833         2.3\n",
              "17         1.662265         2.0\n",
              "18         1.703657         1.9\n",
              "19         1.869225         2.3"
            ]
          },
          "metadata": {
            "tags": []
          },
          "execution_count": 27
        }
      ]
    },
    {
      "cell_type": "code",
      "metadata": {
        "colab": {
          "base_uri": "https://localhost:8080/",
          "height": 297
        },
        "id": "tVnzuJXjCQAy",
        "outputId": "bb912983-53de-46aa-b56e-245d4dd376b9"
      },
      "source": [
        "# Make scatter plot of predicted vs true sepal width\n",
        "plt.plot(pet_wid_test, pet_wid_pred, 'o')\n",
        "plt.plot(pet_wid_test, pet_wid_test)\n",
        "plt.xlabel('True_width')\n",
        "plt.ylabel('Predicted width')"
      ],
      "execution_count": 16,
      "outputs": [
        {
          "output_type": "execute_result",
          "data": {
            "text/plain": [
              "Text(0, 0.5, 'Predicted width')"
            ]
          },
          "metadata": {
            "tags": []
          },
          "execution_count": 16
        },
        {
          "output_type": "display_data",
          "data": {
            "image/png": "[encoded data removed]",
            "text/plain": [
              "<Figure size 432x288 with 1 Axes>"
            ]
          },
          "metadata": {
            "tags": [],
            "needs_background": "light"
          }
        }
      ]
    },
    {
      "cell_type": "code",
      "metadata": {
        "colab": {
          "base_uri": "https://localhost:8080/",
          "height": 336
        },
        "id": "DOEG0E25YfYp",
        "outputId": "6b27e6b2-0f47-4bc7-aaad-2031051786b6"
      },
      "source": [
        "# make residuals plot\n",
        "sns.residplot(pet_wid_test, pet_wid_pred)"
      ],
      "execution_count": 32,
      "outputs": [
        {
          "output_type": "stream",
          "text": [
            "/usr/local/lib/python3.7/dist-packages/seaborn/_decorators.py:43: FutureWarning: Pass the following variables as keyword args: x, y. From version 0.12, the only valid positional argument will be `data`, and passing other arguments without an explicit keyword will result in an error or misinterpretation.\n",
            "  FutureWarning\n"
          ],
          "name": "stderr"
        },
        {
          "output_type": "execute_result",
          "data": {
            "text/plain": [
              "<matplotlib.axes._subplots.AxesSubplot at 0x7fddc740c150>"
            ]
          },
          "metadata": {
            "tags": []
          },
          "execution_count": 32
        },
        {
          "output_type": "display_data",
          "data": {
            "image/png": "[encoded data removed]",
            "text/plain": [
              "<Figure size 432x288 with 1 Axes>"
            ]
          },
          "metadata": {
            "tags": [],
            "needs_background": "light"
          }
        }
      ]
    },
    {
      "cell_type": "code",
      "metadata": {
        "colab": {
          "base_uri": "https://localhost:8080/"
        },
        "id": "fAEDu-YBALpV",
        "outputId": "191aa193-2ffc-45ee-901b-fa4b64fb4f1c"
      },
      "source": [
        "# evaluate the performance of the model\n",
        "\n",
        "# import metrics package\n",
        "from sklearn import metrics\n",
        "\n",
        "# compute MAE\n",
        "petal_mae = metrics.mean_absolute_error(pet_wid_pred, pet_wid_test)\n",
        "\n",
        "# get RMSE\n",
        "petal_rmse = metrics.mean_squared_error(pet_wid_pred, pet_wid_test,\n",
        "                           squared = False)\n",
        "\n",
        "print(\"The model has a MAE = {} and a RMSE = {}\".format(petal_mae, petal_rmse))\n"
      ],
      "execution_count": 18,
      "outputs": [
        {
          "output_type": "stream",
          "text": [
            "The model has a MAE = 0.17479908325052987 and a RMSE = 0.21116253172465146\n"
          ],
          "name": "stdout"
        }
      ]
    },
    {
      "cell_type": "code",
      "metadata": {
        "colab": {
          "base_uri": "https://localhost:8080/"
        },
        "id": "W2ttWUbSS1uK",
        "outputId": "e9726c0d-995f-43fe-df08-b3c075bae453"
      },
      "source": [
        "# get squared R \n",
        "metrics.r2_score(pet_wid_pred, pet_wid_test)"
      ],
      "execution_count": 19,
      "outputs": [
        {
          "output_type": "execute_result",
          "data": {
            "text/plain": [
              "0.9277753591881827"
            ]
          },
          "metadata": {
            "tags": []
          },
          "execution_count": 19
        }
      ]
    },
    {
      "cell_type": "markdown",
      "metadata": {
        "id": "AOP9HmX8eqiu"
      },
      "source": [
        "## Exercise \n",
        "\n",
        "Let's now do an exercise. The iris dataset contains two additional variables sepal length and sepal width. How well can we predict the length of sepals using the length of petals? \n",
        "\n",
        "1. Fit a linear model to predict sepal length uisng the petal length \n",
        "2. Predict the sepal length of a test set using the model\n",
        "3. Compute the MAE, RMSE and $R^2$.\n"
      ]
    },
    {
      "cell_type": "code",
      "metadata": {
        "colab": {
          "base_uri": "https://localhost:8080/",
          "height": 419
        },
        "id": "UjNYDUt8k0gO",
        "outputId": "7287c0a5-5470-40e5-efa0-eb5778051a90"
      },
      "source": [
        "# the column we are interested now are 0 and 2\n",
        "iris_table"
      ],
      "execution_count": null,
      "outputs": [
        {
          "output_type": "execute_result",
          "data": {
            "text/html": [
              "<div>\n",
              "<style scoped>\n",
              "    .dataframe tbody tr th:only-of-type {\n",
              "        vertical-align: middle;\n",
              "    }\n",
              "\n",
              "    .dataframe tbody tr th {\n",
              "        vertical-align: top;\n",
              "    }\n",
              "\n",
              "    .dataframe thead th {\n",
              "        text-align: right;\n",
              "    }\n",
              "</style>\n",
              "<table border=\"1\" class=\"dataframe\">\n",
              "  <thead>\n",
              "    <tr style=\"text-align: right;\">\n",
              "      <th></th>\n",
              "      <th>sepal length (cm)</th>\n",
              "      <th>sepal width (cm)</th>\n",
              "      <th>petal length (cm)</th>\n",
              "      <th>petal width (cm)</th>\n",
              "      <th>species</th>\n",
              "    </tr>\n",
              "  </thead>\n",
              "  <tbody>\n",
              "    <tr>\n",
              "      <th>0</th>\n",
              "      <td>5.1</td>\n",
              "      <td>3.5</td>\n",
              "      <td>1.4</td>\n",
              "      <td>0.2</td>\n",
              "      <td>setosa</td>\n",
              "    </tr>\n",
              "    <tr>\n",
              "      <th>1</th>\n",
              "      <td>4.9</td>\n",
              "      <td>3.0</td>\n",
              "      <td>1.4</td>\n",
              "      <td>0.2</td>\n",
              "      <td>setosa</td>\n",
              "    </tr>\n",
              "    <tr>\n",
              "      <th>2</th>\n",
              "      <td>4.7</td>\n",
              "      <td>3.2</td>\n",
              "      <td>1.3</td>\n",
              "      <td>0.2</td>\n",
              "      <td>setosa</td>\n",
              "    </tr>\n",
              "    <tr>\n",
              "      <th>3</th>\n",
              "      <td>4.6</td>\n",
              "      <td>3.1</td>\n",
              "      <td>1.5</td>\n",
              "      <td>0.2</td>\n",
              "      <td>setosa</td>\n",
              "    </tr>\n",
              "    <tr>\n",
              "      <th>4</th>\n",
              "      <td>5.0</td>\n",
              "      <td>3.6</td>\n",
              "      <td>1.4</td>\n",
              "      <td>0.2</td>\n",
              "      <td>setosa</td>\n",
              "    </tr>\n",
              "    <tr>\n",
              "      <th>...</th>\n",
              "      <td>...</td>\n",
              "      <td>...</td>\n",
              "      <td>...</td>\n",
              "      <td>...</td>\n",
              "      <td>...</td>\n",
              "    </tr>\n",
              "    <tr>\n",
              "      <th>145</th>\n",
              "      <td>6.7</td>\n",
              "      <td>3.0</td>\n",
              "      <td>5.2</td>\n",
              "      <td>2.3</td>\n",
              "      <td>virginica</td>\n",
              "    </tr>\n",
              "    <tr>\n",
              "      <th>146</th>\n",
              "      <td>6.3</td>\n",
              "      <td>2.5</td>\n",
              "      <td>5.0</td>\n",
              "      <td>1.9</td>\n",
              "      <td>virginica</td>\n",
              "    </tr>\n",
              "    <tr>\n",
              "      <th>147</th>\n",
              "      <td>6.5</td>\n",
              "      <td>3.0</td>\n",
              "      <td>5.2</td>\n",
              "      <td>2.0</td>\n",
              "      <td>virginica</td>\n",
              "    </tr>\n",
              "    <tr>\n",
              "      <th>148</th>\n",
              "      <td>6.2</td>\n",
              "      <td>3.4</td>\n",
              "      <td>5.4</td>\n",
              "      <td>2.3</td>\n",
              "      <td>virginica</td>\n",
              "    </tr>\n",
              "    <tr>\n",
              "      <th>149</th>\n",
              "      <td>5.9</td>\n",
              "      <td>3.0</td>\n",
              "      <td>5.1</td>\n",
              "      <td>1.8</td>\n",
              "      <td>virginica</td>\n",
              "    </tr>\n",
              "  </tbody>\n",
              "</table>\n",
              "<p>150 rows × 5 columns</p>\n",
              "</div>"
            ],
            "text/plain": [
              "     sepal length (cm)  sepal width (cm)  ...  petal width (cm)    species\n",
              "0                  5.1               3.5  ...               0.2     setosa\n",
              "1                  4.9               3.0  ...               0.2     setosa\n",
              "2                  4.7               3.2  ...               0.2     setosa\n",
              "3                  4.6               3.1  ...               0.2     setosa\n",
              "4                  5.0               3.6  ...               0.2     setosa\n",
              "..                 ...               ...  ...               ...        ...\n",
              "145                6.7               3.0  ...               2.3  virginica\n",
              "146                6.3               2.5  ...               1.9  virginica\n",
              "147                6.5               3.0  ...               2.0  virginica\n",
              "148                6.2               3.4  ...               2.3  virginica\n",
              "149                5.9               3.0  ...               1.8  virginica\n",
              "\n",
              "[150 rows x 5 columns]"
            ]
          },
          "metadata": {
            "tags": []
          },
          "execution_count": 30
        }
      ]
    },
    {
      "cell_type": "code",
      "metadata": {
        "colab": {
          "base_uri": "https://localhost:8080/",
          "height": 400
        },
        "id": "irdD_WnHg0dR",
        "outputId": "e50fd4b8-5956-4fe6-82c2-ef374aaac446"
      },
      "source": [
        "# the relationship seems different for the setosa species\n",
        "sns.relplot(data = iris_table, x = iris_table.columns[0], y = iris_table.columns[2], hue=\"species\")"
      ],
      "execution_count": 33,
      "outputs": [
        {
          "output_type": "execute_result",
          "data": {
            "text/plain": [
              "<seaborn.axisgrid.FacetGrid at 0x7fddc76fec10>"
            ]
          },
          "metadata": {
            "tags": []
          },
          "execution_count": 33
        },
        {
          "output_type": "display_data",
          "data": {
            "image/png": "[encoded data removed]",
            "text/plain": [
              "<Figure size 444.75x360 with 1 Axes>"
            ]
          },
          "metadata": {
            "tags": [],
            "needs_background": "light"
          }
        }
      ]
    },
    {
      "cell_type": "code",
      "metadata": {
        "colab": {
          "base_uri": "https://localhost:8080/"
        },
        "id": "F4ECJeBHmo7b",
        "outputId": "adf0a975-127d-4cc9-d3a7-468327d52ce8"
      },
      "source": [
        "# exclude setosa species for the downstream analysis\n",
        "\n",
        "# get sepal length for versicolor and virginica species\n",
        "sep_len = iris_table[iris_table.species != \"setosa\"].iloc[:, 0][:, np.newaxis]\n",
        "\n",
        "# get petal length for versicolor and virginica species\n",
        "pet_len_filt = iris_table[iris_table.species != \"setosa\"].iloc[:,2][:, np.newaxis]\n"
      ],
      "execution_count": 34,
      "outputs": [
        {
          "output_type": "stream",
          "text": [
            "/usr/local/lib/python3.7/dist-packages/ipykernel_launcher.py:4: FutureWarning: Support for multi-dimensional indexing (e.g. `obj[:, None]`) is deprecated and will be removed in a future version.  Convert to a numpy array before indexing instead.\n",
            "  after removing the cwd from sys.path.\n",
            "/usr/local/lib/python3.7/dist-packages/ipykernel_launcher.py:7: FutureWarning: Support for multi-dimensional indexing (e.g. `obj[:, None]`) is deprecated and will be removed in a future version.  Convert to a numpy array before indexing instead.\n",
            "  import sys\n"
          ],
          "name": "stderr"
        }
      ]
    },
    {
      "cell_type": "markdown",
      "metadata": {
        "id": "df9wewBjMqWH"
      },
      "source": [
        "### Solution"
      ]
    },
    {
      "cell_type": "code",
      "metadata": {
        "colab": {
          "base_uri": "https://localhost:8080/",
          "height": 282
        },
        "id": "5xHjM4dvheVK",
        "outputId": "8ee8c529-2771-461d-bafb-241b6979122d"
      },
      "source": [
        "random.seed(10)\n",
        "\n",
        "# sample 5 row numbers to use as test set\n",
        "rows_test = random.sample(range(0, sep_len.shape[0]),20)\n",
        "\n",
        "# get the remaining row numbers as training set\n",
        "rows_train = np.setxor1d(rows_test, list(range(0, sep_len.shape[0])))\n",
        "\n",
        "# split predictor variable into test and training set\n",
        "sep_len_train = np.delete(sep_len, rows_test)[:,np.newaxis]\n",
        "sep_len_test = np.delete(sep_len, rows_train)[:,np.newaxis]\n",
        "\n",
        "# split response variable into test and training set \n",
        "pet_len_train = np.delete(pet_len_filt, rows_test)[:, np.newaxis]\n",
        "pet_len_test = np.delete(pet_len_filt, rows_train)[:, np.newaxis]\n",
        "\n",
        "# create a linear regression object\n",
        "regres_sep = linear_model.LinearRegression()\n",
        "\n",
        "# fit a linear model to the training data\n",
        "regres_sep.fit(pet_len_train, sep_len_train)\n",
        "\n",
        "# predict values of test set\n",
        "sep_len_pred = regres_sep.predict(pet_len_test)\n",
        "\n",
        "# plot predicted values v.s. true values\n",
        "plt.plot(sep_len_test, sep_len_pred, 'o')\n",
        "plt.plot(sep_len_test, sep_len_test, \"-.\")\n",
        "\n"
      ],
      "execution_count": 35,
      "outputs": [
        {
          "output_type": "execute_result",
          "data": {
            "text/plain": [
              "[<matplotlib.lines.Line2D at 0x7fddc72f8910>]"
            ]
          },
          "metadata": {
            "tags": []
          },
          "execution_count": 35
        },
        {
          "output_type": "display_data",
          "data": {
            "image/png": "[encoded data removed]",
            "text/plain": [
              "<Figure size 432x288 with 1 Axes>"
            ]
          },
          "metadata": {
            "tags": [],
            "needs_background": "light"
          }
        }
      ]
    },
    {
      "cell_type": "code",
      "metadata": {
        "colab": {
          "base_uri": "https://localhost:8080/",
          "height": 283
        },
        "id": "3us23p0cWZ_P",
        "outputId": "614435e1-e18a-46e2-9f1c-0dbe5239d0ff"
      },
      "source": [
        "# plot fitted line to train data\n",
        "plt.plot(pet_len_train, sep_len_train, 'o')\n",
        "plt.plot(pet_len_train, regres_sep.predict(pet_len_train))"
      ],
      "execution_count": 36,
      "outputs": [
        {
          "output_type": "execute_result",
          "data": {
            "text/plain": [
              "[<matplotlib.lines.Line2D at 0x7fddc72736d0>]"
            ]
          },
          "metadata": {
            "tags": []
          },
          "execution_count": 36
        },
        {
          "output_type": "display_data",
          "data": {
            "image/png": "[encoded data removed]",
            "text/plain": [
              "<Figure size 432x288 with 1 Axes>"
            ]
          },
          "metadata": {
            "tags": [],
            "needs_background": "light"
          }
        }
      ]
    },
    {
      "cell_type": "code",
      "metadata": {
        "colab": {
          "base_uri": "https://localhost:8080/"
        },
        "id": "9Bj5ZbZZMyth",
        "outputId": "47524180-05c3-495a-f53a-304fdb745fb7"
      },
      "source": [
        "# get MAE \n",
        "metrics.mean_absolute_error(sep_len_test, sep_len_pred)"
      ],
      "execution_count": 37,
      "outputs": [
        {
          "output_type": "execute_result",
          "data": {
            "text/plain": [
              "0.2212355038642344"
            ]
          },
          "metadata": {
            "tags": []
          },
          "execution_count": 37
        }
      ]
    },
    {
      "cell_type": "code",
      "metadata": {
        "colab": {
          "base_uri": "https://localhost:8080/"
        },
        "id": "MVETdrSY0Mgi",
        "outputId": "efc141df-31e9-403b-c38e-88c753f748ce"
      },
      "source": [
        "# get RMSE \n",
        "metrics.mean_squared_error(sep_len_test, sep_len_pred, squared = False)"
      ],
      "execution_count": 38,
      "outputs": [
        {
          "output_type": "execute_result",
          "data": {
            "text/plain": [
              "0.2769630990972822"
            ]
          },
          "metadata": {
            "tags": []
          },
          "execution_count": 38
        }
      ]
    },
    {
      "cell_type": "code",
      "metadata": {
        "colab": {
          "base_uri": "https://localhost:8080/"
        },
        "id": "uGg5UbQo0p9L",
        "outputId": "ab175230-d655-4f90-97ed-265b845733f3"
      },
      "source": [
        "# get squared R\n",
        "metrics.r2_score(sep_len_test, sep_len_pred)"
      ],
      "execution_count": 39,
      "outputs": [
        {
          "output_type": "execute_result",
          "data": {
            "text/plain": [
              "0.6680720109841154"
            ]
          },
          "metadata": {
            "tags": []
          },
          "execution_count": 39
        }
      ]
    },
    {
      "cell_type": "markdown",
      "metadata": {
        "id": "Z-HOopXXU5cn"
      },
      "source": [
        "## Multiple linear regression\n",
        "\n",
        "In many cases we have more than one predictor variable describing the response variable. The same linear regression model can be applied in such cases. In that case there is one additional parameter per additional predictor variable. With these multidimensional data instead of finding the line which best fits the data, the plane (2 predictor variables) or hyperplane (more than 2 predictor variables) is sought.\n",
        "\n",
        "<br>\n",
        "\n",
        "$$ \\hat y = \\beta_0 + \\beta_1x_{1} + \\beta_2x_{2} ... \\beta_nx_{n} $$ \n",
        "\n",
        "<br>\n",
        "\n",
        "* $\\hat y $ = predicted value \n",
        "* $ \\beta_i $ = parameters or coefficients of the model\n",
        "* $ x_{i} $ = predictor variable  \n",
        "\n",
        "<br> \n",
        "\n",
        "Let's fit a multiple linear regression model to the diabetes dataset. The response variable in this case is termed disase progression.\n"
      ]
    },
    {
      "cell_type": "code",
      "metadata": {
        "colab": {
          "base_uri": "https://localhost:8080/",
          "height": 297
        },
        "id": "5fhxGFv6aBLL",
        "outputId": "70aa6214-71d1-4105-decf-4c75fc31a2cd"
      },
      "source": [
        "# make histogram of disease progression values\n",
        "sns.histplot(data = diabetes_table, x = 'disease_progression')"
      ],
      "execution_count": null,
      "outputs": [
        {
          "output_type": "execute_result",
          "data": {
            "text/plain": [
              "<matplotlib.axes._subplots.AxesSubplot at 0x7fa8fd855f90>"
            ]
          },
          "metadata": {
            "tags": []
          },
          "execution_count": 16
        },
        {
          "output_type": "display_data",
          "data": {
            "image/png": "[encoded data removed]",
            "text/plain": [
              "<Figure size 432x288 with 1 Axes>"
            ]
          },
          "metadata": {
            "tags": [],
            "needs_background": "light"
          }
        }
      ]
    },
    {
      "cell_type": "code",
      "metadata": {
        "colab": {
          "base_uri": "https://localhost:8080/",
          "height": 419
        },
        "id": "XPAFs1F_bfoC",
        "outputId": "0de3f9f6-663e-4e1b-9c61-3864c2b46f88"
      },
      "source": [
        "from sklearn.model_selection import train_test_split\n",
        "\n",
        "# split dataset into test and training set\n",
        "# scikit learn includes a function to do so\n",
        "# we use 80% of the data for training and 20 % as test set\n",
        "diab_train, diab_test, progr_train, progr_test = train_test_split(diabetes_dataset['data'], diabetes_dataset['target'],\n",
        "                                                                  test_size = 0.2, random_state = 42)\n",
        "\n",
        "# create a linear regression object\n",
        "diab_lin_model = linear_model.LinearRegression()\n",
        "\n",
        "# fit the linear model to the training data\n",
        "diab_lin_model = diab_lin_model.fit(diab_train, progr_train)\n",
        "\n",
        "# predict values of test set\n",
        "diab_pred = diab_lin_model.predict(diab_test)\n",
        "\n",
        "# make data frame with predicted and true values\n",
        "pred_table_diab = pd.DataFrame.from_dict({'Predicted_progression': diab_pred.flatten(), 'True_progression': progr_test.flatten()})\n",
        "\n",
        "# print data frame \n",
        "pred_table_diab\n",
        "\n"
      ],
      "execution_count": 41,
      "outputs": [
        {
          "output_type": "execute_result",
          "data": {
            "text/html": [
              "<div>\n",
              "<style scoped>\n",
              "    .dataframe tbody tr th:only-of-type {\n",
              "        vertical-align: middle;\n",
              "    }\n",
              "\n",
              "    .dataframe tbody tr th {\n",
              "        vertical-align: top;\n",
              "    }\n",
              "\n",
              "    .dataframe thead th {\n",
              "        text-align: right;\n",
              "    }\n",
              "</style>\n",
              "<table border=\"1\" class=\"dataframe\">\n",
              "  <thead>\n",
              "    <tr style=\"text-align: right;\">\n",
              "      <th></th>\n",
              "      <th>Predicted_progression</th>\n",
              "      <th>True_progression</th>\n",
              "    </tr>\n",
              "  </thead>\n",
              "  <tbody>\n",
              "    <tr>\n",
              "      <th>0</th>\n",
              "      <td>139.548313</td>\n",
              "      <td>219.0</td>\n",
              "    </tr>\n",
              "    <tr>\n",
              "      <th>1</th>\n",
              "      <td>179.520306</td>\n",
              "      <td>70.0</td>\n",
              "    </tr>\n",
              "    <tr>\n",
              "      <th>2</th>\n",
              "      <td>134.041333</td>\n",
              "      <td>202.0</td>\n",
              "    </tr>\n",
              "    <tr>\n",
              "      <th>3</th>\n",
              "      <td>291.411936</td>\n",
              "      <td>230.0</td>\n",
              "    </tr>\n",
              "    <tr>\n",
              "      <th>4</th>\n",
              "      <td>123.787237</td>\n",
              "      <td>111.0</td>\n",
              "    </tr>\n",
              "    <tr>\n",
              "      <th>...</th>\n",
              "      <td>...</td>\n",
              "      <td>...</td>\n",
              "    </tr>\n",
              "    <tr>\n",
              "      <th>84</th>\n",
              "      <td>115.009746</td>\n",
              "      <td>153.0</td>\n",
              "    </tr>\n",
              "    <tr>\n",
              "      <th>85</th>\n",
              "      <td>78.958867</td>\n",
              "      <td>98.0</td>\n",
              "    </tr>\n",
              "    <tr>\n",
              "      <th>86</th>\n",
              "      <td>81.557314</td>\n",
              "      <td>37.0</td>\n",
              "    </tr>\n",
              "    <tr>\n",
              "      <th>87</th>\n",
              "      <td>54.377478</td>\n",
              "      <td>63.0</td>\n",
              "    </tr>\n",
              "    <tr>\n",
              "      <th>88</th>\n",
              "      <td>166.254778</td>\n",
              "      <td>184.0</td>\n",
              "    </tr>\n",
              "  </tbody>\n",
              "</table>\n",
              "<p>89 rows × 2 columns</p>\n",
              "</div>"
            ],
            "text/plain": [
              "    Predicted_progression  True_progression\n",
              "0              139.548313             219.0\n",
              "1              179.520306              70.0\n",
              "2              134.041333             202.0\n",
              "3              291.411936             230.0\n",
              "4              123.787237             111.0\n",
              "..                    ...               ...\n",
              "84             115.009746             153.0\n",
              "85              78.958867              98.0\n",
              "86              81.557314              37.0\n",
              "87              54.377478              63.0\n",
              "88             166.254778             184.0\n",
              "\n",
              "[89 rows x 2 columns]"
            ]
          },
          "metadata": {
            "tags": []
          },
          "execution_count": 41
        }
      ]
    },
    {
      "cell_type": "code",
      "metadata": {
        "colab": {
          "base_uri": "https://localhost:8080/",
          "height": 296
        },
        "id": "_qWM5oHPfmpv",
        "outputId": "47e1a211-9dca-4f9e-8cc2-57f82b9e3184"
      },
      "source": [
        "# plot predicted values vs real values\n",
        "plt.plot(progr_test, diab_pred, 'o')\n",
        "plt.plot(progr_test, progr_test, \"--\")\n",
        "plt.xlabel(\"True progression (a.u.)\")\n",
        "plt.ylabel(\"Predicted progression(a.u.)\")"
      ],
      "execution_count": 43,
      "outputs": [
        {
          "output_type": "execute_result",
          "data": {
            "text/plain": [
              "Text(0, 0.5, 'Predicted progression(a.u.)')"
            ]
          },
          "metadata": {
            "tags": []
          },
          "execution_count": 43
        },
        {
          "output_type": "display_data",
          "data": {
            "image/png": "[encoded data removed]",
            "text/plain": [
              "<Figure size 432x288 with 1 Axes>"
            ]
          },
          "metadata": {
            "tags": [],
            "needs_background": "light"
          }
        }
      ]
    },
    {
      "cell_type": "code",
      "metadata": {
        "colab": {
          "base_uri": "https://localhost:8080/"
        },
        "id": "XRZd_rscNOCy",
        "outputId": "581f4695-07bf-44b7-d5b8-ace25009fd76"
      },
      "source": [
        "# get MAE\n",
        "diab_mae = metrics.mean_absolute_error(progr_test, diab_pred)\n",
        "\n",
        "print('The MAE of the model is {}'.format(diab_mae))"
      ],
      "execution_count": 45,
      "outputs": [
        {
          "output_type": "stream",
          "text": [
            "The MAE of the model is 42.79389304196525\n"
          ],
          "name": "stdout"
        }
      ]
    },
    {
      "cell_type": "code",
      "metadata": {
        "colab": {
          "base_uri": "https://localhost:8080/"
        },
        "id": "ZSfbI-sfgc1w",
        "outputId": "d10992b1-47b6-4714-caee-6c62dc072de6"
      },
      "source": [
        "# get RMSE\n",
        "diab_rmse = metrics.mean_squared_error(progr_test, diab_pred,\n",
        "                                       squared = False)\n",
        "\n",
        "print('The RMSE of the model is {}'.format(diab_rmse))"
      ],
      "execution_count": 46,
      "outputs": [
        {
          "output_type": "stream",
          "text": [
            "The RMSE of the model is 53.8532569849144\n"
          ],
          "name": "stdout"
        }
      ]
    },
    {
      "cell_type": "code",
      "metadata": {
        "colab": {
          "base_uri": "https://localhost:8080/"
        },
        "id": "aIl8RIyPf0dW",
        "outputId": "4ecbadf1-3428-4735-feb8-9903a2f79b9b"
      },
      "source": [
        "# get squared R \n",
        "diab_rsqr = metrics.r2_score(progr_test, diab_pred)\n",
        "\n",
        "print('The R^2 of the model is {}'.format(diab_rsqr))"
      ],
      "execution_count": 47,
      "outputs": [
        {
          "output_type": "stream",
          "text": [
            "The R^2 of the model is 0.452606602161738\n"
          ],
          "name": "stdout"
        }
      ]
    },
    {
      "cell_type": "markdown",
      "metadata": {
        "id": "esm4lmrznkeo"
      },
      "source": [
        "## Polynomial regression\n",
        "\n",
        "There are occasions in which the relationship between the dependent and independent variables is not linear. In such cases a linear regression model would not fit the data well. \n",
        "\n",
        "Let's see an example:"
      ]
    },
    {
      "cell_type": "code",
      "metadata": {
        "colab": {
          "base_uri": "https://localhost:8080/",
          "height": 401
        },
        "id": "oN6XZRwlhg7i",
        "outputId": "31e9ae32-676c-43cc-de12-349797ee4778"
      },
      "source": [
        "# load boston dataset\n",
        "boston_dataset = datasets.load_boston()\n",
        "\n",
        "# get dependent and independent variables as arrays\n",
        "y_nox = boston_dataset['data'][:, np.newaxis ,4]\n",
        "x_dis = boston_dataset['data'][:, np.newaxis ,7]\n",
        "\n",
        "# make dataframe with dependent and independent variable\n",
        "boston_table = pd.DataFrame.from_dict({'y_nox': y_nox.flatten(),\n",
        "                                       'x_dis': x_dis.flatten()})\n",
        "\n",
        "# make scatter plot\n",
        "sns.relplot(data = boston_table, x = boston_table.columns[1], y = boston_table.columns[0])"
      ],
      "execution_count": 48,
      "outputs": [
        {
          "output_type": "execute_result",
          "data": {
            "text/plain": [
              "<seaborn.axisgrid.FacetGrid at 0x7fddc7bd0450>"
            ]
          },
          "metadata": {
            "tags": []
          },
          "execution_count": 48
        },
        {
          "output_type": "display_data",
          "data": {
            "image/png": "[encoded data removed]",
            "text/plain": [
              "<Figure size 360x360 with 1 Axes>"
            ]
          },
          "metadata": {
            "tags": [],
            "needs_background": "light"
          }
        }
      ]
    },
    {
      "cell_type": "code",
      "metadata": {
        "colab": {
          "base_uri": "https://localhost:8080/"
        },
        "id": "sMD4zVfVw6GH",
        "outputId": "a29743b5-7850-4e04-f891-957e452c0a24"
      },
      "source": [
        "bost_lin_model = linear_model.LinearRegression().fit(x_dis, y_nox)\n",
        "\n",
        "# compute squared R\n",
        "rsqr_bos_lin = metrics.r2_score(y_nox, bost_lin_model.predict(x_dis))\n",
        "\n",
        "print('The R^2 of the model is {}'.format(rsqr_bos_lin))"
      ],
      "execution_count": 49,
      "outputs": [
        {
          "output_type": "stream",
          "text": [
            "The R^2 of the model is 0.5917149670934201\n"
          ],
          "name": "stdout"
        }
      ]
    },
    {
      "cell_type": "code",
      "metadata": {
        "colab": {
          "base_uri": "https://localhost:8080/"
        },
        "id": "iYZXNSeVBujv",
        "outputId": "a7cb7dcc-1c0e-49fc-ff6b-97cc642ed5f6"
      },
      "source": [
        "# get RMSE\n",
        "rmse_bos_lin = metrics.mean_squared_error(y_nox, bost_lin_model.predict(x_dis),\n",
        "                                         squared = False)\n",
        "\n",
        "print('The RMSE of the model is {}'.format(rmse_bos_lin))"
      ],
      "execution_count": 50,
      "outputs": [
        {
          "output_type": "stream",
          "text": [
            "The RMSE of the model is 0.07396937272094305\n"
          ],
          "name": "stdout"
        }
      ]
    },
    {
      "cell_type": "code",
      "metadata": {
        "colab": {
          "base_uri": "https://localhost:8080/",
          "height": 285
        },
        "id": "jU3dIrnw15u2",
        "outputId": "68423e65-8099-4c9c-a59a-3563d8cc5f07"
      },
      "source": [
        "# make scatter plot with fitted line\n",
        "plt.plot(x_dis, y_nox, 'o')\n",
        "plt.plot(x_dis, bost_lin_model.predict(x_dis), 'r')\n",
        "\n"
      ],
      "execution_count": 51,
      "outputs": [
        {
          "output_type": "execute_result",
          "data": {
            "text/plain": [
              "[<matplotlib.lines.Line2D at 0x7fddc7451890>]"
            ]
          },
          "metadata": {
            "tags": []
          },
          "execution_count": 51
        },
        {
          "output_type": "display_data",
          "data": {
            "image/png": "[encoded data removed]",
            "text/plain": [
              "<Figure size 432x288 with 1 Axes>"
            ]
          },
          "metadata": {
            "tags": [],
            "needs_background": "light"
          }
        }
      ]
    },
    {
      "cell_type": "code",
      "metadata": {
        "colab": {
          "base_uri": "https://localhost:8080/",
          "height": 282
        },
        "id": "yi3CerHb42FT",
        "outputId": "d8260860-9e1e-4a7a-ea2d-b94b5a3cd01e"
      },
      "source": [
        "# make residuals plot\n",
        "sns.residplot(x = x_dis.flatten(), y = y_nox.flatten())"
      ],
      "execution_count": 52,
      "outputs": [
        {
          "output_type": "execute_result",
          "data": {
            "text/plain": [
              "<matplotlib.axes._subplots.AxesSubplot at 0x7fddc71c1ad0>"
            ]
          },
          "metadata": {
            "tags": []
          },
          "execution_count": 52
        },
        {
          "output_type": "display_data",
          "data": {
            "image/png": "[encoded data removed]",
            "text/plain": [
              "<Figure size 432x288 with 1 Axes>"
            ]
          },
          "metadata": {
            "tags": [],
            "needs_background": "light"
          }
        }
      ]
    },
    {
      "cell_type": "markdown",
      "metadata": {
        "id": "A0f7hi7n9FtG"
      },
      "source": [
        "The following steps are done when carrying out polynomial regression:\n",
        "\n",
        "1. Generate polynomial features from original features.\n",
        "2. Fit a linear regression model to the extended feature set.\n",
        "3. Evalute the fit of the model\n",
        "\n",
        "<br>"
      ]
    },
    {
      "cell_type": "code",
      "metadata": {
        "colab": {
          "base_uri": "https://localhost:8080/"
        },
        "id": "qsP2xin47al2",
        "outputId": "563ec63f-9f17-432a-b841-a3c4d015a4d8"
      },
      "source": [
        "from sklearn.preprocessing import PolynomialFeatures\n",
        "\n",
        "# generate new features (second degree polynomial)\n",
        "poly_features = PolynomialFeatures(degree = 2, include_bias = False)\n",
        "x_dis_poly = poly_features.fit_transform(x_dis)\n",
        "\n",
        "x_dis_poly[0]\n"
      ],
      "execution_count": 53,
      "outputs": [
        {
          "output_type": "execute_result",
          "data": {
            "text/plain": [
              "array([ 4.09  , 16.7281])"
            ]
          },
          "metadata": {
            "tags": []
          },
          "execution_count": 53
        }
      ]
    },
    {
      "cell_type": "code",
      "metadata": {
        "colab": {
          "base_uri": "https://localhost:8080/"
        },
        "id": "5DB7pzhO_P0x",
        "outputId": "435bdd40-78b9-460c-842d-ee7da81ef09d"
      },
      "source": [
        "# fit linear model to extended data\n",
        "bost_poly_model = linear_model.LinearRegression().fit(x_dis_poly, y_nox)\n",
        "\n",
        "# compute squared R\n",
        "rsqr_bos_poly = metrics.r2_score(y_nox, bost_poly_model.predict(x_dis_poly))\n",
        "\n",
        "print('The R^2 of the model is {}'.format(rsqr_bos_poly))"
      ],
      "execution_count": 54,
      "outputs": [
        {
          "output_type": "stream",
          "text": [
            "The R^2 of the model is 0.6998562064647851\n"
          ],
          "name": "stdout"
        }
      ]
    },
    {
      "cell_type": "code",
      "metadata": {
        "colab": {
          "base_uri": "https://localhost:8080/"
        },
        "id": "UA7MND77CAfv",
        "outputId": "da1cd00a-3506-4518-c056-a799d817173b"
      },
      "source": [
        "# get RMSE\n",
        "rmse_bos_poly = metrics.mean_squared_error(y_nox, bost_poly_model.predict(x_dis_poly),\n",
        "                                         squared = False)\n",
        "\n",
        "print('The RMSE of the model is {}'.format(rmse_bos_poly))"
      ],
      "execution_count": 55,
      "outputs": [
        {
          "output_type": "stream",
          "text": [
            "The RMSE of the model is 0.06342126345299987\n"
          ],
          "name": "stdout"
        }
      ]
    },
    {
      "cell_type": "code",
      "metadata": {
        "colab": {
          "base_uri": "https://localhost:8080/",
          "height": 282
        },
        "id": "hPXo4_F5AQjY",
        "outputId": "95059880-eae6-4c67-ebfb-de456f557ec3"
      },
      "source": [
        "# make scatter plot with predicted and real values\n",
        "plt.plot(x_dis, y_nox, 'o')\n",
        "plt.plot(x_dis, bost_poly_model.predict(x_dis_poly), 'o')"
      ],
      "execution_count": 56,
      "outputs": [
        {
          "output_type": "execute_result",
          "data": {
            "text/plain": [
              "[<matplotlib.lines.Line2D at 0x7fddc4f82290>]"
            ]
          },
          "metadata": {
            "tags": []
          },
          "execution_count": 56
        },
        {
          "output_type": "display_data",
          "data": {
            "image/png": "[encoded data removed]",
            "text/plain": [
              "<Figure size 432x288 with 1 Axes>"
            ]
          },
          "metadata": {
            "tags": [],
            "needs_background": "light"
          }
        }
      ]
    },
    {
      "cell_type": "code",
      "metadata": {
        "colab": {
          "base_uri": "https://localhost:8080/"
        },
        "id": "wh5UfcUjChCi",
        "outputId": "11adb80b-2e75-4f61-bcad-45dad495b14b"
      },
      "source": [
        "# get coefficients from the model \n",
        "bost_poly_model.coef_"
      ],
      "execution_count": 57,
      "outputs": [
        {
          "output_type": "execute_result",
          "data": {
            "text/plain": [
              "array([[-0.1116276 ,  0.00713503]])"
            ]
          },
          "metadata": {
            "tags": []
          },
          "execution_count": 57
        }
      ]
    },
    {
      "cell_type": "markdown",
      "metadata": {
        "id": "ZecIDa9iFNxI"
      },
      "source": [
        "Since we used a polynomial of degree 2, out model follows the equation:\n",
        "\n",
        "<br>\n",
        "\n",
        "$$ \\hat y = \\beta_0 + \\beta_1x_1 + \\beta_2x_1^2  $$\n"
      ]
    },
    {
      "cell_type": "markdown",
      "metadata": {
        "id": "8E6JmjERHItK"
      },
      "source": [
        "## Final exercise\n",
        "To end this section let's explore the relationship between methylation and age. In the dataset below we can find the methylation levels for 53 CpGs from 100 individuals as well as the corresponding age. The dataset was obtained from [Daunay et al., 2019](https://www.nature.com/articles/s41598-019-45197-w#Sec14). Methylation levels were measured from blood samples using pyrosequencing. \n",
        "\n",
        "Can we predict the age of the individuals based on the methylation levels using linear regression? How accurate are our predictions? "
      ]
    },
    {
      "cell_type": "code",
      "metadata": {
        "id": "FuLpMbUF2QBD"
      },
      "source": [
        "# load dataset \n",
        "age_table = pd.read_csv(\"methylation_data.csv\")\n"
      ],
      "execution_count": 59,
      "outputs": []
    },
    {
      "cell_type": "code",
      "metadata": {
        "id": "1y0KzP1y2kDE"
      },
      "source": [
        "# transform it into an array\n",
        "meth_array = age_table.to_numpy()\n"
      ],
      "execution_count": 60,
      "outputs": []
    },
    {
      "cell_type": "markdown",
      "metadata": {
        "id": "96LNNzE_Vxv7"
      },
      "source": [
        "### Solution"
      ]
    },
    {
      "cell_type": "code",
      "metadata": {
        "colab": {
          "base_uri": "https://localhost:8080/",
          "height": 669
        },
        "id": "3UetdMzvNqUC",
        "outputId": "30900398-bebb-4b2d-c999-3b81b9a4ab8b"
      },
      "source": [
        "# split dataset into test and training set\n",
        "meth_train, meth_test, age_train, age_test = train_test_split(meth_array[:,1:99], meth_array[:, 0],\n",
        "                                                              test_size = 0.2, random_state = 42)\n",
        "\n",
        "# create a linear regression object\n",
        "age_lin_model = linear_model.LinearRegression()\n",
        "\n",
        "# fit the linear model to the training data\n",
        "age_lin_model = age_lin_model.fit(meth_train, age_train)\n",
        "\n",
        "# predict values of test set\n",
        "age_pred = age_lin_model.predict(meth_test)\n",
        "\n",
        "# make data frame with predicted and true values\n",
        "pred_table_age = pd.DataFrame.from_dict({'Predicted_age': age_pred.flatten(), 'Chronological_age': age_test.flatten()})\n",
        "\n",
        "# print data frame \n",
        "pred_table_age"
      ],
      "execution_count": 61,
      "outputs": [
        {
          "output_type": "execute_result",
          "data": {
            "text/html": [
              "<div>\n",
              "<style scoped>\n",
              "    .dataframe tbody tr th:only-of-type {\n",
              "        vertical-align: middle;\n",
              "    }\n",
              "\n",
              "    .dataframe tbody tr th {\n",
              "        vertical-align: top;\n",
              "    }\n",
              "\n",
              "    .dataframe thead th {\n",
              "        text-align: right;\n",
              "    }\n",
              "</style>\n",
              "<table border=\"1\" class=\"dataframe\">\n",
              "  <thead>\n",
              "    <tr style=\"text-align: right;\">\n",
              "      <th></th>\n",
              "      <th>Predicted_age</th>\n",
              "      <th>Chronological_age</th>\n",
              "    </tr>\n",
              "  </thead>\n",
              "  <tbody>\n",
              "    <tr>\n",
              "      <th>0</th>\n",
              "      <td>26.915782</td>\n",
              "      <td>25.0</td>\n",
              "    </tr>\n",
              "    <tr>\n",
              "      <th>1</th>\n",
              "      <td>60.171115</td>\n",
              "      <td>58.0</td>\n",
              "    </tr>\n",
              "    <tr>\n",
              "      <th>2</th>\n",
              "      <td>32.576195</td>\n",
              "      <td>45.0</td>\n",
              "    </tr>\n",
              "    <tr>\n",
              "      <th>3</th>\n",
              "      <td>51.050426</td>\n",
              "      <td>49.0</td>\n",
              "    </tr>\n",
              "    <tr>\n",
              "      <th>4</th>\n",
              "      <td>60.883792</td>\n",
              "      <td>48.0</td>\n",
              "    </tr>\n",
              "    <tr>\n",
              "      <th>5</th>\n",
              "      <td>50.781928</td>\n",
              "      <td>39.0</td>\n",
              "    </tr>\n",
              "    <tr>\n",
              "      <th>6</th>\n",
              "      <td>68.048044</td>\n",
              "      <td>59.0</td>\n",
              "    </tr>\n",
              "    <tr>\n",
              "      <th>7</th>\n",
              "      <td>20.685636</td>\n",
              "      <td>21.0</td>\n",
              "    </tr>\n",
              "    <tr>\n",
              "      <th>8</th>\n",
              "      <td>35.731515</td>\n",
              "      <td>36.0</td>\n",
              "    </tr>\n",
              "    <tr>\n",
              "      <th>9</th>\n",
              "      <td>11.605644</td>\n",
              "      <td>19.0</td>\n",
              "    </tr>\n",
              "    <tr>\n",
              "      <th>10</th>\n",
              "      <td>45.505929</td>\n",
              "      <td>52.0</td>\n",
              "    </tr>\n",
              "    <tr>\n",
              "      <th>11</th>\n",
              "      <td>17.995074</td>\n",
              "      <td>20.0</td>\n",
              "    </tr>\n",
              "    <tr>\n",
              "      <th>12</th>\n",
              "      <td>50.736121</td>\n",
              "      <td>48.0</td>\n",
              "    </tr>\n",
              "    <tr>\n",
              "      <th>13</th>\n",
              "      <td>14.271418</td>\n",
              "      <td>31.0</td>\n",
              "    </tr>\n",
              "    <tr>\n",
              "      <th>14</th>\n",
              "      <td>42.046583</td>\n",
              "      <td>40.0</td>\n",
              "    </tr>\n",
              "    <tr>\n",
              "      <th>15</th>\n",
              "      <td>39.980875</td>\n",
              "      <td>26.0</td>\n",
              "    </tr>\n",
              "    <tr>\n",
              "      <th>16</th>\n",
              "      <td>46.486343</td>\n",
              "      <td>55.0</td>\n",
              "    </tr>\n",
              "    <tr>\n",
              "      <th>17</th>\n",
              "      <td>37.122869</td>\n",
              "      <td>56.0</td>\n",
              "    </tr>\n",
              "    <tr>\n",
              "      <th>18</th>\n",
              "      <td>54.336865</td>\n",
              "      <td>40.0</td>\n",
              "    </tr>\n",
              "    <tr>\n",
              "      <th>19</th>\n",
              "      <td>11.518812</td>\n",
              "      <td>20.0</td>\n",
              "    </tr>\n",
              "  </tbody>\n",
              "</table>\n",
              "</div>"
            ],
            "text/plain": [
              "    Predicted_age  Chronological_age\n",
              "0       26.915782               25.0\n",
              "1       60.171115               58.0\n",
              "2       32.576195               45.0\n",
              "3       51.050426               49.0\n",
              "4       60.883792               48.0\n",
              "5       50.781928               39.0\n",
              "6       68.048044               59.0\n",
              "7       20.685636               21.0\n",
              "8       35.731515               36.0\n",
              "9       11.605644               19.0\n",
              "10      45.505929               52.0\n",
              "11      17.995074               20.0\n",
              "12      50.736121               48.0\n",
              "13      14.271418               31.0\n",
              "14      42.046583               40.0\n",
              "15      39.980875               26.0\n",
              "16      46.486343               55.0\n",
              "17      37.122869               56.0\n",
              "18      54.336865               40.0\n",
              "19      11.518812               20.0"
            ]
          },
          "metadata": {
            "tags": []
          },
          "execution_count": 61
        }
      ]
    },
    {
      "cell_type": "code",
      "metadata": {
        "colab": {
          "base_uri": "https://localhost:8080/",
          "height": 297
        },
        "id": "7cjTyl_pQESD",
        "outputId": "1f696e0c-5a68-4e2d-c978-9199fee9d48d"
      },
      "source": [
        "# plot predicted age v.s. chronological age \n",
        "plt.plot(age_test ,age_pred, 'o')\n",
        "plt.plot(age_test, age_test)\n",
        "plt.xlabel(\"Chronological age (years)\")\n",
        "plt.ylabel(\"Predicted age (years)\")"
      ],
      "execution_count": 62,
      "outputs": [
        {
          "output_type": "execute_result",
          "data": {
            "text/plain": [
              "Text(0, 0.5, 'Predicted age (years)')"
            ]
          },
          "metadata": {
            "tags": []
          },
          "execution_count": 62
        },
        {
          "output_type": "display_data",
          "data": {
            "image/png": "[encoded data removed]",
            "text/plain": [
              "<Figure size 432x288 with 1 Axes>"
            ]
          },
          "metadata": {
            "tags": [],
            "needs_background": "light"
          }
        }
      ]
    },
    {
      "cell_type": "code",
      "metadata": {
        "id": "iqYN-wTYRSeP"
      },
      "source": [
        "# compute MAE \n",
        "age_mae = metrics.mean_absolute_error(age_test, age_pred)\n",
        "\n",
        "# compute RMSE \n",
        "age_rmse = metrics.mean_absolute_error(age_test, age_pred)\n",
        "\n",
        "# compute squared R\n",
        "age_sqrtr = metrics.r2_score(age_test, age_pred)"
      ],
      "execution_count": 63,
      "outputs": []
    },
    {
      "cell_type": "code",
      "metadata": {
        "colab": {
          "base_uri": "https://localhost:8080/"
        },
        "id": "oMso9TZkR-a4",
        "outputId": "e2ed267f-5c68-4c1f-e31d-9fcb05f0e9ad"
      },
      "source": [
        "print(\"The model predicts age with accuracy ±{} years\".format(round(age_mae, 2)))"
      ],
      "execution_count": null,
      "outputs": [
        {
          "output_type": "stream",
          "text": [
            "The model predicts age with accuracy ±7.72 years\n"
          ],
          "name": "stdout"
        }
      ]
    },
    {
      "cell_type": "markdown",
      "metadata": {
        "id": "zP25EkrS0YrB"
      },
      "source": [
        "\n",
        "# Classification\n",
        "\n",
        "A decision tree is a supervised learning algorithm that is perfect for classification problems, as it’s able to order classes on a precise level. It works like a flow chart, separating data points into two similar categories at a time from the “tree trunk” to “branches,” to “leaves,” where the categories become more finitely similar. This creates categories within categories, allowing for organic classification with limited human supervision.\n",
        "\n",
        "\n",
        "\n",
        "![image.png](https://d33wubrfki0l68.cloudfront.net/cb281b80c41c9e76eb327e26ed5e0e6e5f05fc7f/31de9/static/b42ef5448b11ec2f2ec20ca7f97cbb3c/9cda9/decision-tree-sports.png)\n",
        "https://monkeylearn.com/blog/classification-algorithms/"
      ]
    },
    {
      "cell_type": "markdown",
      "metadata": {
        "id": "gnCz46mz00km"
      },
      "source": [
        "Random Forest\n",
        "\n",
        "The random forest algorithm is an expansion of decision tree, in that, you first construct some-axis real-world decision trees with training data, then fit your new data within one of the trees as a “random forest.” \n",
        "\n",
        "It, essentially, averages your data to connect it to the nearest tree on the data scale. Random forest models are helpful as they remedy for the decision tree’s problem of “forcing” data points within a category unnecessarily. "
      ]
    },
    {
      "cell_type": "code",
      "metadata": {
        "id": "BXO69Ata1IW_",
        "colab": {
          "base_uri": "https://localhost:8080/",
          "height": 206
        },
        "outputId": "f83b8c86-7de0-4d19-ac61-bb4a26cbefb3"
      },
      "source": [
        "# Example\n",
        "#https://chrisalbon.com/machine_learning/trees_and_forests/random_forest_classifier_example/\n",
        "\n",
        "# Load libs\n",
        "import pandas as pd\n",
        "import numpy as np\n",
        "from sklearn.datasets import load_iris\n",
        "from sklearn.ensemble import RandomForestClassifier\n",
        "\n",
        "# Set random seed\n",
        "np.random.seed(0)\n",
        "\n",
        "\n",
        "# Create an object called iris with the iris data\n",
        "iris = load_iris()\n",
        "\n",
        "# Create a dataframe with the four feature variables\n",
        "df = pd.DataFrame(iris.data, columns=iris.feature_names)\n",
        "\n",
        "# View the top 5 rows\n",
        "df.head()"
      ],
      "execution_count": null,
      "outputs": [
        {
          "output_type": "execute_result",
          "data": {
            "text/html": [
              "<div>\n",
              "<style scoped>\n",
              "    .dataframe tbody tr th:only-of-type {\n",
              "        vertical-align: middle;\n",
              "    }\n",
              "\n",
              "    .dataframe tbody tr th {\n",
              "        vertical-align: top;\n",
              "    }\n",
              "\n",
              "    .dataframe thead th {\n",
              "        text-align: right;\n",
              "    }\n",
              "</style>\n",
              "<table border=\"1\" class=\"dataframe\">\n",
              "  <thead>\n",
              "    <tr style=\"text-align: right;\">\n",
              "      <th></th>\n",
              "      <th>sepal length (cm)</th>\n",
              "      <th>sepal width (cm)</th>\n",
              "      <th>petal length (cm)</th>\n",
              "      <th>petal width (cm)</th>\n",
              "    </tr>\n",
              "  </thead>\n",
              "  <tbody>\n",
              "    <tr>\n",
              "      <th>0</th>\n",
              "      <td>5.1</td>\n",
              "      <td>3.5</td>\n",
              "      <td>1.4</td>\n",
              "      <td>0.2</td>\n",
              "    </tr>\n",
              "    <tr>\n",
              "      <th>1</th>\n",
              "      <td>4.9</td>\n",
              "      <td>3.0</td>\n",
              "      <td>1.4</td>\n",
              "      <td>0.2</td>\n",
              "    </tr>\n",
              "    <tr>\n",
              "      <th>2</th>\n",
              "      <td>4.7</td>\n",
              "      <td>3.2</td>\n",
              "      <td>1.3</td>\n",
              "      <td>0.2</td>\n",
              "    </tr>\n",
              "    <tr>\n",
              "      <th>3</th>\n",
              "      <td>4.6</td>\n",
              "      <td>3.1</td>\n",
              "      <td>1.5</td>\n",
              "      <td>0.2</td>\n",
              "    </tr>\n",
              "    <tr>\n",
              "      <th>4</th>\n",
              "      <td>5.0</td>\n",
              "      <td>3.6</td>\n",
              "      <td>1.4</td>\n",
              "      <td>0.2</td>\n",
              "    </tr>\n",
              "  </tbody>\n",
              "</table>\n",
              "</div>"
            ],
            "text/plain": [
              "   sepal length (cm)  sepal width (cm)  petal length (cm)  petal width (cm)\n",
              "0                5.1               3.5                1.4               0.2\n",
              "1                4.9               3.0                1.4               0.2\n",
              "2                4.7               3.2                1.3               0.2\n",
              "3                4.6               3.1                1.5               0.2\n",
              "4                5.0               3.6                1.4               0.2"
            ]
          },
          "metadata": {
            "tags": []
          },
          "execution_count": 2
        }
      ]
    },
    {
      "cell_type": "code",
      "metadata": {
        "colab": {
          "base_uri": "https://localhost:8080/",
          "height": 206
        },
        "id": "RGDIeETk9A_A",
        "outputId": "e3d4e8d3-7d9b-40d4-8ea9-b68cfec3be5f"
      },
      "source": [
        "# Add a new column with the species names, this is what we are going to try to predict\n",
        "df['species'] = pd.Categorical.from_codes(iris.target, iris.target_names)\n",
        "\n",
        "# View the top 5 rows\n",
        "df.head()"
      ],
      "execution_count": null,
      "outputs": [
        {
          "output_type": "execute_result",
          "data": {
            "text/html": [
              "<div>\n",
              "<style scoped>\n",
              "    .dataframe tbody tr th:only-of-type {\n",
              "        vertical-align: middle;\n",
              "    }\n",
              "\n",
              "    .dataframe tbody tr th {\n",
              "        vertical-align: top;\n",
              "    }\n",
              "\n",
              "    .dataframe thead th {\n",
              "        text-align: right;\n",
              "    }\n",
              "</style>\n",
              "<table border=\"1\" class=\"dataframe\">\n",
              "  <thead>\n",
              "    <tr style=\"text-align: right;\">\n",
              "      <th></th>\n",
              "      <th>sepal length (cm)</th>\n",
              "      <th>sepal width (cm)</th>\n",
              "      <th>petal length (cm)</th>\n",
              "      <th>petal width (cm)</th>\n",
              "      <th>species</th>\n",
              "    </tr>\n",
              "  </thead>\n",
              "  <tbody>\n",
              "    <tr>\n",
              "      <th>0</th>\n",
              "      <td>5.1</td>\n",
              "      <td>3.5</td>\n",
              "      <td>1.4</td>\n",
              "      <td>0.2</td>\n",
              "      <td>setosa</td>\n",
              "    </tr>\n",
              "    <tr>\n",
              "      <th>1</th>\n",
              "      <td>4.9</td>\n",
              "      <td>3.0</td>\n",
              "      <td>1.4</td>\n",
              "      <td>0.2</td>\n",
              "      <td>setosa</td>\n",
              "    </tr>\n",
              "    <tr>\n",
              "      <th>2</th>\n",
              "      <td>4.7</td>\n",
              "      <td>3.2</td>\n",
              "      <td>1.3</td>\n",
              "      <td>0.2</td>\n",
              "      <td>setosa</td>\n",
              "    </tr>\n",
              "    <tr>\n",
              "      <th>3</th>\n",
              "      <td>4.6</td>\n",
              "      <td>3.1</td>\n",
              "      <td>1.5</td>\n",
              "      <td>0.2</td>\n",
              "      <td>setosa</td>\n",
              "    </tr>\n",
              "    <tr>\n",
              "      <th>4</th>\n",
              "      <td>5.0</td>\n",
              "      <td>3.6</td>\n",
              "      <td>1.4</td>\n",
              "      <td>0.2</td>\n",
              "      <td>setosa</td>\n",
              "    </tr>\n",
              "  </tbody>\n",
              "</table>\n",
              "</div>"
            ],
            "text/plain": [
              "   sepal length (cm)  sepal width (cm)  ...  petal width (cm)  species\n",
              "0                5.1               3.5  ...               0.2   setosa\n",
              "1                4.9               3.0  ...               0.2   setosa\n",
              "2                4.7               3.2  ...               0.2   setosa\n",
              "3                4.6               3.1  ...               0.2   setosa\n",
              "4                5.0               3.6  ...               0.2   setosa\n",
              "\n",
              "[5 rows x 5 columns]"
            ]
          },
          "metadata": {
            "tags": []
          },
          "execution_count": 3
        }
      ]
    },
    {
      "cell_type": "code",
      "metadata": {
        "colab": {
          "base_uri": "https://localhost:8080/",
          "height": 206
        },
        "id": "36ei7Dz19FrZ",
        "outputId": "be37edb2-6930-41fe-f791-b35a3513e07c"
      },
      "source": [
        "# Create a new column that for each row, generates a random number between 0 and 1, and\n",
        "# if that value is less than or equal to .75, then sets the value of that cell as True\n",
        "# and false otherwise. This is a quick and dirty way of randomly assigning some rows to\n",
        "# be used as the training data and some as the test data.\n",
        "df['is_train'] = np.random.uniform(0, 1, len(df)) <= .75\n",
        "\n",
        "# View the top 5 rows\n",
        "df.head()"
      ],
      "execution_count": null,
      "outputs": [
        {
          "output_type": "execute_result",
          "data": {
            "text/html": [
              "<div>\n",
              "<style scoped>\n",
              "    .dataframe tbody tr th:only-of-type {\n",
              "        vertical-align: middle;\n",
              "    }\n",
              "\n",
              "    .dataframe tbody tr th {\n",
              "        vertical-align: top;\n",
              "    }\n",
              "\n",
              "    .dataframe thead th {\n",
              "        text-align: right;\n",
              "    }\n",
              "</style>\n",
              "<table border=\"1\" class=\"dataframe\">\n",
              "  <thead>\n",
              "    <tr style=\"text-align: right;\">\n",
              "      <th></th>\n",
              "      <th>sepal length (cm)</th>\n",
              "      <th>sepal width (cm)</th>\n",
              "      <th>petal length (cm)</th>\n",
              "      <th>petal width (cm)</th>\n",
              "      <th>species</th>\n",
              "      <th>is_train</th>\n",
              "    </tr>\n",
              "  </thead>\n",
              "  <tbody>\n",
              "    <tr>\n",
              "      <th>0</th>\n",
              "      <td>5.1</td>\n",
              "      <td>3.5</td>\n",
              "      <td>1.4</td>\n",
              "      <td>0.2</td>\n",
              "      <td>setosa</td>\n",
              "      <td>True</td>\n",
              "    </tr>\n",
              "    <tr>\n",
              "      <th>1</th>\n",
              "      <td>4.9</td>\n",
              "      <td>3.0</td>\n",
              "      <td>1.4</td>\n",
              "      <td>0.2</td>\n",
              "      <td>setosa</td>\n",
              "      <td>True</td>\n",
              "    </tr>\n",
              "    <tr>\n",
              "      <th>2</th>\n",
              "      <td>4.7</td>\n",
              "      <td>3.2</td>\n",
              "      <td>1.3</td>\n",
              "      <td>0.2</td>\n",
              "      <td>setosa</td>\n",
              "      <td>True</td>\n",
              "    </tr>\n",
              "    <tr>\n",
              "      <th>3</th>\n",
              "      <td>4.6</td>\n",
              "      <td>3.1</td>\n",
              "      <td>1.5</td>\n",
              "      <td>0.2</td>\n",
              "      <td>setosa</td>\n",
              "      <td>True</td>\n",
              "    </tr>\n",
              "    <tr>\n",
              "      <th>4</th>\n",
              "      <td>5.0</td>\n",
              "      <td>3.6</td>\n",
              "      <td>1.4</td>\n",
              "      <td>0.2</td>\n",
              "      <td>setosa</td>\n",
              "      <td>True</td>\n",
              "    </tr>\n",
              "  </tbody>\n",
              "</table>\n",
              "</div>"
            ],
            "text/plain": [
              "   sepal length (cm)  sepal width (cm)  ...  species  is_train\n",
              "0                5.1               3.5  ...   setosa      True\n",
              "1                4.9               3.0  ...   setosa      True\n",
              "2                4.7               3.2  ...   setosa      True\n",
              "3                4.6               3.1  ...   setosa      True\n",
              "4                5.0               3.6  ...   setosa      True\n",
              "\n",
              "[5 rows x 6 columns]"
            ]
          },
          "metadata": {
            "tags": []
          },
          "execution_count": 4
        }
      ]
    },
    {
      "cell_type": "code",
      "metadata": {
        "id": "4IOvW7Hl9IeZ"
      },
      "source": [
        "# Create two new dataframes, one with the training rows, one with the test rows\n",
        "train, test = df[df['is_train']==True], df[df['is_train']==False]\n",
        "\n",
        "# Show the number of observations for the test and training dataframes\n",
        "print('Number of observations in the training data:', len(train))\n",
        "print('Number of observations in the test data:',len(test))"
      ],
      "execution_count": null,
      "outputs": []
    },
    {
      "cell_type": "markdown",
      "metadata": {
        "id": "7E7xcXqr9Yx5"
      },
      "source": [
        "**Preprocess Data**\n"
      ]
    },
    {
      "cell_type": "code",
      "metadata": {
        "colab": {
          "base_uri": "https://localhost:8080/"
        },
        "id": "AFWwzTWj9POQ",
        "outputId": "901a75ec-c42e-4e46-b39d-9df76a702a89"
      },
      "source": [
        "# Create a list of the feature column's names\n",
        "features = df.columns[:4]\n",
        "\n",
        "# View features\n",
        "features"
      ],
      "execution_count": null,
      "outputs": [
        {
          "output_type": "execute_result",
          "data": {
            "text/plain": [
              "Index(['sepal length (cm)', 'sepal width (cm)', 'petal length (cm)',\n",
              "       'petal width (cm)'],\n",
              "      dtype='object')"
            ]
          },
          "metadata": {
            "tags": []
          },
          "execution_count": 8
        }
      ]
    },
    {
      "cell_type": "code",
      "metadata": {
        "colab": {
          "base_uri": "https://localhost:8080/"
        },
        "id": "xUzR8jrK9LPz",
        "outputId": "145e70da-78c5-4115-8636-abaed6deb947"
      },
      "source": [
        "# train['species'] contains the actual species names. Before we can use it,\n",
        "# we need to convert each species name into a digit. So, in this case there\n",
        "# are three species, which have been coded as 0, 1, or 2.\n",
        "y = pd.factorize(train['species'])[0]\n",
        "\n",
        "# View target\n",
        "y"
      ],
      "execution_count": null,
      "outputs": [
        {
          "output_type": "execute_result",
          "data": {
            "text/plain": [
              "array([0, 0, 0, 0, 0, 0, 0, 0, 0, 0, 0, 0, 0, 0, 0, 0, 0, 0, 0, 0, 0, 0,\n",
              "       0, 0, 0, 0, 0, 0, 0, 0, 0, 0, 0, 0, 0, 0, 0, 1, 1, 1, 1, 1, 1, 1,\n",
              "       1, 1, 1, 1, 1, 1, 1, 1, 1, 1, 1, 1, 1, 1, 1, 1, 1, 1, 1, 1, 1, 1,\n",
              "       1, 1, 1, 1, 1, 1, 1, 1, 1, 1, 1, 1, 1, 1, 2, 2, 2, 2, 2, 2, 2, 2,\n",
              "       2, 2, 2, 2, 2, 2, 2, 2, 2, 2, 2, 2, 2, 2, 2, 2, 2, 2, 2, 2, 2, 2,\n",
              "       2, 2, 2, 2, 2, 2, 2, 2])"
            ]
          },
          "metadata": {
            "tags": []
          },
          "execution_count": 9
        }
      ]
    },
    {
      "cell_type": "code",
      "metadata": {
        "colab": {
          "base_uri": "https://localhost:8080/"
        },
        "id": "IahAlnjG9mbG",
        "outputId": "ecc0b321-a17c-4aa6-d24c-cc893cce604f"
      },
      "source": [
        "# Create a random forest Classifier. By convention, clf means 'Classifier'\n",
        "clf = RandomForestClassifier(n_jobs=2, random_state=0)\n",
        "\n",
        "# Train the Classifier to take the training features and learn how they relate\n",
        "# to the training y (the species)\n",
        "clf.fit(train[features], y)"
      ],
      "execution_count": null,
      "outputs": [
        {
          "output_type": "execute_result",
          "data": {
            "text/plain": [
              "RandomForestClassifier(bootstrap=True, ccp_alpha=0.0, class_weight=None,\n",
              "                       criterion='gini', max_depth=None, max_features='auto',\n",
              "                       max_leaf_nodes=None, max_samples=None,\n",
              "                       min_impurity_decrease=0.0, min_impurity_split=None,\n",
              "                       min_samples_leaf=1, min_samples_split=2,\n",
              "                       min_weight_fraction_leaf=0.0, n_estimators=100, n_jobs=2,\n",
              "                       oob_score=False, random_state=0, verbose=0,\n",
              "                       warm_start=False)"
            ]
          },
          "metadata": {
            "tags": []
          },
          "execution_count": 10
        }
      ]
    },
    {
      "cell_type": "markdown",
      "metadata": {
        "id": "-CgGdvjs9qLk"
      },
      "source": [
        "Huzzah! We have done it! We have officially trained our random forest Classifier! Now let’s play with it. The Classifier model itself is stored in the clf variable."
      ]
    },
    {
      "cell_type": "markdown",
      "metadata": {
        "id": "2vywk0XD9tH4"
      },
      "source": [
        "**Apply Classifier To Test Data**\n"
      ]
    },
    {
      "cell_type": "code",
      "metadata": {
        "colab": {
          "base_uri": "https://localhost:8080/"
        },
        "id": "mKyHNYg-9xWt",
        "outputId": "ec2426c1-ee91-4938-b4d4-b13830b289ba"
      },
      "source": [
        "# Apply the Classifier we trained to the test data (which, remember, it has never seen before)\n",
        "clf.predict(test[features])"
      ],
      "execution_count": null,
      "outputs": [
        {
          "output_type": "execute_result",
          "data": {
            "text/plain": [
              "array([0, 0, 0, 0, 0, 0, 0, 0, 0, 0, 0, 0, 0, 1, 1, 1, 2, 2, 1, 1, 2, 2,\n",
              "       2, 2, 2, 2, 2, 2, 2, 2, 2, 2])"
            ]
          },
          "metadata": {
            "tags": []
          },
          "execution_count": 11
        }
      ]
    },
    {
      "cell_type": "markdown",
      "metadata": {
        "id": "8YuugIx894y8"
      },
      "source": [
        "What are you looking at above? Remember that we coded each of the three species of plant as 0, 1, or 2. What the list of numbers above is showing you is what species our model predicts each plant is based on the the sepal length, sepal width, petal length, and petal width. How confident is the classifier about each plant? We can see that too.\n",
        "\n"
      ]
    },
    {
      "cell_type": "code",
      "metadata": {
        "colab": {
          "base_uri": "https://localhost:8080/"
        },
        "id": "evgnn8N291sf",
        "outputId": "dcaa4d03-058f-405d-df40-623b02adfd8b"
      },
      "source": [
        "# View the predicted probabilities of the first 10 observations\n",
        "clf.predict_proba(test[features])[0:10]"
      ],
      "execution_count": null,
      "outputs": [
        {
          "output_type": "execute_result",
          "data": {
            "text/plain": [
              "array([[1.  , 0.  , 0.  ],\n",
              "       [1.  , 0.  , 0.  ],\n",
              "       [1.  , 0.  , 0.  ],\n",
              "       [1.  , 0.  , 0.  ],\n",
              "       [1.  , 0.  , 0.  ],\n",
              "       [0.95, 0.05, 0.  ],\n",
              "       [1.  , 0.  , 0.  ],\n",
              "       [0.99, 0.01, 0.  ],\n",
              "       [1.  , 0.  , 0.  ],\n",
              "       [1.  , 0.  , 0.  ]])"
            ]
          },
          "metadata": {
            "tags": []
          },
          "execution_count": 12
        }
      ]
    },
    {
      "cell_type": "markdown",
      "metadata": {
        "id": "5MdboXky98fk"
      },
      "source": [
        "There are three species of plant, thus [ 1. , 0. , 0. ] tells us that the classifier is certain that the plant is the first class. Taking another example, [ 0.9, 0.1, 0. ] tells us that the classifier gives a 90% probability the plant belongs to the first class and a 10% probability the plant belongs to the second class. Because 90 is greater than 10, the classifier predicts the plant is the first class.\n",
        "\n"
      ]
    },
    {
      "cell_type": "markdown",
      "metadata": {
        "id": "WrhPXtDZ05s9"
      },
      "source": [
        "Support Vector Machines\n",
        "\n",
        "A support vector machine (SVM) uses algorithms to train and classify data within degrees of polarity, taking it to a degree beyond X/Y prediction. \n",
        "\n",
        "For a simple visual explanation, we’ll use two tags: red and blue, with two data features: X and Y, then train our classifier to output an X/Y coordinate as either red or blue."
      ]
    },
    {
      "cell_type": "markdown",
      "metadata": {
        "id": "vClrUTdm994J"
      },
      "source": [
        "**Evaluate Classifier**"
      ]
    },
    {
      "cell_type": "markdown",
      "metadata": {
        "id": "W3rqQc0J-JFF"
      },
      "source": [
        "Now that we have predicted the species of all plants in the test data, we can compare our predicted species with the that plant’s actual species."
      ]
    },
    {
      "cell_type": "code",
      "metadata": {
        "id": "9IbqjAMy1Kum",
        "colab": {
          "base_uri": "https://localhost:8080/"
        },
        "outputId": "c834e8e8-ecd1-4071-cc8f-88367e3e27e2"
      },
      "source": [
        "# Create actual english names for the plants for each predicted plant class\n",
        "preds = iris.target_names[clf.predict(test[features])]\n",
        "\n",
        "# View the PREDICTED species for the first five observations\n",
        "preds[0:5]"
      ],
      "execution_count": null,
      "outputs": [
        {
          "output_type": "execute_result",
          "data": {
            "text/plain": [
              "array(['setosa', 'setosa', 'setosa', 'setosa', 'setosa'], dtype='<U10')"
            ]
          },
          "metadata": {
            "tags": []
          },
          "execution_count": 14
        }
      ]
    },
    {
      "cell_type": "code",
      "metadata": {
        "colab": {
          "base_uri": "https://localhost:8080/"
        },
        "id": "bsnpOl29-T4I",
        "outputId": "15034e71-9aea-469e-9521-f1b7118b337b"
      },
      "source": [
        "# View the ACTUAL species for the first five observations\n",
        "test['species'].head()"
      ],
      "execution_count": null,
      "outputs": [
        {
          "output_type": "execute_result",
          "data": {
            "text/plain": [
              "7     setosa\n",
              "8     setosa\n",
              "10    setosa\n",
              "13    setosa\n",
              "17    setosa\n",
              "Name: species, dtype: category\n",
              "Categories (3, object): ['setosa', 'versicolor', 'virginica']"
            ]
          },
          "metadata": {
            "tags": []
          },
          "execution_count": 15
        }
      ]
    },
    {
      "cell_type": "markdown",
      "metadata": {
        "id": "-d-qq5f4-ZFZ"
      },
      "source": [
        "That looks pretty good! At least for the first five observations. Now let’s use look at all the data."
      ]
    },
    {
      "cell_type": "markdown",
      "metadata": {
        "id": "gvoygwxn-Ez8"
      },
      "source": [
        "**Create a confusion matrix**\n",
        "\n",
        "A confusion matrix can be, no pun intended, a little confusing to interpret at first, but it is actually very straightforward. The columns are the species we predicted for the test data and the rows are the actual species for the test data. So, if we take the top row, we can wee that we predicted all 13 setosa plants in the test data perfectly. However, in the next row, we predicted 5 of the versicolor plants correctly, but mis-predicted two of the versicolor plants as virginica.\n",
        "\n",
        "The short explanation of how to interpret a confusion matrix is: anything on the diagonal was classified correctly and anything off the diagonal was classified incorrectly."
      ]
    },
    {
      "cell_type": "code",
      "metadata": {
        "colab": {
          "base_uri": "https://localhost:8080/",
          "height": 175
        },
        "id": "-uL0zYyv-m2o",
        "outputId": "cbff3cd5-bd6c-4b58-a314-8456ddfc1fd5"
      },
      "source": [
        "# Create confusion matrix\n",
        "pd.crosstab(test['species'], preds, rownames=['Actual Species'], colnames=['Predicted Species'])"
      ],
      "execution_count": null,
      "outputs": [
        {
          "output_type": "execute_result",
          "data": {
            "text/html": [
              "<div>\n",
              "<style scoped>\n",
              "    .dataframe tbody tr th:only-of-type {\n",
              "        vertical-align: middle;\n",
              "    }\n",
              "\n",
              "    .dataframe tbody tr th {\n",
              "        vertical-align: top;\n",
              "    }\n",
              "\n",
              "    .dataframe thead th {\n",
              "        text-align: right;\n",
              "    }\n",
              "</style>\n",
              "<table border=\"1\" class=\"dataframe\">\n",
              "  <thead>\n",
              "    <tr style=\"text-align: right;\">\n",
              "      <th>Predicted Species</th>\n",
              "      <th>setosa</th>\n",
              "      <th>versicolor</th>\n",
              "      <th>virginica</th>\n",
              "    </tr>\n",
              "    <tr>\n",
              "      <th>Actual Species</th>\n",
              "      <th></th>\n",
              "      <th></th>\n",
              "      <th></th>\n",
              "    </tr>\n",
              "  </thead>\n",
              "  <tbody>\n",
              "    <tr>\n",
              "      <th>setosa</th>\n",
              "      <td>13</td>\n",
              "      <td>0</td>\n",
              "      <td>0</td>\n",
              "    </tr>\n",
              "    <tr>\n",
              "      <th>versicolor</th>\n",
              "      <td>0</td>\n",
              "      <td>5</td>\n",
              "      <td>2</td>\n",
              "    </tr>\n",
              "    <tr>\n",
              "      <th>virginica</th>\n",
              "      <td>0</td>\n",
              "      <td>0</td>\n",
              "      <td>12</td>\n",
              "    </tr>\n",
              "  </tbody>\n",
              "</table>\n",
              "</div>"
            ],
            "text/plain": [
              "Predicted Species  setosa  versicolor  virginica\n",
              "Actual Species                                  \n",
              "setosa                 13           0          0\n",
              "versicolor              0           5          2\n",
              "virginica               0           0         12"
            ]
          },
          "metadata": {
            "tags": []
          },
          "execution_count": 16
        }
      ]
    },
    {
      "cell_type": "markdown",
      "metadata": {
        "id": "SBCkGuBR-r0o"
      },
      "source": [
        "**View Feature Importance**\n",
        "\n",
        "While we don’t get regression coefficients like with OLS, we do get a score telling us how important each feature was in classifying. This is one of the most powerful parts of random forests, because we can clearly see that petal width was more important in classification than sepal width."
      ]
    },
    {
      "cell_type": "code",
      "metadata": {
        "colab": {
          "base_uri": "https://localhost:8080/"
        },
        "id": "Q7oZkz0H-unM",
        "outputId": "32cd7ef3-d1a1-4221-f290-034f41465a17"
      },
      "source": [
        "# View a list of the features and their importance scores\n",
        "list(zip(train[features], clf.feature_importances_))"
      ],
      "execution_count": null,
      "outputs": [
        {
          "output_type": "execute_result",
          "data": {
            "text/plain": [
              "[('sepal length (cm)', 0.08474010289429795),\n",
              " ('sepal width (cm)', 0.022461263894393204),\n",
              " ('petal length (cm)', 0.4464851467243143),\n",
              " ('petal width (cm)', 0.4463134864869946)]"
            ]
          },
          "metadata": {
            "tags": []
          },
          "execution_count": 18
        }
      ]
    },
    {
      "cell_type": "markdown",
      "metadata": {
        "id": "480NIBPD0-V5"
      },
      "source": [
        ""
      ]
    },
    {
      "cell_type": "code",
      "metadata": {
        "id": "YCGd7zwkHMzv"
      },
      "source": [
        ""
      ],
      "execution_count": null,
      "outputs": []
    },
    {
      "cell_type": "markdown",
      "metadata": {
        "id": "mAVIWX0ygSsh"
      },
      "source": [
        "Download and Prepare Data\n",
        "\n",
        "Download the UCI Bike Sharing\\texttt{UCI Bike Sharing}UCI Bike Sharing dataset from https://archive.ics.uci.edu/ml/datasets/bike+sharing+dataset. \n",
        "Import the day.csv\\texttt{day.csv}day.csv dataset using pandas\\texttt{pandas}pandas. \n",
        "Print and investiage summary statistics using df.describe()\\texttt{df.describe()}df.describe(). \n",
        "Remove NaN\\texttt{NaN}NaN rows as well as columns representing components of the overall count. For your convienience, you can drop the datetime as well.\n"
      ]
    },
    {
      "cell_type": "markdown",
      "metadata": {
        "id": "BrTVDy16kTOk"
      },
      "source": [
        "BICING DATA Analysis\n",
        "\n",
        "\n",
        "1.   https://github.com/jaumevr15/Bicing-Stations-Analysis\n",
        "2.   https://github.com/lechatquidanse/bicing-prediction-api\n",
        "3.   https://webthesis.biblio.polito.it/7999/1/tesi.pdf"
      ]
    },
    {
      "cell_type": "code",
      "metadata": {
        "id": "zAmULLb_gDMD"
      },
      "source": [
        "import pandas as pd\n",
        "import numpy as np\n",
        "from pprint import pprint\n",
        "\n",
        "lp = 'day.csv'\n",
        "\n",
        "df = pd.read_csv(lp)"
      ],
      "execution_count": null,
      "outputs": []
    },
    {
      "cell_type": "code",
      "metadata": {
        "id": "Bwy0SD09gfrr",
        "colab": {
          "base_uri": "https://localhost:8080/",
          "height": 204
        },
        "outputId": "cb184786-e10a-481c-b194-0a633915e808"
      },
      "source": [
        "df.head()"
      ],
      "execution_count": null,
      "outputs": [
        {
          "output_type": "execute_result",
          "data": {
            "text/html": [
              "<div>\n",
              "<style scoped>\n",
              "    .dataframe tbody tr th:only-of-type {\n",
              "        vertical-align: middle;\n",
              "    }\n",
              "\n",
              "    .dataframe tbody tr th {\n",
              "        vertical-align: top;\n",
              "    }\n",
              "\n",
              "    .dataframe thead th {\n",
              "        text-align: right;\n",
              "    }\n",
              "</style>\n",
              "<table border=\"1\" class=\"dataframe\">\n",
              "  <thead>\n",
              "    <tr style=\"text-align: right;\">\n",
              "      <th></th>\n",
              "      <th>instant</th>\n",
              "      <th>dteday</th>\n",
              "      <th>season</th>\n",
              "      <th>yr</th>\n",
              "      <th>mnth</th>\n",
              "      <th>holiday</th>\n",
              "      <th>weekday</th>\n",
              "      <th>workingday</th>\n",
              "      <th>weathersit</th>\n",
              "      <th>temp</th>\n",
              "      <th>atemp</th>\n",
              "      <th>hum</th>\n",
              "      <th>windspeed</th>\n",
              "      <th>casual</th>\n",
              "      <th>registered</th>\n",
              "      <th>cnt</th>\n",
              "    </tr>\n",
              "  </thead>\n",
              "  <tbody>\n",
              "    <tr>\n",
              "      <th>0</th>\n",
              "      <td>1</td>\n",
              "      <td>2011-01-01</td>\n",
              "      <td>1</td>\n",
              "      <td>0</td>\n",
              "      <td>1</td>\n",
              "      <td>0</td>\n",
              "      <td>6</td>\n",
              "      <td>0</td>\n",
              "      <td>2</td>\n",
              "      <td>0.344167</td>\n",
              "      <td>0.363625</td>\n",
              "      <td>0.805833</td>\n",
              "      <td>0.160446</td>\n",
              "      <td>331</td>\n",
              "      <td>654</td>\n",
              "      <td>985</td>\n",
              "    </tr>\n",
              "    <tr>\n",
              "      <th>1</th>\n",
              "      <td>2</td>\n",
              "      <td>2011-01-02</td>\n",
              "      <td>1</td>\n",
              "      <td>0</td>\n",
              "      <td>1</td>\n",
              "      <td>0</td>\n",
              "      <td>0</td>\n",
              "      <td>0</td>\n",
              "      <td>2</td>\n",
              "      <td>0.363478</td>\n",
              "      <td>0.353739</td>\n",
              "      <td>0.696087</td>\n",
              "      <td>0.248539</td>\n",
              "      <td>131</td>\n",
              "      <td>670</td>\n",
              "      <td>801</td>\n",
              "    </tr>\n",
              "    <tr>\n",
              "      <th>2</th>\n",
              "      <td>3</td>\n",
              "      <td>2011-01-03</td>\n",
              "      <td>1</td>\n",
              "      <td>0</td>\n",
              "      <td>1</td>\n",
              "      <td>0</td>\n",
              "      <td>1</td>\n",
              "      <td>1</td>\n",
              "      <td>1</td>\n",
              "      <td>0.196364</td>\n",
              "      <td>0.189405</td>\n",
              "      <td>0.437273</td>\n",
              "      <td>0.248309</td>\n",
              "      <td>120</td>\n",
              "      <td>1229</td>\n",
              "      <td>1349</td>\n",
              "    </tr>\n",
              "    <tr>\n",
              "      <th>3</th>\n",
              "      <td>4</td>\n",
              "      <td>2011-01-04</td>\n",
              "      <td>1</td>\n",
              "      <td>0</td>\n",
              "      <td>1</td>\n",
              "      <td>0</td>\n",
              "      <td>2</td>\n",
              "      <td>1</td>\n",
              "      <td>1</td>\n",
              "      <td>0.200000</td>\n",
              "      <td>0.212122</td>\n",
              "      <td>0.590435</td>\n",
              "      <td>0.160296</td>\n",
              "      <td>108</td>\n",
              "      <td>1454</td>\n",
              "      <td>1562</td>\n",
              "    </tr>\n",
              "    <tr>\n",
              "      <th>4</th>\n",
              "      <td>5</td>\n",
              "      <td>2011-01-05</td>\n",
              "      <td>1</td>\n",
              "      <td>0</td>\n",
              "      <td>1</td>\n",
              "      <td>0</td>\n",
              "      <td>3</td>\n",
              "      <td>1</td>\n",
              "      <td>1</td>\n",
              "      <td>0.226957</td>\n",
              "      <td>0.229270</td>\n",
              "      <td>0.436957</td>\n",
              "      <td>0.186900</td>\n",
              "      <td>82</td>\n",
              "      <td>1518</td>\n",
              "      <td>1600</td>\n",
              "    </tr>\n",
              "  </tbody>\n",
              "</table>\n",
              "</div>"
            ],
            "text/plain": [
              "   instant      dteday  season  yr  ...  windspeed  casual  registered   cnt\n",
              "0        1  2011-01-01       1   0  ...   0.160446     331         654   985\n",
              "1        2  2011-01-02       1   0  ...   0.248539     131         670   801\n",
              "2        3  2011-01-03       1   0  ...   0.248309     120        1229  1349\n",
              "3        4  2011-01-04       1   0  ...   0.160296     108        1454  1562\n",
              "4        5  2011-01-05       1   0  ...   0.186900      82        1518  1600\n",
              "\n",
              "[5 rows x 16 columns]"
            ]
          },
          "metadata": {
            "tags": []
          },
          "execution_count": 5
        }
      ]
    },
    {
      "cell_type": "code",
      "metadata": {
        "id": "qZ_fBduJgmHc",
        "colab": {
          "base_uri": "https://localhost:8080/",
          "height": 297
        },
        "outputId": "6c3f6214-6ad9-4574-cf14-120d1a85531c"
      },
      "source": [
        "df.describe()"
      ],
      "execution_count": null,
      "outputs": [
        {
          "output_type": "execute_result",
          "data": {
            "text/html": [
              "<div>\n",
              "<style scoped>\n",
              "    .dataframe tbody tr th:only-of-type {\n",
              "        vertical-align: middle;\n",
              "    }\n",
              "\n",
              "    .dataframe tbody tr th {\n",
              "        vertical-align: top;\n",
              "    }\n",
              "\n",
              "    .dataframe thead th {\n",
              "        text-align: right;\n",
              "    }\n",
              "</style>\n",
              "<table border=\"1\" class=\"dataframe\">\n",
              "  <thead>\n",
              "    <tr style=\"text-align: right;\">\n",
              "      <th></th>\n",
              "      <th>instant</th>\n",
              "      <th>season</th>\n",
              "      <th>yr</th>\n",
              "      <th>mnth</th>\n",
              "      <th>holiday</th>\n",
              "      <th>weekday</th>\n",
              "      <th>workingday</th>\n",
              "      <th>weathersit</th>\n",
              "      <th>temp</th>\n",
              "      <th>atemp</th>\n",
              "      <th>hum</th>\n",
              "      <th>windspeed</th>\n",
              "      <th>casual</th>\n",
              "      <th>registered</th>\n",
              "      <th>cnt</th>\n",
              "    </tr>\n",
              "  </thead>\n",
              "  <tbody>\n",
              "    <tr>\n",
              "      <th>count</th>\n",
              "      <td>731.000000</td>\n",
              "      <td>731.000000</td>\n",
              "      <td>731.000000</td>\n",
              "      <td>731.000000</td>\n",
              "      <td>731.000000</td>\n",
              "      <td>731.000000</td>\n",
              "      <td>731.000000</td>\n",
              "      <td>731.000000</td>\n",
              "      <td>731.000000</td>\n",
              "      <td>731.000000</td>\n",
              "      <td>731.000000</td>\n",
              "      <td>731.000000</td>\n",
              "      <td>731.000000</td>\n",
              "      <td>731.000000</td>\n",
              "      <td>731.000000</td>\n",
              "    </tr>\n",
              "    <tr>\n",
              "      <th>mean</th>\n",
              "      <td>366.000000</td>\n",
              "      <td>2.496580</td>\n",
              "      <td>0.500684</td>\n",
              "      <td>6.519836</td>\n",
              "      <td>0.028728</td>\n",
              "      <td>2.997264</td>\n",
              "      <td>0.683995</td>\n",
              "      <td>1.395349</td>\n",
              "      <td>0.495385</td>\n",
              "      <td>0.474354</td>\n",
              "      <td>0.627894</td>\n",
              "      <td>0.190486</td>\n",
              "      <td>848.176471</td>\n",
              "      <td>3656.172367</td>\n",
              "      <td>4504.348837</td>\n",
              "    </tr>\n",
              "    <tr>\n",
              "      <th>std</th>\n",
              "      <td>211.165812</td>\n",
              "      <td>1.110807</td>\n",
              "      <td>0.500342</td>\n",
              "      <td>3.451913</td>\n",
              "      <td>0.167155</td>\n",
              "      <td>2.004787</td>\n",
              "      <td>0.465233</td>\n",
              "      <td>0.544894</td>\n",
              "      <td>0.183051</td>\n",
              "      <td>0.162961</td>\n",
              "      <td>0.142429</td>\n",
              "      <td>0.077498</td>\n",
              "      <td>686.622488</td>\n",
              "      <td>1560.256377</td>\n",
              "      <td>1937.211452</td>\n",
              "    </tr>\n",
              "    <tr>\n",
              "      <th>min</th>\n",
              "      <td>1.000000</td>\n",
              "      <td>1.000000</td>\n",
              "      <td>0.000000</td>\n",
              "      <td>1.000000</td>\n",
              "      <td>0.000000</td>\n",
              "      <td>0.000000</td>\n",
              "      <td>0.000000</td>\n",
              "      <td>1.000000</td>\n",
              "      <td>0.059130</td>\n",
              "      <td>0.079070</td>\n",
              "      <td>0.000000</td>\n",
              "      <td>0.022392</td>\n",
              "      <td>2.000000</td>\n",
              "      <td>20.000000</td>\n",
              "      <td>22.000000</td>\n",
              "    </tr>\n",
              "    <tr>\n",
              "      <th>25%</th>\n",
              "      <td>183.500000</td>\n",
              "      <td>2.000000</td>\n",
              "      <td>0.000000</td>\n",
              "      <td>4.000000</td>\n",
              "      <td>0.000000</td>\n",
              "      <td>1.000000</td>\n",
              "      <td>0.000000</td>\n",
              "      <td>1.000000</td>\n",
              "      <td>0.337083</td>\n",
              "      <td>0.337842</td>\n",
              "      <td>0.520000</td>\n",
              "      <td>0.134950</td>\n",
              "      <td>315.500000</td>\n",
              "      <td>2497.000000</td>\n",
              "      <td>3152.000000</td>\n",
              "    </tr>\n",
              "    <tr>\n",
              "      <th>50%</th>\n",
              "      <td>366.000000</td>\n",
              "      <td>3.000000</td>\n",
              "      <td>1.000000</td>\n",
              "      <td>7.000000</td>\n",
              "      <td>0.000000</td>\n",
              "      <td>3.000000</td>\n",
              "      <td>1.000000</td>\n",
              "      <td>1.000000</td>\n",
              "      <td>0.498333</td>\n",
              "      <td>0.486733</td>\n",
              "      <td>0.626667</td>\n",
              "      <td>0.180975</td>\n",
              "      <td>713.000000</td>\n",
              "      <td>3662.000000</td>\n",
              "      <td>4548.000000</td>\n",
              "    </tr>\n",
              "    <tr>\n",
              "      <th>75%</th>\n",
              "      <td>548.500000</td>\n",
              "      <td>3.000000</td>\n",
              "      <td>1.000000</td>\n",
              "      <td>10.000000</td>\n",
              "      <td>0.000000</td>\n",
              "      <td>5.000000</td>\n",
              "      <td>1.000000</td>\n",
              "      <td>2.000000</td>\n",
              "      <td>0.655417</td>\n",
              "      <td>0.608602</td>\n",
              "      <td>0.730209</td>\n",
              "      <td>0.233214</td>\n",
              "      <td>1096.000000</td>\n",
              "      <td>4776.500000</td>\n",
              "      <td>5956.000000</td>\n",
              "    </tr>\n",
              "    <tr>\n",
              "      <th>max</th>\n",
              "      <td>731.000000</td>\n",
              "      <td>4.000000</td>\n",
              "      <td>1.000000</td>\n",
              "      <td>12.000000</td>\n",
              "      <td>1.000000</td>\n",
              "      <td>6.000000</td>\n",
              "      <td>1.000000</td>\n",
              "      <td>3.000000</td>\n",
              "      <td>0.861667</td>\n",
              "      <td>0.840896</td>\n",
              "      <td>0.972500</td>\n",
              "      <td>0.507463</td>\n",
              "      <td>3410.000000</td>\n",
              "      <td>6946.000000</td>\n",
              "      <td>8714.000000</td>\n",
              "    </tr>\n",
              "  </tbody>\n",
              "</table>\n",
              "</div>"
            ],
            "text/plain": [
              "          instant      season  ...   registered          cnt\n",
              "count  731.000000  731.000000  ...   731.000000   731.000000\n",
              "mean   366.000000    2.496580  ...  3656.172367  4504.348837\n",
              "std    211.165812    1.110807  ...  1560.256377  1937.211452\n",
              "min      1.000000    1.000000  ...    20.000000    22.000000\n",
              "25%    183.500000    2.000000  ...  2497.000000  3152.000000\n",
              "50%    366.000000    3.000000  ...  3662.000000  4548.000000\n",
              "75%    548.500000    3.000000  ...  4776.500000  5956.000000\n",
              "max    731.000000    4.000000  ...  6946.000000  8714.000000\n",
              "\n",
              "[8 rows x 15 columns]"
            ]
          },
          "metadata": {
            "tags": []
          },
          "execution_count": 6
        }
      ]
    },
    {
      "cell_type": "code",
      "metadata": {
        "id": "kWeWzB_Lgqe0",
        "colab": {
          "base_uri": "https://localhost:8080/"
        },
        "outputId": "45fd2444-6251-4a6d-a997-2ae138e48742"
      },
      "source": [
        "df.dtypes"
      ],
      "execution_count": null,
      "outputs": [
        {
          "output_type": "execute_result",
          "data": {
            "text/plain": [
              "instant         int64\n",
              "dteday         object\n",
              "season          int64\n",
              "yr              int64\n",
              "mnth            int64\n",
              "holiday         int64\n",
              "weekday         int64\n",
              "workingday      int64\n",
              "weathersit      int64\n",
              "temp          float64\n",
              "atemp         float64\n",
              "hum           float64\n",
              "windspeed     float64\n",
              "casual          int64\n",
              "registered      int64\n",
              "cnt             int64\n",
              "dtype: object"
            ]
          },
          "metadata": {
            "tags": []
          },
          "execution_count": 7
        }
      ]
    },
    {
      "cell_type": "code",
      "metadata": {
        "id": "8X-jOfqggu8x"
      },
      "source": [
        "df.dropna(inplace=True)\n",
        "X = df.drop(columns=['instant','cnt', 'dteday', 'casual', 'registered'])\n",
        "y = df['cnt']"
      ],
      "execution_count": null,
      "outputs": []
    },
    {
      "cell_type": "markdown",
      "metadata": {
        "id": "CS3I3lW-g_6h"
      },
      "source": [
        "Model Fitting\n",
        "\n",
        "Split your data into training and test set. Fit a simple, inherently interpretable model (e.g. standard linear regression) as well as a complex black-box regressor (e.g. random forest). You can use \\texttt{sklearn}. Hint: The performance of random forests can be improved by relying on tuning strategies. We have prepared a tuning grid that is appropriate for randomized search. Interested participants are invited to give it a try.\n"
      ]
    },
    {
      "cell_type": "code",
      "metadata": {
        "id": "y7ze-BIehC9q"
      },
      "source": [
        "from sklearn.model_selection import train_test_split\n",
        "\n",
        "X_train, X_test, y_train, y_test = train_test_split(X, y, test_size=0.33, random_state=123)"
      ],
      "execution_count": null,
      "outputs": []
    },
    {
      "cell_type": "markdown",
      "metadata": {
        "id": "o7memdRbhHdi"
      },
      "source": [
        "Generate the model objects: A linear regression model called reg_linand a random forest regressor called reg_ref. For the random forest, you can either use the default hyperparemeters, provide our hand-crafted hyperparameters as given in rf_params (unpack them in the function call using **rf_params or use tuning given our predefined grid (advanced)."
      ]
    },
    {
      "cell_type": "code",
      "metadata": {
        "id": "Xn15q2a9hJJM"
      },
      "source": [
        "from sklearn import linear_model\n",
        "from sklearn.ensemble import RandomForestRegressor\n",
        "from sklearn.model_selection import cross_val_score\n",
        "\n",
        "rf_params = {'n_estimators': 400,\n",
        "             'min_samples_split': 2,\n",
        "             'min_samples_leaf': 1,\n",
        "             'max_features': 'sqrt',\n",
        "             'max_depth': None,\n",
        "             'bootstrap': False}\n",
        "\n",
        "# TODO: create linear regression object reg_lin\n",
        "# TODO: create random forest object reg_rf\n",
        "reg_lin =  linear_model.LinearRegression().fit(X_train, y_train)\n",
        "reg_rf = RandomForestRegressor(**rf_params).fit(X_train, y_train)\n"
      ],
      "execution_count": null,
      "outputs": []
    },
    {
      "cell_type": "markdown",
      "metadata": {
        "id": "TE6Z5M6fhL_H"
      },
      "source": [
        "Here comes the tuning part:"
      ]
    },
    {
      "cell_type": "code",
      "metadata": {
        "colab": {
          "base_uri": "https://localhost:8080/"
        },
        "id": "sg5BAdnNhN3t",
        "outputId": "a22cbe78-9bb2-43c7-dbcb-af30a2fdcf54"
      },
      "source": [
        "from sklearn.model_selection import RandomizedSearchCV\n",
        "\n",
        "random_grid = {}\n",
        "random_grid['n_estimators'] =  [int(x) for x in np.linspace(200, 2000, 10)]\n",
        "random_grid['max_features'] = ['auto', 'sqrt']\n",
        "random_grid['max_depth'] = [int(x) for x in np.linspace(10, 110, 11)]\n",
        "random_grid['max_depth'].append(None)\n",
        "random_grid['min_samples_split'] = [2, 5, 10]\n",
        "random_grid['min_samples_leaf'] = [1, 2, 4]\n",
        "random_grid['bootstrap'] = [True, False]\n",
        "# random_grid['n_iter'] = [100]\n",
        "\n",
        "pprint(random_grid)\n",
        "\n",
        "'''\n",
        "TODO (advanced): \n",
        "Created Randomized Search CV forest based on \n",
        "reg_rf and the random grid provided above. \n",
        "Tune with 100 iterations and 3-fold crossvalidation.\n",
        "For better performance, use all your CPU cores\n",
        "by specifying n_jobs=-1.\n",
        "'''\n",
        "reg_rf_random = RandomizedSearchCV(estimator=reg_rf, param_distributions = random_grid,\n",
        "                                   n_iter = 100, cv = 3, verbose=2, random_state=42,\n",
        "                                   n_jobs=-1).fit(X_train, y_train)\n",
        "\n",
        "# reg_rf_random = RandomForestRegressor(**random_grid).fit(X_train, y_train)"
      ],
      "execution_count": null,
      "outputs": [
        {
          "output_type": "stream",
          "text": [
            "{'bootstrap': [True, False],\n",
            " 'max_depth': [10, 20, 30, 40, 50, 60, 70, 80, 90, 100, 110, None],\n",
            " 'max_features': ['auto', 'sqrt'],\n",
            " 'min_samples_leaf': [1, 2, 4],\n",
            " 'min_samples_split': [2, 5, 10],\n",
            " 'n_estimators': [200, 400, 600, 800, 1000, 1200, 1400, 1600, 1800, 2000]}\n",
            "Fitting 3 folds for each of 100 candidates, totalling 300 fits\n"
          ],
          "name": "stdout"
        },
        {
          "output_type": "stream",
          "text": [
            "[Parallel(n_jobs=-1)]: Using backend LokyBackend with 2 concurrent workers.\n",
            "[Parallel(n_jobs=-1)]: Done  37 tasks      | elapsed:  1.0min\n",
            "[Parallel(n_jobs=-1)]: Done 158 tasks      | elapsed:  4.1min\n",
            "[Parallel(n_jobs=-1)]: Done 300 out of 300 | elapsed:  7.8min finished\n"
          ],
          "name": "stderr"
        }
      ]
    },
    {
      "cell_type": "markdown",
      "metadata": {
        "id": "fMBw3YR-hQlC"
      },
      "source": [
        "Now you can fit the models you defined before."
      ]
    },
    {
      "cell_type": "code",
      "metadata": {
        "id": "Pi0Kfl7PhX9p"
      },
      "source": [
        "# fitting and evaluating the models\n",
        "\n",
        "# TODO"
      ],
      "execution_count": null,
      "outputs": []
    },
    {
      "cell_type": "markdown",
      "metadata": {
        "id": "zg0jf95ShdBh"
      },
      "source": [
        "Model evaluation\n",
        "\n",
        "Evaluate the performance of both models on the test set. Which model do you prefer to use?. I.e., look into MSE, explained variance, r2 and mean absolute error for the models we have fitted above."
      ]
    },
    {
      "cell_type": "code",
      "metadata": {
        "colab": {
          "base_uri": "https://localhost:8080/",
          "height": 231
        },
        "id": "xqqterg_hemF",
        "outputId": "74f6d432-7749-47c3-e79a-9dcd72b7dd3d"
      },
      "source": [
        "from sklearn.metrics import mean_squared_error, explained_variance_score, r2_score, mean_absolute_error\n",
        "\n",
        "# TODO\n",
        "\n",
        "# X_test, y_train, y_test \n",
        "error = mean_squared_error(predict,y_test)\n",
        "error\n",
        "# reg_rf \n",
        "# reg_rf_random "
      ],
      "execution_count": null,
      "outputs": [
        {
          "output_type": "error",
          "ename": "NameError",
          "evalue": "ignored",
          "traceback": [
            "\u001b[0;31m---------------------------------------------------------------------------\u001b[0m",
            "\u001b[0;31mNameError\u001b[0m                                 Traceback (most recent call last)",
            "\u001b[0;32m<ipython-input-12-e0a3ccd125eb>\u001b[0m in \u001b[0;36m<module>\u001b[0;34m()\u001b[0m\n\u001b[1;32m      4\u001b[0m \u001b[0;34m\u001b[0m\u001b[0m\n\u001b[1;32m      5\u001b[0m \u001b[0;31m# X_test, y_train, y_test\u001b[0m\u001b[0;34m\u001b[0m\u001b[0;34m\u001b[0m\u001b[0;34m\u001b[0m\u001b[0m\n\u001b[0;32m----> 6\u001b[0;31m \u001b[0merror\u001b[0m \u001b[0;34m=\u001b[0m \u001b[0mmean_squared_error\u001b[0m\u001b[0;34m(\u001b[0m\u001b[0mpredict\u001b[0m\u001b[0;34m,\u001b[0m\u001b[0my_test\u001b[0m\u001b[0;34m)\u001b[0m\u001b[0;34m\u001b[0m\u001b[0;34m\u001b[0m\u001b[0m\n\u001b[0m\u001b[1;32m      7\u001b[0m \u001b[0merror\u001b[0m\u001b[0;34m\u001b[0m\u001b[0;34m\u001b[0m\u001b[0m\n\u001b[1;32m      8\u001b[0m \u001b[0;31m# reg_rf\u001b[0m\u001b[0;34m\u001b[0m\u001b[0;34m\u001b[0m\u001b[0;34m\u001b[0m\u001b[0m\n",
            "\u001b[0;31mNameError\u001b[0m: name 'predict' is not defined"
          ]
        }
      ]
    },
    {
      "cell_type": "code",
      "metadata": {
        "id": "Dhm9T0wQhg39"
      },
      "source": [
        "from sklearn.metrics import mean_squared_error, explained_variance_score, r2_score, mean_absolute_error\n",
        "\n",
        "predict = reg_lin.predict(X_test)\n",
        "# reg_rf \n",
        "# reg_rf_random "
      ],
      "execution_count": null,
      "outputs": []
    },
    {
      "cell_type": "code",
      "metadata": {
        "id": "pJmVaMGLhlFS"
      },
      "source": [
        "from sklearn.metrics import mean_squared_error, explained_variance_score, r2_score, mean_absolute_error\n",
        "#  X_test, y_train, y_test \n",
        "models = [reg_lin, reg_rf, reg_rf_random]\n",
        "for model in models:\n",
        "    print(mean_squared_error(model.predict(X_test), y_test))\n",
        "    print(explained_variance_score(model.predict(X_test), y_test))\n",
        "    print(r2_score(model.predict(X_test), y_test))\n",
        "    print(mean_absolute_error(model.predict(X_test), y_test))\n",
        "    print('')\n",
        "# print(mean_squared_error(reg_lin.predict(X_test), y_test))\n",
        "# print(mean_squared_error(reg_rf.predict(X_test), y_test))\n",
        "# print(mean_squared_error(reg_rf_random.predict(X_test), y_test))\n",
        "# reg_rf \n",
        "# reg_rf_random "
      ],
      "execution_count": null,
      "outputs": []
    },
    {
      "cell_type": "markdown",
      "metadata": {
        "id": "KbtrsJlxhnU5"
      },
      "source": [
        "The Tuned Random Forest performs better. Therefore we would like to use the random forest."
      ]
    },
    {
      "cell_type": "markdown",
      "metadata": {
        "id": "rcjNMIdthpFM"
      },
      "source": [
        "Implement PFI\n",
        "\n",
        "Implement a function pfi(X,y, predict, loss, nr_perm) that estimates PFI given a prediction function, loss function and data sample. It returns a numpy array with shape (nr_perm, nr_features) where entry i,ji, ji,j is the PFI for feature XjX_jXj​ given the iii-th permutation πi\\pi_iπi​."
      ]
    },
    {
      "cell_type": "code",
      "metadata": {
        "id": "v6KHqkKOhrWv"
      },
      "source": [
        "# TODO\n",
        "def pfi(X,y, predict, loss, nr_perm):\n",
        "    X = np.zeros(X.shape[1])\n",
        "    X_train, X_test, y_train, y_test = train_test_split(X,y)\n",
        "    model = LinearRegression()\n",
        "    x_perturbed = np.random.permutation(X_train)\n",
        "    model.fit(x_perturbed,y_train)\n",
        "    y_perturbed = model.predict(x_test)\n",
        "    for i in range(nr_perm):\n",
        "        for j in range(X.shape[1]):\n",
        "            X[j] = 1/X.shape[1] * np.sum(mean_squared_error(y_perturbed ,y_test) - mean_squared_error(predict,y_test))\n",
        "    return X"
      ],
      "execution_count": null,
      "outputs": []
    },
    {
      "cell_type": "code",
      "metadata": {
        "id": "Cg_5zvXLhuhT"
      },
      "source": [
        "ax = pfi(X,y,predict,loss,20)"
      ],
      "execution_count": null,
      "outputs": []
    },
    {
      "cell_type": "code",
      "metadata": {
        "id": "6isDkPuAhyfG"
      },
      "source": [
        "len(X)\n",
        "X.shape"
      ],
      "execution_count": null,
      "outputs": []
    },
    {
      "cell_type": "code",
      "metadata": {
        "id": "eFAsiXudh0SM"
      },
      "source": [
        "import copy\n",
        "from matplotlib import pyplot as plt\n",
        "# # PFI head (xj) = 1/n sum [L(y,y_perturb)] - [L(y,y_head)]\n",
        "def pfi_joe(X_in,y_in, predict, loss, nr_perm):\n",
        "    X_in=np.array(X_in)\n",
        "    y_in=np.array(y_in)\n",
        "    nr_features = X_in.shape[1]\n",
        "    output = np.zeros((nr_perm,nr_features))\n",
        "    for j in range(nr_features):\n",
        "        for i in range(nr_perm):\n",
        "            X_permuted = copy.deepcopy(X_in)\n",
        "            X_permuted[:,j] = np.random.permutation(X_in[:,j])\n",
        "            # print(sum(X_in-X_permuted))\n",
        "            # print(np.random.permutation(X_in[:,j]))\n",
        "            # print(np.array_equal(X_permuted, X_in))\n",
        "            output[i,j] = loss(predict(X_permuted),y_in) - loss(predict(X_in),y_in)\n",
        "            # print(output[i,j])\n",
        "    return output\n",
        "outputt = pfi_joe(X_test,y_test, reg_lin.predict, explained_variance_score, 30)\n",
        "outputt.shape\n",
        "plt.plot(np.mean(outputt,0))\n",
        "print(X.columns)"
      ],
      "execution_count": null,
      "outputs": []
    },
    {
      "cell_type": "code",
      "metadata": {
        "id": "1msLRtvGh3Iw"
      },
      "source": [
        "# X_train, X_test, y_train, y_test\n",
        "models = [reg_lin, reg_rf, reg_rf_random]\n",
        "losses = [mean_squared_error, explained_variance_score, r2_score, mean_absolute_error]\n",
        "nr_perm = 20\n",
        "print(X.columns)\n",
        "for model in models:\n",
        "    for loss in losses:\n",
        "        print(model)\n",
        "        print(loss)\n",
        "        outputt = pfi_joe(X_test,y_test, model.predict, loss, nr_perm)\n",
        "        outputt.shape\n",
        "        plt.plot(np.mean(outputt,0))\n",
        "        plt.show()\n",
        "        "
      ],
      "execution_count": null,
      "outputs": []
    },
    {
      "cell_type": "markdown",
      "metadata": {
        "id": "DtPhckmwh8Ls"
      },
      "source": [
        "Using numpy, compute mean and standard deviation for the PFI estimates of each feature. Built this functionality into your PFI function, such that mean and std are returned. Using matplotlib, create a barplot with each bar representing the imp ortance of one features. Order the features by the magnitude of their PFI. Use the yerr keyword argument to include the standard devitions to the plot."
      ]
    },
    {
      "cell_type": "code",
      "metadata": {
        "id": "0cMGWZysiBFo"
      },
      "source": [
        "import matplotlib.pyplot as plt\n",
        "%matplotlib inline\n",
        "\n",
        "nr_perm = 10\n",
        "figsize = (16, 10)\n",
        "\n",
        "# TODO"
      ],
      "execution_count": null,
      "outputs": []
    },
    {
      "cell_type": "markdown",
      "metadata": {
        "id": "DFhz-qRbgKdB"
      },
      "source": [
        "In this tutorial, we will ﬁt and interpret a model ﬁtted on the bike sharing dataset. The dataset contains whether and seasonal information that can be used to predict the number of bikes that have been rented either on a daily or hourly basis.\n",
        "\n",
        "Over the course of this exercise you will ﬁt ML model on the dataset and interpret them by inspection of the parameters as well as using a self-implemented version of PFI."
      ]
    }
  ]
}