{
 "cells": [
  {
   "cell_type": "markdown",
   "metadata": {},
   "source": [
    "The Snippet takes the processed subset of single cell gene expression dataset of Arabidopsis thaliana root cells processed by 10x genomics Cell Ranger pipeline (Ryu et al., 2019), and generates the tsne graph to visualise the various clusters that can be found."
   ]
  },
  {
   "cell_type": "code",
   "execution_count": 1,
   "metadata": {},
   "outputs": [],
   "source": [
    "import numpy as np\n",
    "import pandas as pd\n",
    "import matplotlib.pyplot as plt"
   ]
  },
  {
   "cell_type": "code",
   "execution_count": 2,
   "metadata": {},
   "outputs": [],
   "source": [
    "df =  pd.read_csv(\"https://github.com/IvoLeist/ml_cnag-crg_course/raw/main/day4/data/single_cell_dataset.zip\",sep=\"\\t\",index_col=1, header=0)"
   ]
  },
  {
   "cell_type": "code",
   "execution_count": 3,
   "metadata": {},
   "outputs": [
    {
     "data": {
      "text/html": [
       "<div>\n",
       "<style scoped>\n",
       "    .dataframe tbody tr th:only-of-type {\n",
       "        vertical-align: middle;\n",
       "    }\n",
       "\n",
       "    .dataframe tbody tr th {\n",
       "        vertical-align: top;\n",
       "    }\n",
       "\n",
       "    .dataframe thead th {\n",
       "        text-align: right;\n",
       "    }\n",
       "</style>\n",
       "<table border=\"1\" class=\"dataframe\">\n",
       "  <thead>\n",
       "    <tr style=\"text-align: right;\">\n",
       "      <th></th>\n",
       "      <th>AT1G01070</th>\n",
       "      <th>HTR12</th>\n",
       "      <th>AT1G01453</th>\n",
       "      <th>ADF10</th>\n",
       "      <th>PLIM2B</th>\n",
       "      <th>SBTI1.1</th>\n",
       "      <th>GL22</th>\n",
       "      <th>GPAT2</th>\n",
       "      <th>AT1G02570</th>\n",
       "      <th>BXL2</th>\n",
       "      <th>...</th>\n",
       "      <th>AT5G66440</th>\n",
       "      <th>AT5G66580</th>\n",
       "      <th>AT5G66590</th>\n",
       "      <th>AT5G66800</th>\n",
       "      <th>AT5G66815</th>\n",
       "      <th>AT5G66860</th>\n",
       "      <th>AT5G66985</th>\n",
       "      <th>IRX14H</th>\n",
       "      <th>PER73</th>\n",
       "      <th>RPL26B</th>\n",
       "    </tr>\n",
       "    <tr>\n",
       "      <th>RPP1A</th>\n",
       "      <th></th>\n",
       "      <th></th>\n",
       "      <th></th>\n",
       "      <th></th>\n",
       "      <th></th>\n",
       "      <th></th>\n",
       "      <th></th>\n",
       "      <th></th>\n",
       "      <th></th>\n",
       "      <th></th>\n",
       "      <th></th>\n",
       "      <th></th>\n",
       "      <th></th>\n",
       "      <th></th>\n",
       "      <th></th>\n",
       "      <th></th>\n",
       "      <th></th>\n",
       "      <th></th>\n",
       "      <th></th>\n",
       "      <th></th>\n",
       "      <th></th>\n",
       "    </tr>\n",
       "  </thead>\n",
       "  <tbody>\n",
       "    <tr>\n",
       "      <th>1.40</th>\n",
       "      <td>0.51</td>\n",
       "      <td>-0.26</td>\n",
       "      <td>-0.28</td>\n",
       "      <td>-0.24</td>\n",
       "      <td>-0.14</td>\n",
       "      <td>-0.13</td>\n",
       "      <td>-0.07</td>\n",
       "      <td>-0.29</td>\n",
       "      <td>-0.31</td>\n",
       "      <td>-0.23</td>\n",
       "      <td>...</td>\n",
       "      <td>0.61</td>\n",
       "      <td>-0.55</td>\n",
       "      <td>-0.41</td>\n",
       "      <td>-0.43</td>\n",
       "      <td>2.01</td>\n",
       "      <td>3.01</td>\n",
       "      <td>-0.24</td>\n",
       "      <td>-0.18</td>\n",
       "      <td>-0.34</td>\n",
       "      <td>1.16</td>\n",
       "    </tr>\n",
       "    <tr>\n",
       "      <th>1.36</th>\n",
       "      <td>-0.22</td>\n",
       "      <td>-0.26</td>\n",
       "      <td>-0.28</td>\n",
       "      <td>-0.60</td>\n",
       "      <td>-0.51</td>\n",
       "      <td>-0.13</td>\n",
       "      <td>-0.07</td>\n",
       "      <td>-0.29</td>\n",
       "      <td>-0.31</td>\n",
       "      <td>0.81</td>\n",
       "      <td>...</td>\n",
       "      <td>-0.48</td>\n",
       "      <td>-0.55</td>\n",
       "      <td>-0.41</td>\n",
       "      <td>-0.43</td>\n",
       "      <td>-0.24</td>\n",
       "      <td>0.89</td>\n",
       "      <td>-0.24</td>\n",
       "      <td>-0.18</td>\n",
       "      <td>-0.49</td>\n",
       "      <td>-0.68</td>\n",
       "    </tr>\n",
       "  </tbody>\n",
       "</table>\n",
       "<p>2 rows × 1999 columns</p>\n",
       "</div>"
      ],
      "text/plain": [
       "       AT1G01070  HTR12  AT1G01453  ADF10  PLIM2B  SBTI1.1  GL22  GPAT2  \\\n",
       "RPP1A                                                                     \n",
       "1.40        0.51  -0.26      -0.28  -0.24   -0.14    -0.13 -0.07  -0.29   \n",
       "1.36       -0.22  -0.26      -0.28  -0.60   -0.51    -0.13 -0.07  -0.29   \n",
       "\n",
       "       AT1G02570  BXL2  ...  AT5G66440  AT5G66580  AT5G66590  AT5G66800  \\\n",
       "RPP1A                   ...                                               \n",
       "1.40       -0.31 -0.23  ...       0.61      -0.55      -0.41      -0.43   \n",
       "1.36       -0.31  0.81  ...      -0.48      -0.55      -0.41      -0.43   \n",
       "\n",
       "       AT5G66815  AT5G66860  AT5G66985  IRX14H  PER73  RPL26B  \n",
       "RPP1A                                                          \n",
       "1.40        2.01       3.01      -0.24   -0.18  -0.34    1.16  \n",
       "1.36       -0.24       0.89      -0.24   -0.18  -0.49   -0.68  \n",
       "\n",
       "[2 rows x 1999 columns]"
      ]
     },
     "execution_count": 3,
     "metadata": {},
     "output_type": "execute_result"
    }
   ],
   "source": [
    "df.head(2)"
   ]
  },
  {
   "cell_type": "code",
   "execution_count": 4,
   "metadata": {},
   "outputs": [
    {
     "data": {
      "text/plain": [
       "(4406, 1999)"
      ]
     },
     "execution_count": 4,
     "metadata": {},
     "output_type": "execute_result"
    }
   ],
   "source": [
    "df.shape"
   ]
  },
  {
   "cell_type": "code",
   "execution_count": 5,
   "metadata": {},
   "outputs": [],
   "source": [
    "from sklearn.decomposition import PCA\n",
    "import pandas as pd"
   ]
  },
  {
   "cell_type": "code",
   "execution_count": 6,
   "metadata": {},
   "outputs": [],
   "source": [
    "pca_scores = PCA().fit_transform(df)"
   ]
  },
  {
   "cell_type": "code",
   "execution_count": 7,
   "metadata": {},
   "outputs": [],
   "source": [
    "# create a dataframe of pca_scores\n",
    "df_pc = pd.DataFrame(pca_scores)"
   ]
  },
  {
   "cell_type": "code",
   "execution_count": 8,
   "metadata": {},
   "outputs": [
    {
     "name": "stdout",
     "output_type": "stream",
     "text": [
      "[t-SNE] Computing 91 nearest neighbors...\n",
      "[t-SNE] Indexed 4406 samples in 0.000s...\n",
      "[t-SNE] Computed neighbors for 4406 samples in 0.548s...\n",
      "[t-SNE] Computed conditional probabilities for sample 1000 / 4406\n",
      "[t-SNE] Computed conditional probabilities for sample 2000 / 4406\n",
      "[t-SNE] Computed conditional probabilities for sample 3000 / 4406\n",
      "[t-SNE] Computed conditional probabilities for sample 4000 / 4406\n",
      "[t-SNE] Computed conditional probabilities for sample 4406 / 4406\n",
      "[t-SNE] Mean sigma: 4.897337\n",
      "[t-SNE] KL divergence after 250 iterations with early exaggeration: 63.967659\n",
      "[t-SNE] KL divergence after 1000 iterations: 0.828433\n"
     ]
    }
   ],
   "source": [
    "# perform t-SNE on PCs scores\n",
    "# we will use first 50 PCs but this can vary\n",
    "from sklearn.manifold import TSNE\n",
    "tsne_em = TSNE(n_components=2, perplexity=30.0, early_exaggeration=12, n_iter=1000, learning_rate=368, verbose=1).fit_transform(df_pc.loc[:,0:49])"
   ]
  },
  {
   "cell_type": "code",
   "execution_count": 9,
   "metadata": {},
   "outputs": [
    {
     "data": {
      "text/plain": [
       "array([[  1.1054504,  21.742386 ],\n",
       "       [ -4.4589896,  34.529438 ],\n",
       "       [  5.0136185,  -8.737537 ],\n",
       "       ...,\n",
       "       [-21.05284  ,  -2.1200464],\n",
       "       [ 11.014936 ,   1.7652726],\n",
       "       [-15.06096  ,  -6.9123015]], dtype=float32)"
      ]
     },
     "execution_count": 9,
     "metadata": {},
     "output_type": "execute_result"
    }
   ],
   "source": [
    "tsne_em"
   ]
  },
  {
   "cell_type": "code",
   "execution_count": 10,
   "metadata": {},
   "outputs": [
    {
     "data": {
      "text/plain": [
       "{-1, 0, 1, 2, 3, 4, 5, 6, 7, 8, 9, 10, 11, 12}"
      ]
     },
     "execution_count": 10,
     "metadata": {},
     "output_type": "execute_result"
    }
   ],
   "source": [
    "from sklearn.cluster import DBSCAN\n",
    "# here eps parameter is very important and optimizing eps is essential\n",
    "# for well defined clusters. I have run DBSCAN with several eps values\n",
    "# and got good clusters with eps=3\n",
    "get_clusters = DBSCAN(eps=3, min_samples=10).fit_predict(tsne_em)\n",
    "# check unique clusters\n",
    "# -1 value represents noisy points could not assigned to any cluster\n",
    "set(get_clusters)"
   ]
  },
  {
   "cell_type": "code",
   "execution_count": 14,
   "metadata": {},
   "outputs": [
    {
     "data": {
      "text/plain": [
       "{0: 0,\n",
       " 1: 1,\n",
       " 2: 2,\n",
       " 3: 3,\n",
       " 4: 4,\n",
       " 5: 5,\n",
       " 6: 6,\n",
       " 7: 7,\n",
       " 8: 8,\n",
       " 9: 9,\n",
       " 10: 10,\n",
       " 11: 11,\n",
       " 12: 12,\n",
       " -1: 13}"
      ]
     },
     "execution_count": 14,
     "metadata": {},
     "output_type": "execute_result"
    }
   ],
   "source": [
    "colorlist=get_clusters\n",
    "colordot=('#713e5a', '#63a375', '#edc79b', '#d57a66', '#ca6680', '#395B50', '#92AFD7', '#b0413e', '#4381c1', '#736ced', '#631a86', '#de541e', '#022b3a', '#000000')\n",
    "unique_class = set(colorlist)\n",
    "assign_values = {col: i for i, col in enumerate(unique_class)}\n",
    "assign_values"
   ]
  },
  {
   "cell_type": "code",
   "execution_count": 13,
   "metadata": {},
   "outputs": [
    {
     "data": {
      "image/png": "[encoded data removed]",
      "text/plain": [
       "<Figure size 432x288 with 1 Axes>"
      ]
     },
     "metadata": {
      "needs_background": "light"
     },
     "output_type": "display_data"
    }
   ],
   "source": [
    "from matplotlib.colors import ListedColormap\n",
    "plt.subplots(figsize=(6, 4))\n",
    "colorlist=get_clusters\n",
    "colordot=('#713e5a', '#63a375', '#edc79b', '#d57a66', '#ca6680', '#395B50', '#92AFD7', '#b0413e', '#4381c1', '#736ced', '#631a86', '#de541e', '#022b3a', '#000000')\n",
    "unique_class = set(colorlist)\n",
    "assign_values = {col: i for i, col in enumerate(unique_class)}\n",
    "color_result_num = [assign_values[i] for i in colorlist]\n",
    "colour_map = ListedColormap(colordot)\n",
    "s=plt.scatter(tsne_em[:, 0], tsne_em[:, 1], c=color_result_num, cmap=colour_map,s=6, alpha=1, marker=\"o\")\n",
    "plt.legend(handles=s.legend_elements()[0], labels=list(unique_class), bbox_to_anchor=(1,1), loc=\"upper left\")\n",
    "plt.xlabel(\"t-SNE-1\", fontsize=9, fontname=\"Arial\")\n",
    "plt.ylabel(\"t-SNE-2\", fontsize=9, fontname=\"Arial\")\n",
    "plt.show()"
   ]
  },
  {
   "cell_type": "code",
   "execution_count": null,
   "metadata": {},
   "outputs": [],
   "source": []
  },
  {
   "cell_type": "code",
   "execution_count": null,
   "metadata": {},
   "outputs": [],
   "source": []
  }
 ],
 "metadata": {
  "kernelspec": {
   "display_name": "Python 3",
   "language": "python",
   "name": "python3"
  },
  "language_info": {
   "codemirror_mode": {
    "name": "ipython",
    "version": 3
   },
   "file_extension": ".py",
   "mimetype": "text/x-python",
   "name": "python",
   "nbconvert_exporter": "python",
   "pygments_lexer": "ipython3",
   "version": "3.8.6"
  }
 },
 "nbformat": 4,
 "nbformat_minor": 4
}
